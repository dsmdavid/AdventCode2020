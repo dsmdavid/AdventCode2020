{
 "cells": [
  {
   "cell_type": "markdown",
   "metadata": {},
   "source": [
    "# Rambunctious Recitation "
   ]
  },
  {
   "cell_type": "markdown",
   "metadata": {},
   "source": [
    "You catch the airport shuttle and try to book a new flight to your vacation island. Due to the storm, all direct flights have been cancelled, but a route is available to get around the storm. You take it.\n",
    "\n",
    "While you wait for your flight, you decide to check in with the Elves back at the North Pole. They're playing a memory game and are ever so excited to explain the rules!\n",
    "\n",
    "In this game, the players take turns saying numbers. They begin by taking turns reading from a list of starting numbers (your puzzle input). Then, each turn consists of considering the most recently spoken number:\n",
    "\n",
    "If that was the first time the number has been spoken, the current player says 0.\n",
    "Otherwise, the number had been spoken before; the current player announces how many turns apart the number is from when it was previously spoken.\n",
    "So, after the starting numbers, each turn results in that player speaking aloud either 0 (if the last number is new) or an age (if the last number is a repeat).\n",
    "\n",
    "For example, suppose the starting numbers are `0,3,6`:\n",
    "\n",
    "Turn 1: The 1st number spoken is a starting number, 0.  \n",
    "Turn 2: The 2nd number spoken is a starting number, 3.  \n",
    "Turn 3: The 3rd number spoken is a starting number, 6.  \n",
    "Turn 4: Now, consider the last number spoken, 6. Since that was the first time the number had been spoken, the 4th number spoken is 0.  \n",
    "Turn 5: Next, again consider the last number spoken, 0. Since it had been spoken before, the next number to speak is the difference between the turn number when it was last spoken (the previous turn, 4) and the turn number of the time it was most recently spoken before then (turn 1). Thus, the 5th number spoken is 4 - 1, 3.  \n",
    "Turn 6: The last number spoken, 3 had also been spoken before, most recently on turns 5 and 2. So, the 6th number spoken is 5 - 2, 3.  \n",
    "Turn 7: Since 3 was just spoken twice in a row, and the last two turns are 1 turn apart, the 7th number spoken is 1.  \n",
    "Turn 8: Since 1 is new, the 8th number spoken is 0.  \n",
    "Turn 9: 0 was last spoken on turns 8 and 4, so the 9th number spoken is the difference between them, 4.  \n",
    "Turn 10: 4 is new, so the 10th number spoken is 0.  \n",
    "(The game ends when the Elves get sick of playing or dinner is ready, whichever comes first.)\n",
    "\n",
    "Their question for you is: what will be the 2020th number spoken? In the example above, the 2020th number spoken will be 436.\n",
    "\n",
    "Here are a few more examples:\n",
    "\n",
    "Given the starting numbers 1,3,2, the 2020th number spoken is 1.  \n",
    "Given the starting numbers 2,1,3, the 2020th number spoken is 10.  \n",
    "Given the starting numbers 1,2,3, the 2020th number spoken is 27.  \n",
    "Given the starting numbers 2,3,1, the 2020th number spoken is 78.  \n",
    "Given the starting numbers 3,2,1, the 2020th number spoken is 438.  \n",
    "Given the starting numbers 3,1,2, the 2020th number spoken is 1836.  \n",
    "Given your starting numbers, what will be the 2020th number spoken?  \n"
   ]
  },
  {
   "cell_type": "markdown",
   "metadata": {},
   "source": [
    "## Second part"
   ]
  },
  {
   "cell_type": "markdown",
   "metadata": {},
   "source": [
    "--- Part Two ---\n",
    "Impressed, the Elves issue you a challenge: determine the 30000000th number spoken. For example, given the same starting numbers as above:\n",
    "\n",
    "Given 0,3,6, the 30000000th number spoken is 175594.  \n",
    "Given 1,3,2, the 30000000th number spoken is 2578.  \n",
    "Given 2,1,3, the 30000000th number spoken is 3544142.  \n",
    "Given 1,2,3, the 30000000th number spoken is 261214.  \n",
    "Given 2,3,1, the 30000000th number spoken is 6895259.  \n",
    "Given 3,2,1, the 30000000th number spoken is 18.  \n",
    "Given 3,1,2, the 30000000th number spoken is 362.  \n",
    "Given your starting numbers, what will be the 30000000th number spoken?"
   ]
  },
  {
   "cell_type": "code",
   "execution_count": 1,
   "metadata": {},
   "outputs": [],
   "source": [
    "import os\n",
    "import time\n",
    "import numpy as np\n",
    "import re"
   ]
  },
  {
   "cell_type": "code",
   "execution_count": 2,
   "metadata": {},
   "outputs": [],
   "source": [
    "DAY = 'Day_15'\n",
    "FILE_END = '_01.txt'\n",
    "RUN_WITH = 'input' ## admitted values: sample1 sample2 input \n",
    "SAMPLE_DATA = {1:'''0,3,6''', 2: '''1,3,2''',3:'''2,1,3''', 4:'''1,2,3'''\n",
    "              }\n",
    "INPUT = '''0,1,5,10,3,12,19'''\n"
   ]
  },
  {
   "cell_type": "code",
   "execution_count": 3,
   "metadata": {},
   "outputs": [
    {
     "data": {
      "text/plain": [
       "array([ 0,  1,  5, 10,  3, 12, 19])"
      ]
     },
     "execution_count": 3,
     "metadata": {},
     "output_type": "execute_result"
    }
   ],
   "source": [
    "np.array(INPUT.split(','), dtype=int)"
   ]
  },
  {
   "cell_type": "code",
   "execution_count": null,
   "metadata": {},
   "outputs": [],
   "source": [
    "\n"
   ]
  },
  {
   "cell_type": "code",
   "execution_count": 4,
   "metadata": {},
   "outputs": [],
   "source": [
    "start = time.time()"
   ]
  },
  {
   "cell_type": "code",
   "execution_count": 5,
   "metadata": {},
   "outputs": [],
   "source": [
    "\n",
    "input_path = os.path.join(os.path.dirname(os.path.dirname(os.path.dirname(os.getcwd()))), \"Inputs\")\n",
    "input_path_day = os.path.join(input_path, DAY)\n",
    "file_path = os.path.join(input_path_day, DAY+ FILE_END)"
   ]
  },
  {
   "cell_type": "markdown",
   "metadata": {},
   "source": [
    "### Read input"
   ]
  },
  {
   "cell_type": "code",
   "execution_count": 6,
   "metadata": {},
   "outputs": [
    {
     "data": {
      "text/plain": [
       "array([ 0,  1,  5, 10,  3])"
      ]
     },
     "execution_count": 6,
     "metadata": {},
     "output_type": "execute_result"
    }
   ],
   "source": [
    "if RUN_WITH == 'input':\n",
    "    values =INPUT\n",
    "elif RUN_WITH.startswith('sample'):\n",
    "    end = int(RUN_WITH[-1:])\n",
    "    values =  SAMPLE_DATA[end]\n",
    "else:\n",
    "    print(\"No valid input selected\")\n",
    "\n",
    "values = np.array(values.split(','), dtype =int)\n",
    "values[0:5]"
   ]
  },
  {
   "cell_type": "markdown",
   "metadata": {},
   "source": [
    "# Part I:"
   ]
  },
  {
   "cell_type": "code",
   "execution_count": 7,
   "metadata": {},
   "outputs": [],
   "source": [
    "def get_nth_seq(initial_values, target):\n",
    "    numbers = {val:pos+1 for pos,val in enumerate(initial_values)}\n",
    "    previous_number = initial_values[-1:][0]\n",
    "    current_position = len(initial_values)\n",
    "    #while current_position < target:\n",
    "    for current_position in range(current_position, target):\n",
    "        if previous_number in numbers:\n",
    "            previous_position = numbers[previous_number]\n",
    "            numbers[previous_number] = current_position\n",
    "            previous_number = current_position - previous_position\n",
    "        else:\n",
    "            numbers[previous_number] = current_position\n",
    "            previous_number = 0\n",
    "        current_position +=1\n",
    "    return current_position, previous_number\n",
    "\n"
   ]
  },
  {
   "cell_type": "code",
   "execution_count": null,
   "metadata": {},
   "outputs": [],
   "source": []
  },
  {
   "cell_type": "code",
   "execution_count": 8,
   "metadata": {},
   "outputs": [],
   "source": [
    "get_nth_seq(values,2020)"
   ]
  },
  {
   "cell_type": "markdown",
   "metadata": {},
   "source": [
    "## Part II:"
   ]
  },
  {
   "cell_type": "code",
   "execution_count": 9,
   "metadata": {},
   "outputs": [],
   "source": [
    "get_nth_seq(values,30000000)"
   ]
  },
  {
   "cell_type": "code",
   "execution_count": 10,
   "metadata": {},
   "outputs": [
    {
     "data": {
      "text/plain": [
       "14.835647106170654"
      ]
     },
     "execution_count": 10,
     "metadata": {},
     "output_type": "execute_result"
    }
   ],
   "source": [
    "end = time.time()\n",
    "end - start"
   ]
  },
  {
   "cell_type": "code",
   "execution_count": 11,
   "metadata": {},
   "outputs": [],
   "source": [
    "# Alternative solution found in the reddit thread\n",
    "def memory_game(numbers, n_th):\n",
    "    spoken = {numbers[i]: i for i in range(len(numbers)-1)}\n",
    "    current = numbers[-1]\n",
    "    for i in range(len(numbers)-1, n_th-1):\n",
    "        spoken[current], current = i, i - spoken[current] if current in spoken else 0\n",
    "    return current"
   ]
  },
  {
   "cell_type": "code",
   "execution_count": 12,
   "metadata": {},
   "outputs": [
    {
     "name": "stdout",
     "output_type": "stream",
     "text": [
      "1373\n",
      "112458\n"
     ]
    },
    {
     "data": {
      "text/plain": [
       "13.294226884841919"
      ]
     },
     "execution_count": 12,
     "metadata": {},
     "output_type": "execute_result"
    }
   ],
   "source": [
    "start = time.time()\n",
    "print(memory_game(values, 2020))\n",
    "print(memory_game(values, 30000000))\n",
    "end = time.time()\n",
    "end - start"
   ]
  }
 ],
 "metadata": {
  "kernelspec": {
   "display_name": "Python 3",
   "language": "python",
   "name": "python3"
  },
  "language_info": {
   "codemirror_mode": {
    "name": "ipython",
    "version": 3
   },
   "file_extension": ".py",
   "mimetype": "text/x-python",
   "name": "python",
   "nbconvert_exporter": "python",
   "pygments_lexer": "ipython3",
   "version": "3.6.8"
  }
 },
 "nbformat": 4,
 "nbformat_minor": 4
}
