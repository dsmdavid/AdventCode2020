{
 "cells": [
  {
   "cell_type": "code",
   "execution_count": 6,
   "metadata": {},
   "outputs": [],
   "source": [
    "from array import array\n",
    "import fileinput\n",
    "\n",
    "\n",
    "def run(n, lines):\n",
    "    '''\n",
    "    >>> run(1, ('0,3,6',))\n",
    "    0\n",
    "    >>> run(2, ('0,3,6',))\n",
    "    3\n",
    "    >>> run(3, ('0,3,6',))\n",
    "    6\n",
    "    >>> run(4, ('0,3,6',))\n",
    "    0\n",
    "    >>> run(5, ('0,3,6',))\n",
    "    3\n",
    "    >>> run(6, ('0,3,6',))\n",
    "    3\n",
    "    >>> run(7, ('0,3,6',))\n",
    "    1\n",
    "    >>> run(8, ('0,3,6',))\n",
    "    0\n",
    "    >>> run(9, ('0,3,6',))\n",
    "    4\n",
    "    >>> run(10, ('0,3,6',))\n",
    "    0\n",
    "    '''\n",
    "    nums = list(map(int, lines[0].split(',')))\n",
    "    if n <= len(nums):\n",
    "        return int(nums[n - 1])\n",
    "    last = nums[-1]\n",
    "    seen = array('I', (0, ) * (max(n - 1, *nums) + 1))\n",
    "    for i, x in enumerate(nums[:-1]):\n",
    "        seen[x] = i + 1\n",
    "    for i in range(len(nums), n):\n",
    "        next = i - (seen[last] or i)\n",
    "        seen[last] = i\n",
    "        last = next\n",
    "    return last\n",
    "\n",
    "\n",
    "def part1(lines):\n",
    "    '''\n",
    "    >>> part1(('0,3,6',))\n",
    "    436\n",
    "    >>> part1(('1,3,2',))\n",
    "    1\n",
    "    >>> part1(('2,1,3',))\n",
    "    10\n",
    "    >>> part1(('1,2,3',))\n",
    "    27\n",
    "    >>> part1(('2,3,1',))\n",
    "    78\n",
    "    >>> part1(('3,2,1',))\n",
    "    438\n",
    "    >>> part1(('3,1,2',))\n",
    "    1836\n",
    "    '''\n",
    "    return run(2020, lines)\n",
    "\n",
    "\n",
    "def part2(lines):\n",
    "    '''\n",
    "    >>> part2(('0,3,6',))\n",
    "    175594\n",
    "    >>> part2(('1,3,2',))\n",
    "    2578\n",
    "    >>> part2(('2,1,3',))\n",
    "    3544142\n",
    "    >>> part2(('1,2,3',))\n",
    "    261214\n",
    "    >>> part2(('2,3,1',))\n",
    "    6895259\n",
    "    >>> part2(('3,2,1',))\n",
    "    18\n",
    "    >>> part2(('3,1,2',))\n",
    "    362\n",
    "    '''\n",
    "    return run(30000000, lines)\n",
    "\n"
   ]
  },
  {
   "cell_type": "code",
   "execution_count": 8,
   "metadata": {},
   "outputs": [
    {
     "data": {
      "text/plain": [
       "['0', '1', '5', '10', '3', '12', '19']"
      ]
     },
     "execution_count": 8,
     "metadata": {},
     "output_type": "execute_result"
    }
   ],
   "source": [
    "values = '0,1,5,10,3,12,19'.split(',')\n",
    "values"
   ]
  },
  {
   "cell_type": "code",
   "execution_count": 9,
   "metadata": {},
   "outputs": [
    {
     "data": {
      "text/plain": [
       "1373"
      ]
     },
     "execution_count": 9,
     "metadata": {},
     "output_type": "execute_result"
    }
   ],
   "source": [
    "part1(('0,1,5,10,3,12,19',))"
   ]
  },
  {
   "cell_type": "code",
   "execution_count": 10,
   "metadata": {},
   "outputs": [],
   "source": [
    "import time"
   ]
  },
  {
   "cell_type": "code",
   "execution_count": null,
   "metadata": {},
   "outputs": [],
   "source": []
  },
  {
   "cell_type": "code",
   "execution_count": 11,
   "metadata": {},
   "outputs": [
    {
     "data": {
      "text/plain": [
       "5.473173379898071"
      ]
     },
     "execution_count": 11,
     "metadata": {},
     "output_type": "execute_result"
    }
   ],
   "source": [
    "start =time.time()\n",
    "part2(('0,1,5,10,3,12,19',))\n",
    "end = time.time()\n",
    "end - start"
   ]
  },
  {
   "cell_type": "code",
   "execution_count": null,
   "metadata": {},
   "outputs": [],
   "source": [
    "\n",
    "parts = (part1, part2)\n",
    "\n",
    "if __name__ == '__main__':\n",
    "    lines = list(fileinput.input())\n",
    "    print(part1(lines))\n",
    "    print(part2(lines))"
   ]
  }
 ],
 "metadata": {
  "kernelspec": {
   "display_name": "Python 3",
   "language": "python",
   "name": "python3"
  },
  "language_info": {
   "codemirror_mode": {
    "name": "ipython",
    "version": 3
   },
   "file_extension": ".py",
   "mimetype": "text/x-python",
   "name": "python",
   "nbconvert_exporter": "python",
   "pygments_lexer": "ipython3",
   "version": "3.6.8"
  }
 },
 "nbformat": 4,
 "nbformat_minor": 4
}
