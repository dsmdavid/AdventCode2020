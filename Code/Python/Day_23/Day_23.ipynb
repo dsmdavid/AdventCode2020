{
 "cells": [
  {
   "cell_type": "markdown",
   "metadata": {},
   "source": [
    "# Hell Crab Combat"
   ]
  },
  {
   "cell_type": "markdown",
   "metadata": {},
   "source": [
    "The small crab challenges you to a game! The crab is going to mix up some cups, and you have to predict where they'll end up.\n",
    "\n",
    "The cups will be arranged in a circle and labeled clockwise (your puzzle input). For example, if your labeling were `32415`, there would be five cups in the circle; going clockwise around the circle from the first cup, the cups would be labeled 3, 2, 4, 1, 5, and then back to 3 again.\n",
    "\n",
    "Before the crab starts, it will designate the first cup in your list as the current cup. The crab is then going to do 100 moves.\n",
    "\n",
    "Each move, the crab does the following actions:\n",
    "\n",
    "The crab picks up the three cups that are immediately clockwise of the current cup. They are removed from the circle; cup spacing is adjusted as necessary to maintain the circle.\n",
    "The crab selects a destination cup: the cup with a label equal to the current cup's label minus one. If this would select one of the cups that was just picked up, the crab will keep subtracting one until it finds a cup that wasn't just picked up. If at any point in this process the value goes below the lowest value on any cup's label, it wraps around to the highest value on any cup's label instead.\n",
    "The crab places the cups it just picked up so that they are immediately clockwise of the destination cup. They keep the same order as when they were picked up.\n",
    "The crab selects a new current cup: the cup which is immediately clockwise of the current cup.\n",
    "For example, suppose your cup labeling were `389125467`. If the crab were to do merely 10 moves, the following changes would occur:\n",
    "```\n",
    "-- move 1 --\n",
    "cups: (3) 8  9  1  2  5  4  6  7 \n",
    "pick up: 8, 9, 1\n",
    "destination: 2\n",
    "\n",
    "-- move 2 --\n",
    "cups:  3 (2) 8  9  1  5  4  6  7 \n",
    "pick up: 8, 9, 1\n",
    "destination: 7\n",
    "\n",
    "-- move 3 --\n",
    "cups:  3  2 (5) 4  6  7  8  9  1 \n",
    "pick up: 4, 6, 7\n",
    "destination: 3\n",
    "\n",
    "-- move 4 --\n",
    "cups:  7  2  5 (8) 9  1  3  4  6 \n",
    "pick up: 9, 1, 3\n",
    "destination: 7\n",
    "\n",
    "-- move 5 --\n",
    "cups:  3  2  5  8 (4) 6  7  9  1 \n",
    "pick up: 6, 7, 9\n",
    "destination: 3\n",
    "\n",
    "-- move 6 --\n",
    "cups:  9  2  5  8  4 (1) 3  6  7 \n",
    "pick up: 3, 6, 7\n",
    "destination: 9\n",
    "\n",
    "-- move 7 --\n",
    "cups:  7  2  5  8  4  1 (9) 3  6 \n",
    "pick up: 3, 6, 7\n",
    "destination: 8\n",
    "\n",
    "-- move 8 --\n",
    "cups:  8  3  6  7  4  1  9 (2) 5 \n",
    "pick up: 5, 8, 3\n",
    "destination: 1\n",
    "\n",
    "-- move 9 --\n",
    "cups:  7  4  1  5  8  3  9  2 (6)\n",
    "pick up: 7, 4, 1\n",
    "destination: 5\n",
    "\n",
    "-- move 10 --\n",
    "cups: (5) 7  4  1  8  3  9  2  6 \n",
    "pick up: 7, 4, 1\n",
    "destination: 3\n",
    "\n",
    "-- final --\n",
    "cups:  5 (8) 3  7  4  1  9  2  6 \n",
    "```\n",
    "In the above example, the cups' values are the labels as they appear moving clockwise around the circle; the current cup is marked with ( ).\n",
    "\n",
    "After the crab is done, what order will the cups be in? Starting after the cup labeled 1, collect the other cups' labels clockwise into a single string with no extra characters; each number except 1 should appear exactly once. In the above example, after 10 moves, the cups clockwise from 1 are labeled 9, 2, 6, 5, and so on, producing `92658374`. If the crab were to complete all 100 moves, the order after cup 1 would be `67384529`.\n",
    "\n",
    "Using your labeling, simulate 100 moves. What are the labels on the cups after cup 1?   \n",
    "Input = `253149867`"
   ]
  },
  {
   "cell_type": "markdown",
   "metadata": {},
   "source": [
    "## Second part"
   ]
  },
  {
   "cell_type": "markdown",
   "metadata": {},
   "source": [
    "Due to what you can only assume is a mistranslation (you're not exactly fluent in Crab), you are quite surprised when the crab starts arranging many cups in a circle on your raft - one million (**1000000**) in total.\n",
    "\n",
    "Your labeling is still correct for the first few cups; after that, the remaining cups are just numbered in an increasing fashion starting from the number after the highest number in your list and proceeding one by one until one million is reached. (For example, if your labeling were `54321`, the cups would be numbered `5, 4, 3, 2, 1`, and then start counting up from `6` until one million is reached.) In this way, every number from one through one million is used exactly once.\n",
    "\n",
    "After discovering where you made the mistake in translating Crab Numbers, you realize the small crab isn't going to do merely 100 moves; the crab is going to do ten million (**10000000**) moves!\n",
    "\n",
    "The crab is going to hide your stars - one each - under the two cups that will end up immediately clockwise of cup 1. You can have them if you predict what the labels on those cups will be when the crab is finished.\n",
    "\n",
    "In the above example (`389125467`), this would be `934001` and then `159792`; multiplying these together produces `149245887792`.\n",
    "\n",
    "Determine which two cups will end up immediately clockwise of cup 1. What do you get if you multiply their labels together?\n",
    "\n",
    "505334281774"
   ]
  },
  {
   "cell_type": "code",
   "execution_count": 1,
   "metadata": {},
   "outputs": [],
   "source": [
    "import os\n",
    "import time\n",
    "import numpy as np\n",
    "#import itertools\n",
    "#import re\n",
    "#from collections import deque"
   ]
  },
  {
   "cell_type": "code",
   "execution_count": 2,
   "metadata": {},
   "outputs": [],
   "source": [
    "DAY = 'Day_23'\n",
    "INPUT= '''253149867'''\n",
    "SAMPLE_DATA = '''389125467'''"
   ]
  },
  {
   "cell_type": "code",
   "execution_count": 3,
   "metadata": {},
   "outputs": [],
   "source": [
    "start = time.time()"
   ]
  },
  {
   "cell_type": "markdown",
   "metadata": {},
   "source": [
    "### Read input"
   ]
  },
  {
   "cell_type": "markdown",
   "metadata": {},
   "source": [
    "## Part I"
   ]
  },
  {
   "cell_type": "code",
   "execution_count": 4,
   "metadata": {},
   "outputs": [],
   "source": [
    "values = INPUT[:]"
   ]
  },
  {
   "cell_type": "code",
   "execution_count": 5,
   "metadata": {},
   "outputs": [],
   "source": [
    "def get_values(source: str):\n",
    "    return np.array([int(v) for v in source[:]])\n",
    "\n",
    "def one_round(arr):\n",
    "    curr_item = arr[0]\n",
    "    curr_item\n",
    "\n",
    "    hold = arr[1:4]\n",
    "    hold\n",
    "\n",
    "    diff = arr[4:] - curr_item\n",
    "\n",
    "    # exists -ve\n",
    "    diff_n = np.where(diff <0, diff, -999)\n",
    "    diff_n\n",
    "    if diff_n[diff_n.argmax()] != -999:\n",
    "        entry_point = diff_n.argmax() + 4\n",
    "    else:\n",
    "        entry_point = diff.argmax() + 4\n",
    "\n",
    "\n",
    "    arr = np.concatenate((arr[4:entry_point+1], hold, arr[entry_point+1:], [curr_item] ))\n",
    "    return arr\n",
    "\n",
    "def part_1(source):\n",
    "\n",
    "    arr = get_values(source)\n",
    "    for i in range(100):\n",
    "        arr = one_round(arr)\n",
    "    answer = np.roll(arr, -arr.argmin())[1:]\n",
    "    return ''.join(list(map(str, answer)))"
   ]
  },
  {
   "cell_type": "markdown",
   "metadata": {},
   "source": [
    "Your puzzle answer was 34952786.\n",
    "\n",
    "Sample's answer would be 67384529"
   ]
  },
  {
   "cell_type": "code",
   "execution_count": 6,
   "metadata": {},
   "outputs": [
    {
     "data": {
      "text/plain": [
       "'34952786'"
      ]
     },
     "execution_count": 6,
     "metadata": {},
     "output_type": "execute_result"
    }
   ],
   "source": [
    "part_1(INPUT)"
   ]
  },
  {
   "cell_type": "code",
   "execution_count": 7,
   "metadata": {},
   "outputs": [
    {
     "name": "stdout",
     "output_type": "stream",
     "text": [
      "1.3 ms ± 61.7 µs per loop (mean ± std. dev. of 7 runs, 1000 loops each)\n"
     ]
    }
   ],
   "source": [
    "%%timeit\n",
    "part_1(INPUT)"
   ]
  },
  {
   "cell_type": "markdown",
   "metadata": {},
   "source": [
    "## Part II"
   ]
  },
  {
   "cell_type": "code",
   "execution_count": 8,
   "metadata": {},
   "outputs": [],
   "source": [
    "class Cup():\n",
    "    \n",
    "    def __init__(self, value):\n",
    "        self.value = value\n",
    "        self.next = None\n",
    "        self.prev = None\n",
    "    \n",
    "    def __repr__(self):\n",
    "        return f'Value: {self.value}, Prev: {self.prev.value}, Next: {self.next.value}'"
   ]
  },
  {
   "cell_type": "code",
   "execution_count": 9,
   "metadata": {},
   "outputs": [],
   "source": [
    "# Create a dictionary with value:cup\n",
    "\n",
    "# create a cup for each value. The cup has value, previous, next\n"
   ]
  },
  {
   "cell_type": "markdown",
   "metadata": {},
   "source": [
    "# Things that need to happen:\n",
    "1. Current cup is moved to the end of the queue:  \n",
    "    Its prev should point to the last item on the queue (this is already the case, no action needed)  \n",
    "    Its next_ should point to the new first item on the queue.  \n",
    "2. The borders of the group of cups need to be updated:\n",
    "    1. The first cup needs to have the prev_ updated to the entry_point.\n",
    "    2. The last cup needs to have the next_ updated to the one after the entry_point.\n",
    "3. The entry_point needs to be updated so that its \"next\" points to the first.\n",
    "4. The entry_point.next needs to be updated so that its \"prev\" points to the last.\n",
    "5. The new first item in the queue needs to have its \"prev\" updated so that it points to the current.\n",
    "6. Reassign current to the new_first_item\n"
   ]
  },
  {
   "cell_type": "code",
   "execution_count": 10,
   "metadata": {},
   "outputs": [],
   "source": [
    "def play_round(cups: dict, last_value: int, current, rounds: int):\n",
    "    \n",
    "    for i in range(rounds):\n",
    "        first, mid, last = current.next, current.next.next, current.next.next.next\n",
    "\n",
    "        entry_point = last_value if current.value == 1  else current.value -1\n",
    "        while entry_point in (first.value, mid.value, last.value):\n",
    "            entry_point = last_value if entry_point == 1 else entry_point -1\n",
    "\n",
    "        entry_point\n",
    "        # Current next points to the new first item in the queue\n",
    "        current.next = last.next\n",
    "        # 5. The new first item in the queue needs to have its \"prev\" updated so that it points to the current.\n",
    "        last.next.prev = current\n",
    "        #current.next.prev = current\n",
    "\n",
    "        entry = cups[entry_point]\n",
    "        # Update boundaries of the group:\n",
    "        first.prev = entry\n",
    "        last.next = entry.next\n",
    "\n",
    "        # Update entry and entry.next:\n",
    "        entry.next.prev =last\n",
    "        entry.next = first\n",
    "\n",
    "        current = current.next\n",
    "        \n",
    "    return cups\n",
    "\n",
    "def prepare_data(source, length):\n",
    "    cups = {}\n",
    "\n",
    "    temp = get_values(source)\n",
    "    arr = np.arange(length)\n",
    "    arr[1:len(temp)+1] = temp.copy()\n",
    "\n",
    "    for value in arr:\n",
    "        if value != 0:\n",
    "            cups[value] = Cup(value)\n",
    "\n",
    "    last_value = len(arr) - 1\n",
    "\n",
    "    for i, value in enumerate(arr):\n",
    "        if i == 0 :\n",
    "            pass\n",
    "        elif i == 1:\n",
    "            cups[value].prev = cups[arr[last_value]]\n",
    "        else:\n",
    "            cups[value].prev = cups[arr[i-1]]\n",
    "        if i == last_value:\n",
    "            cups[value].next = cups[arr[1]]\n",
    "        elif i == 0:\n",
    "            pass\n",
    "        else:\n",
    "            cups[value].next = cups[arr[i+1]]\n",
    "\n",
    "\n",
    "    current = cups[arr[1]]\n",
    "    return cups, current, last_value, arr\n",
    "\n",
    "def part_2(source, length, rounds):\n",
    "    length +=1 \n",
    "    cups, current, last_value, arr = prepare_data(source, length)\n",
    "    play_round(cups, last_value, current, rounds)\n",
    "\n",
    "    return cups[1].next.value, cups[1].next.next.value, np.int64(cups[1].next.value) * np.int64(cups[1].next.next.value)"
   ]
  },
  {
   "cell_type": "code",
   "execution_count": 11,
   "metadata": {},
   "outputs": [
    {
     "data": {
      "text/plain": [
       "(595814, 848141, 505334281774)"
      ]
     },
     "execution_count": 11,
     "metadata": {},
     "output_type": "execute_result"
    }
   ],
   "source": [
    "part_2(INPUT, 1000000, 10000000)"
   ]
  },
  {
   "cell_type": "code",
   "execution_count": 12,
   "metadata": {},
   "outputs": [
    {
     "name": "stdout",
     "output_type": "stream",
     "text": [
      "27.9 s ± 1.29 s per loop (mean ± std. dev. of 7 runs, 1 loop each)\n"
     ]
    }
   ],
   "source": [
    "%%timeit\n",
    "part_2(INPUT, 1000000, 10000000)"
   ]
  }
 ],
 "metadata": {
  "kernelspec": {
   "display_name": "Python 3",
   "language": "python",
   "name": "python3"
  },
  "language_info": {
   "codemirror_mode": {
    "name": "ipython",
    "version": 3
   },
   "file_extension": ".py",
   "mimetype": "text/x-python",
   "name": "python",
   "nbconvert_exporter": "python",
   "pygments_lexer": "ipython3",
   "version": "3.6.8"
  }
 },
 "nbformat": 4,
 "nbformat_minor": 4
}
