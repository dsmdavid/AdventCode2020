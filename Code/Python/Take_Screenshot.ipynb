{
 "cells": [
  {
   "cell_type": "code",
   "execution_count": 40,
   "metadata": {},
   "outputs": [],
   "source": [
    "from selenium import webdriver\n",
    "from selenium.webdriver.support.ui import Select\n",
    "from selenium.webdriver.chrome.options import Options\n",
    "from selenium.webdriver.support import expected_conditions as EC\n",
    "from selenium.common.exceptions import TimeoutException\n",
    "from selenium.webdriver.common.by import By\n",
    "from selenium.webdriver.support.ui import WebDriverWait\n",
    "from selenium.webdriver.common.action_chains import ActionChains\n",
    "\n",
    "\n",
    "import pandas as pd\n",
    "import re\n",
    "import getpass\n",
    "from bs4 import BeautifulSoup\n",
    "import json\n",
    "import os\n",
    "import time\n",
    "\n",
    "import pyautogui"
   ]
  },
  {
   "cell_type": "code",
   "execution_count": 41,
   "metadata": {},
   "outputs": [],
   "source": [
    "DAY = '07'"
   ]
  },
  {
   "cell_type": "code",
   "execution_count": 42,
   "metadata": {},
   "outputs": [],
   "source": [
    "with open('../../ignore/convo.json','r') as f:\n",
    "    keys = json.loads(f.read())"
   ]
  },
  {
   "cell_type": "code",
   "execution_count": 43,
   "metadata": {},
   "outputs": [],
   "source": [
    "JUPYTERNB = f'https://github.com/dsmdavid/AdventCode2020/blob/main/Code/Python/Day_{DAY}/Day_{DAY}.ipynb'\n"
   ]
  },
  {
   "cell_type": "code",
   "execution_count": 44,
   "metadata": {},
   "outputs": [],
   "source": [
    "curr_dir = os.getcwd()\n",
    "chromedriver = os.path.join(os.path.dirname(os.path.dirname(os.getcwd())), 'Resources/chromedriver')"
   ]
  },
  {
   "cell_type": "code",
   "execution_count": 45,
   "metadata": {},
   "outputs": [],
   "source": [
    "import platform\n",
    "# Win or mac?\n",
    "curr_sys = platform.system()\n",
    "if curr_sys != 'Darwin':\n",
    "    chromedriver = chromedriver + '.exe'"
   ]
  },
  {
   "cell_type": "code",
   "execution_count": 54,
   "metadata": {},
   "outputs": [],
   "source": [
    "\n",
    "class WebScraping(object):\n",
    "   \n",
    "    \"\"\"\n",
    "    selectors are defined to here to for use in raising an error downstream\n",
    "    \"\"\"\n",
    "    selectors = ['ID'\n",
    "            ,'NAME'\n",
    "            ,'XPATH'\n",
    "            ,'LINK_TEXT'\n",
    "            ,'PARTIAL_LINK_TEXT'\n",
    "            ,'TAG_NAME','CLASS_NAME'\n",
    "            ,'CSS_SELECTOR']\n",
    "   \n",
    "    def __init__(self):\n",
    "        pass\n",
    "\n",
    "    @staticmethod\n",
    "    def driv(dloaddirectory=\"C:\\\\Users\\\\\" + str(getpass.getuser()) + \"\\\\Downloads\"):\n",
    "        \"\"\"\n",
    "        Recommended use is to store the result of this function as a variable\n",
    "        e.g. driver = WebScraping.driv() be mindful that if you import the\n",
    "        module with an alias e.g. inport WebScraping as WS then you would\n",
    "        use the alias preceding .driv() in this example WS.driv()\n",
    "       \n",
    "        Initialises an instance of a driver, by default the download directory\n",
    "        is set to the downloads folder on the C: drive but to alter this simply\n",
    "        pass the optional variable dloaddirectory with the corresponding path\n",
    "        \"\"\"\n",
    "        ## define chrome webdriver settings\n",
    "        capabilities = { 'chromeOptions':\n",
    "                        { 'useAutomationExtension': False}\n",
    "                       }\n",
    "        options = webdriver.ChromeOptions()\n",
    "        #options.add_argument(\"--headless\")\n",
    "        #options.add_argument(\"--window-size=1920,1080\")\n",
    "        prefs = { 'download.default_directory': dloaddirectory }\n",
    "        options.add_experimental_option('prefs', prefs)\n",
    "        options.add_experimental_option(\"useAutomationExtension\", False);\n",
    "        return webdriver.Chrome(executable_path =chromedriver, options=options)    \n",
    "   \n",
    "   \n",
    "    @classmethod\n",
    "    def selection(cls, el_type, target, driver):\n",
    "        \"\"\"\n",
    "        el_type is the element type you are looking to capture e.g. XPATH\n",
    "        Target is the path to that element\n",
    "        driver is the instance that you have declared when calling the driv() function\n",
    "       \n",
    "        This method is used to return the value\n",
    "        of the taret selected, by compounding with .click()\n",
    "        to you can interact with the target on_click event\n",
    "       \n",
    "        Raises:\n",
    "        Errors if a element is passed that is not within the following list\n",
    "        ID, NAME, XPATH, LINK_TEXT, PARTIAL_LINK_TEXT , TAG_NAME, CLASS_NAME, CSS_SELECTOR\n",
    "       \n",
    "        \"\"\"\n",
    "        #Throw error if element selected is outside of the accepted elements\n",
    "        if el_type not in cls.selectors:\n",
    "            raise Exception('{} is not an accepted element, only the following are accepted elements - ID, NAME, XPATH, LINK_TEXT, PARTIAL_LINK_TEXT , TAG_NAME, CLASS_NAME, CSS_SELECTOR'.format(el_type))\n",
    "        # Standard elements defined in the Selenium locating elements documentation\n",
    "        if el_type.upper() == 'ID':\n",
    "            return driver.find_element_by_id(target)\n",
    "        if el_type.upper() == 'LINK_TEXT':\n",
    "            return driver.find_element_by_link_text(target)\n",
    "        if el_type.upper() == 'NAME':\n",
    "            return driver.find_element_by_name(target)\n",
    "        if el_type.upper() == 'XPATH':\n",
    "            return driver.find_element_by_xpath(target)\n",
    "        if el_type.upper() == 'LINK_TEXT':\n",
    "            return driver.find_element_by_link_text(target)\n",
    "        if el_type.upper() == 'PARTIAL_LINK_TEXT':\n",
    "            return driver.find_element_by_partial_link_text(target)\n",
    "        if el_type.upper() == 'TAG_NAME':\n",
    "            return driver.find_element_by_tag_name(target)\n",
    "        if el_type.upper() == 'CLASS_NAME':\n",
    "            return driver.find_element_by_class_name(target)\n",
    "        if el_type.upper() == 'CSS_SELECTOR':\n",
    "            return driver.find_element_by_class_css_selector(target)\n",
    "\n",
    "    @staticmethod\n",
    "    def getTables(driver):\n",
    "        \"\"\"\n",
    "        Returns all tables on the displayed page as a list\n",
    "       \n",
    "        Can be iterated thorugh if all tables are required\n",
    "        or sliced if you are looking for a certain table\n",
    "        within a page\n",
    "        \"\"\"\n",
    "        return BeautifulSoup(driver.page_source).find_all('table')\n",
    "   \n",
    "    @staticmethod\n",
    "    def getLinks(html):\n",
    "        \"\"\"\n",
    "        Returns all of the hrefs (Links) from a HTML string\n",
    "       \n",
    "        Recommended use is in conjuction with getTables to extract\n",
    "        all links from a html string\n",
    "       \n",
    "        \"\"\"\n",
    "        return html.find_all('a')"
   ]
  },
  {
   "cell_type": "markdown",
   "metadata": {},
   "source": [
    "## Screenshot Jupyter notebook in github"
   ]
  },
  {
   "cell_type": "code",
   "execution_count": 47,
   "metadata": {},
   "outputs": [],
   "source": [
    "art_path = os.path.join(os.path.dirname(os.path.dirname(os.getcwd())), 'Art')"
   ]
  },
  {
   "cell_type": "code",
   "execution_count": 55,
   "metadata": {},
   "outputs": [],
   "source": [
    "driver = WebScraping.driv(art_path)"
   ]
  },
  {
   "cell_type": "code",
   "execution_count": 56,
   "metadata": {},
   "outputs": [
    {
     "data": {
      "text/plain": [
       "<selenium.webdriver.remote.webelement.WebElement (session=\"2c8b03286c85e205f0802aa6a8c89263\", element=\"b6ab4249-83c1-48f6-823f-994e4835a0b6\")>"
      ]
     },
     "execution_count": 56,
     "metadata": {},
     "output_type": "execute_result"
    }
   ],
   "source": [
    "driver.get(JUPYTERNB)\n",
    "element_present = EC.presence_of_element_located((By.XPATH, '/html/body/div/div[2]'))\n",
    "WebDriverWait(driver, 10).until(element_present)"
   ]
  },
  {
   "cell_type": "code",
   "execution_count": 60,
   "metadata": {},
   "outputs": [],
   "source": [
    "ele = driver.find_element_by_xpath('/html/body/div/div[2]') \n",
    "ele2 = driver.find_element_by_xpath('/html/body/div[5]/div[1]/ul')"
   ]
  },
  {
   "cell_type": "code",
   "execution_count": 61,
   "metadata": {},
   "outputs": [],
   "source": [
    "actions = ActionChains(driver)\n",
    "actions.move_to_element(ele).perform()"
   ]
  },
  {
   "cell_type": "code",
   "execution_count": 62,
   "metadata": {},
   "outputs": [],
   "source": [
    "height = ele2.location['y'] -  ele.location_once_scrolled_into_view['y']"
   ]
  },
  {
   "cell_type": "code",
   "execution_count": 63,
   "metadata": {},
   "outputs": [
    {
     "data": {
      "text/plain": [
       "True"
      ]
     },
     "execution_count": 63,
     "metadata": {},
     "output_type": "execute_result"
    }
   ],
   "source": [
    "driver.set_window_size(ele.size['width'], height)\n",
    "driver.save_screenshot(f'../../Art/Day_{DAY}.png')\n"
   ]
  },
  {
   "cell_type": "code",
   "execution_count": 39,
   "metadata": {},
   "outputs": [],
   "source": [
    "driver.close()"
   ]
  },
  {
   "cell_type": "markdown",
   "metadata": {},
   "source": [
    "## Post to Convo:"
   ]
  },
  {
   "cell_type": "code",
   "execution_count": 48,
   "metadata": {},
   "outputs": [],
   "source": [
    "options = webdriver.ChromeOptions()\n",
    "options.add_argument(\"--disable-notifications\")\n",
    "options.add_argument(\"--headless\")"
   ]
  },
  {
   "cell_type": "code",
   "execution_count": 49,
   "metadata": {},
   "outputs": [],
   "source": [
    "driver = webdriver.Chrome(executable_path =r'C:\\Users\\dsmda\\Downloads\\chromedriver_win32\\chromedriver.exe',  options=options)"
   ]
  },
  {
   "cell_type": "code",
   "execution_count": 50,
   "metadata": {},
   "outputs": [],
   "source": [
    "driver.get(f'https://app.convo.com/app/login/')"
   ]
  },
  {
   "cell_type": "code",
   "execution_count": 116,
   "metadata": {},
   "outputs": [],
   "source": [
    "options = webdriver.ChromeOptions()\n",
    "options.add_argument(\"--disable-notifications\")\n",
    "options.add_argument(\"--headless\")\n",
    "driver2 = webdriver.Chrome(executable_path =r'C:\\Users\\dsmda\\Downloads\\chromedriver_win32\\chromedriver.exe',  options=options)\n",
    "driver2.get(f'https://app.convo.com/app/login/')"
   ]
  },
  {
   "cell_type": "code",
   "execution_count": 37,
   "metadata": {},
   "outputs": [],
   "source": [
    "email = driver.find_element(By.ID,'email')\n",
    "email.send_keys(keys['username'])\n",
    "\n",
    "password = driver.find_element(By.ID, 'password')\n",
    "password.send_keys(keys['password'])\n",
    "\n",
    "btn = driver.find_element(By.ID, 'btnSignIn')\n",
    "btn.click()"
   ]
  },
  {
   "cell_type": "code",
   "execution_count": 38,
   "metadata": {},
   "outputs": [],
   "source": [
    "mypost = \"https://app.convo.com/#/v1/acc-26f67bc7-4b15-4825-e053-760e880a4be5/apps/6/messages/0WwMN71JYuz8dQhnfSQ3V9QpIWUFxN#title=AoC2020%252520BaseA%252520(and%252520Python%252520as%252520%252520long%252520as%252520I'm%252520able%252520to)\"\n",
    "driver.get(mypost)"
   ]
  },
  {
   "cell_type": "code",
   "execution_count": 39,
   "metadata": {},
   "outputs": [],
   "source": [
    "element_present = EC.presence_of_element_located((By.XPATH, '/html/body/div[1]/cnv-app-cont/cnv-notes-app/div/ng-include/section/div[2]/ng-include/ul/li[2]'))\n",
    "WebDriverWait(driver, 10).until(element_present)\n",
    "comment = driver.find_element_by_xpath('/html/body/div[1]/cnv-app-cont/cnv-notes-app/div/ng-include/section/div[2]/ng-include/ul/li[2]')\n",
    "\n",
    "comment.click()\n",
    "\n",
    "actions = ActionChains(driver)\n",
    "actions.move_to_element(comment).perform(\n",
    ")\n",
    "\n",
    "element = driver.switch_to.active_element"
   ]
  },
  {
   "cell_type": "code",
   "execution_count": 40,
   "metadata": {},
   "outputs": [],
   "source": [
    "def valid_name(filename):\n",
    "    return  filename.startswith(f'day_{DAY}') & ((filename.endswith('yxmd') or filename.endswith('yxzp')))\n",
    "\n",
    "def get_workflow():\n",
    "    curr_dir = os.getcwd()\n",
    "    alteryx_dir = os.path.join(os.path.dirname(os.getcwd()), 'Alteryx')\n",
    "    os.chdir(os.path.join(alteryx_dir, f'Day_{DAY}'))\n",
    "    files = os.listdir()\n",
    "    workflows = list(filter(valid_name, files))\n",
    "    workflows = {w: os.path.getmtime(w) for w in workflows}\n",
    "    t = 0\n",
    "    file = ''\n",
    "    for k,v in workflows.items():\n",
    "           if v > t:\n",
    "                t, file = v, k\n",
    "    k = os.path.join(os.getcwd(),k)\n",
    "    os.chdir(curr_dir)\n",
    "    return k"
   ]
  },
  {
   "cell_type": "code",
   "execution_count": 41,
   "metadata": {},
   "outputs": [],
   "source": [
    "art_path = os.path.join(os.path.dirname(os.path.dirname(os.getcwd())), 'Art')\n",
    "\n",
    "jupyter_screenshot = os.path.join(art_path, f'Day_{DAY}.png')\n",
    "alteryx_screenshot = os.path.join(art_path, f'Alteryx_Day_{DAY}.png')\n",
    "alteryx_workflow = get_workflow()"
   ]
  },
  {
   "cell_type": "code",
   "execution_count": 42,
   "metadata": {},
   "outputs": [
    {
     "data": {
      "text/plain": [
       "'C:\\\\Users\\\\dsmda\\\\Documents\\\\DropboxLink\\\\python\\\\AdventCode2020\\\\Code\\\\Python'"
      ]
     },
     "execution_count": 42,
     "metadata": {},
     "output_type": "execute_result"
    }
   ],
   "source": [
    "os.getcwd()"
   ]
  },
  {
   "cell_type": "code",
   "execution_count": 43,
   "metadata": {},
   "outputs": [],
   "source": [
    "attachments = [jupyter_screenshot, alteryx_screenshot, alteryx_workflow]"
   ]
  },
  {
   "cell_type": "code",
   "execution_count": 44,
   "metadata": {},
   "outputs": [
    {
     "data": {
      "text/plain": [
       "['C:\\\\Users\\\\dsmda\\\\Documents\\\\DropboxLink\\\\python\\\\AdventCode2020\\\\Art\\\\Day_06.png',\n",
       " 'C:\\\\Users\\\\dsmda\\\\Documents\\\\DropboxLink\\\\python\\\\AdventCode2020\\\\Art\\\\Alteryx_Day_06.png',\n",
       " 'C:\\\\Users\\\\dsmda\\\\Documents\\\\DropboxLink\\\\python\\\\AdventCode2020\\\\Code\\\\Alteryx\\\\Day_06\\\\day_06_01.yxmd']"
      ]
     },
     "execution_count": 44,
     "metadata": {},
     "output_type": "execute_result"
    }
   ],
   "source": [
    "attachments"
   ]
  },
  {
   "cell_type": "code",
   "execution_count": 45,
   "metadata": {},
   "outputs": [],
   "source": [
    "title = [title for title in pyautogui.getAllTitles() if 'AoC2020' in title][0]\n",
    "pyautogui.getWindowsWithTitle(title)\n",
    "\n",
    "for attachment in attachments:\n",
    "    if attachment:\n",
    "        attach = driver.find_element_by_class_name('file-chooser')\n",
    "        time.sleep(5)\n",
    "        actions = ActionChains(driver)\n",
    "        actions.move_to_element(attach).perform()\n",
    "\n",
    "        attach.click()\n",
    "        time.sleep(2)\n",
    "\n",
    "        pyautogui.write(attachment) \n",
    "        pyautogui.press('enter')\n",
    "\n",
    "comment.click()\n",
    "\n",
    "actions = ActionChains(driver)\n",
    "actions.move_to_element(comment).perform()\n",
    "\n",
    "element = driver.switch_to.active_element\n",
    "\n",
    "template = f'''Day_{DAY}:\\t\\tJupyter Notebook ({JUPYTERNB})'''\n",
    "\n",
    "element.send_keys(template)\n",
    "time.sleep(1)\n",
    "actions = ActionChains(driver)\n",
    "actions.move_to_element(comment).perform()\n",
    "element.send_keys(' ')\n",
    "\n",
    "time.sleep(1)\n",
    "element.send_keys('\\n')"
   ]
  },
  {
   "cell_type": "code",
   "execution_count": 54,
   "metadata": {},
   "outputs": [
    {
     "data": {
      "text/plain": [
       "['',\n",
       " 'Take_Screenshot - Jupyter Notebook - Google Chrome',\n",
       " '● <html lang=\"en\" xmlns:ng=\"http://angular • Untitled-3 - AdventCode2020 - Visual Studio Code',\n",
       " 'Anaconda-Navigator',\n",
       " 'Anaconda Navigator',\n",
       " 'Day_05 - Jupyter Notebook - Google Chrome',\n",
       " 'Day_03',\n",
       " 'Jupyter Notebook (Tests)',\n",
       " 'Administrator: Anaconda Prompt (Tests)',\n",
       " 'Select Jupyter Notebook (Tests)',\n",
       " 'GitHub Desktop',\n",
       " 'Malwarebytes Tray Application',\n",
       " 'Settings',\n",
       " 'Settings',\n",
       " 'Spotify Free',\n",
       " '',\n",
       " '',\n",
       " 'Microsoft Store',\n",
       " 'Microsoft Store',\n",
       " 'Microsoft Text Input Application',\n",
       " '',\n",
       " '',\n",
       " '',\n",
       " '',\n",
       " '',\n",
       " 'Command Prompt',\n",
       " '',\n",
       " '',\n",
       " 'Program Manager']"
      ]
     },
     "execution_count": 54,
     "metadata": {},
     "output_type": "execute_result"
    }
   ],
   "source": [
    "pyautogui.getAllTitles()"
   ]
  },
  {
   "cell_type": "code",
   "execution_count": 46,
   "metadata": {},
   "outputs": [
    {
     "data": {
      "text/plain": [
       "[Win32Window(hWnd=330584)]"
      ]
     },
     "execution_count": 46,
     "metadata": {},
     "output_type": "execute_result"
    }
   ],
   "source": [
    "pyautogui.getWindowsWithTitle(pyautogui.getAllTitles()[2])"
   ]
  },
  {
   "cell_type": "code",
   "execution_count": 67,
   "metadata": {},
   "outputs": [
    {
     "data": {
      "text/plain": [
       "(29, 29)"
      ]
     },
     "execution_count": 67,
     "metadata": {},
     "output_type": "execute_result"
    }
   ],
   "source": [
    "len(pyautogui.getAllTitles()), len(pyautogui.getAllWindows())"
   ]
  },
  {
   "cell_type": "code",
   "execution_count": 65,
   "metadata": {},
   "outputs": [],
   "source": [
    "driver.close()"
   ]
  },
  {
   "cell_type": "code",
   "execution_count": 59,
   "metadata": {},
   "outputs": [
    {
     "data": {
      "text/plain": [
       "[Win32Window(hWnd=65804),\n",
       " Win32Window(hWnd=330584),\n",
       " Win32Window(hWnd=526494),\n",
       " Win32Window(hWnd=12912696),\n",
       " Win32Window(hWnd=462216),\n",
       " Win32Window(hWnd=67522),\n",
       " Win32Window(hWnd=526816),\n",
       " Win32Window(hWnd=2231148),\n",
       " Win32Window(hWnd=3672356),\n",
       " Win32Window(hWnd=198980),\n",
       " Win32Window(hWnd=67982),\n",
       " Win32Window(hWnd=65674),\n",
       " Win32Window(hWnd=68914),\n",
       " Win32Window(hWnd=199924),\n",
       " Win32Window(hWnd=132220),\n",
       " Win32Window(hWnd=263084),\n",
       " Win32Window(hWnd=265092),\n",
       " Win32Window(hWnd=329750),\n",
       " Win32Window(hWnd=788330),\n",
       " Win32Window(hWnd=196686),\n",
       " Win32Window(hWnd=65974),\n",
       " Win32Window(hWnd=65966),\n",
       " Win32Window(hWnd=131322),\n",
       " Win32Window(hWnd=131320),\n",
       " Win32Window(hWnd=5376470),\n",
       " Win32Window(hWnd=1835742),\n",
       " Win32Window(hWnd=4458332),\n",
       " Win32Window(hWnd=6949286),\n",
       " Win32Window(hWnd=131432)]"
      ]
     },
     "execution_count": 59,
     "metadata": {},
     "output_type": "execute_result"
    }
   ],
   "source": [
    "pyautogui.g"
   ]
  },
  {
   "cell_type": "code",
   "execution_count": 47,
   "metadata": {},
   "outputs": [],
   "source": [
    "driver.close()"
   ]
  },
  {
   "cell_type": "code",
   "execution_count": 70,
   "metadata": {},
   "outputs": [
    {
     "data": {
      "text/plain": [
       "'Description                        ProcessId  \\n\\nSystem Idle Process                0          \\n\\nSystem                             4          \\n\\nSecure System                      72         \\n\\nRegistry                           132        \\n\\nsmss.exe                           512        \\n\\ncsrss.exe                          760        \\n\\nwininit.exe                        960        \\n\\ncsrss.exe                          968        \\n\\nservices.exe                       572        \\n\\nLsaIso.exe                         620        \\n\\nlsass.exe                          640        \\n\\nwinlogon.exe                       856        \\n\\nsvchost.exe                        1028       \\n\\nsvchost.exe                        1060       \\n\\nfontdrvhost.exe                    1084       \\n\\nWUDFHost.exe                       1120       \\n\\nsvchost.exe                        1184       \\n\\nsvchost.exe                        1236       \\n\\nfontdrvhost.exe                    1332       \\n\\ndwm.exe                            1408       \\n\\nsvchost.exe                        1484       \\n\\nsvchost.exe                        1532       \\n\\nsvchost.exe                        1540       \\n\\nsvchost.exe                        1548       \\n\\nsvchost.exe                        1556       \\n\\nsvchost.exe                        1728       \\n\\nsvchost.exe                        1736       \\n\\nsvchost.exe                        1808       \\n\\nsvchost.exe                        1824       \\n\\nsvchost.exe                        1940       \\n\\nsvchost.exe                        1952       \\n\\nsvchost.exe                        1988       \\n\\nsvchost.exe                        2044       \\n\\nsvchost.exe                        8          \\n\\nsvchost.exe                        2092       \\n\\nsvchost.exe                        2136       \\n\\nsvchost.exe                        2320       \\n\\nsvchost.exe                        2416       \\n\\nsvchost.exe                        2460       \\n\\nsvchost.exe                        2512       \\n\\nvmms.exe                           2552       \\n\\nsvchost.exe                        2588       \\n\\nsvchost.exe                        2660       \\n\\nsvchost.exe                        2668       \\n\\nNVDisplay.Container.exe            2728       \\n\\nsvchost.exe                        2848       \\n\\nsvchost.exe                        2876       \\n\\nsvchost.exe                        2912       \\n\\nsvchost.exe                        2920       \\n\\nsvchost.exe                        2992       \\n\\nMemory Compression                 3008       \\n\\nsvchost.exe                        3056       \\n\\nsvchost.exe                        3068       \\n\\nsvchost.exe                        3092       \\n\\nsvchost.exe                        3112       \\n\\nsvchost.exe                        3188       \\n\\nNVDisplay.Container.exe            3208       \\n\\nsvchost.exe                        3296       \\n\\nsvchost.exe                        3524       \\n\\ndasHost.exe                        3664       \\n\\nsvchost.exe                        3692       \\n\\nsvchost.exe                        3872       \\n\\nsvchost.exe                        3880       \\n\\nsvchost.exe                        3888       \\n\\nsvchost.exe                        2564       \\n\\nsvchost.exe                        3624       \\n\\nsvchost.exe                        4188       \\n\\nsvchost.exe                        4220       \\n\\nAsLdrSrv.exe                       4264       \\n\\nsvchost.exe                        4272       \\n\\nspoolsv.exe                        4472       \\n\\nsvchost.exe                        4616       \\n\\nsvchost.exe                        4728       \\n\\nsvchost.exe                        4736       \\n\\narmsvc.exe                         4748       \\n\\nsvchost.exe                        4756       \\n\\nEvtEng.exe                         4772       \\n\\nesif_uf.exe                        4780       \\n\\nFNPLicensingService64.exe          4792       \\n\\nsvchost.exe                        4764       \\n\\nAdobeUpdateService.exe             4800       \\n\\nOfficeClickToRun.exe               4816       \\n\\nAGMService.exe                     4824       \\n\\nsvchost.exe                        4844       \\n\\nAGSService.exe                     4856       \\n\\nbzserv.exe                         4864       \\n\\nibtsiva.exe                        4872       \\n\\nsvchost.exe                        4980       \\n\\nICEsoundService64.exe              5004       \\n\\nDbxSvc.exe                         5012       \\n\\nAsHidSrv.exe                       5020       \\n\\nMBAMService.exe                    4388       \\n\\nsvchost.exe                        2704       \\n\\npia-service.exe                    4600       \\n\\nNvTelemetryContainer.exe           5128       \\n\\nsvchost.exe                        5152       \\n\\nsvchost.exe                        5172       \\n\\npg_ctl.exe                         5192       \\n\\nsvchost.exe                        5200       \\n\\nRegSrvc.exe                        5208       \\n\\nsqlwriter.exe                      5216       \\n\\nMsMpEng.exe                        5224       \\n\\nZeroConfigService.exe              5264       \\n\\nsvchost.exe                        5604       \\n\\nsvchost.exe                        5720       \\n\\nsvchost.exe                        6076       \\n\\ncom.docker.service                 6188       \\n\\nvmcompute.exe                      6200       \\n\\npgagent.exe                        6296       \\n\\nunsecapp.exe                       6308       \\n\\npostgres.exe                       6656       \\n\\nconhost.exe                        6684       \\n\\npostgres.exe                       7084       \\n\\nWmiPrvSE.exe                       8024       \\n\\npostgres.exe                       7524       \\n\\npostgres.exe                       7480       \\n\\npostgres.exe                       7452       \\n\\npostgres.exe                       7472       \\n\\npostgres.exe                       7688       \\n\\npostgres.exe                       7740       \\n\\nHControl.exe                       4676       \\n\\nesif_assist_64.exe                 7940       \\n\\nmbamtray.exe                       7948       \\n\\nsihost.exe                         7184       \\n\\nsvchost.exe                        660        \\n\\nsvchost.exe                        820        \\n\\nDropboxUpdate.exe                  8280       \\n\\ntaskhostw.exe                      8356       \\n\\nsvchost.exe                        8420       \\n\\nsvchost.exe                        8560       \\n\\nctfmon.exe                         8692       \\n\\nsvchost.exe                        8852       \\n\\nexplorer.exe                       9096       \\n\\nsvchost.exe                        9128       \\n\\nsvchost.exe                        9108       \\n\\nNisSrv.exe                         9440       \\n\\nATKOSD2.exe                        9548       \\n\\nDMedia.exe                         9544       \\n\\nsvchost.exe                        9568       \\n\\nSearchIndexer.exe                  9808       \\n\\ndllhost.exe                        10024      \\n\\nStartMenuExperienceHost.exe        8584       \\n\\npostgres.exe                       9040       \\n\\nRuntimeBroker.exe                  5996       \\n\\nSearchApp.exe                      8836       \\n\\nCCleanerBrowserCrashHandler.exe    7832       \\n\\nCCleanerBrowserCrashHandler64.exe  10108      \\n\\nRuntimeBroker.exe                  9764       \\n\\nsvchost.exe                        10336      \\n\\nSettingSyncHost.exe                10576      \\n\\nTextInputHost.exe                  2368       \\n\\ndllhost.exe                        10892      \\n\\nRuntimeBroker.exe                  11196      \\n\\nwlanext.exe                        11768      \\n\\nconhost.exe                        11776      \\n\\nSecurityHealthSystray.exe          11876      \\n\\nSecurityHealthService.exe          11908      \\n\\nAmazon Music Helper.exe            12084      \\n\\nbzbui.exe                          11124      \\n\\nsvchost.exe                        1044       \\n\\nsvchost.exe                        10876      \\n\\npia-client.exe                     12032      \\n\\nCCleaner64.exe                     1776       \\n\\nsvchost.exe                        12312      \\n\\nslack.exe                          13036      \\n\\nInstantEyedropper.exe              13192      \\n\\nslack.exe                          13268      \\n\\nslack.exe                          13296      \\n\\nUpwork.exe                         9068       \\n\\nslack.exe                          13224      \\n\\nsvchost.exe                        12304      \\n\\nslack.exe                          13336      \\n\\nDocker Desktop.exe                 13352      \\n\\nUpwork.exe                         13764      \\n\\nUpwork.exe                         14000      \\n\\nUpwork.exe                         14044      \\n\\nRtkNGUI64.exe                      14088      \\n\\nRAVBg64.exe                        14112      \\n\\ncmon.exe                           14300      \\n\\npicpick.exe                        13260      \\n\\nUpwork.exe                         7952       \\n\\nONENOTEM.EXE                       14908      \\n\\nDropbox.exe                        15068      \\n\\nDropbox.exe                        15156      \\n\\nDropbox.exe                        15228      \\n\\ncom.docker.backend.exe             15236      \\n\\nconhost.exe                        15264      \\n\\nUpwork.exe                         15652      \\n\\nsvchost.exe                        16220      \\n\\nCreative Cloud.exe                 16372      \\n\\nAdobeIPCBroker.exe                 14204      \\n\\nacrotray.exe                       10512      \\n\\njusched.exe                        15412      \\n\\nShellExperienceHost.exe            9276       \\n\\nRuntimeBroker.exe                  16072      \\n\\nsvchost.exe                        16032      \\n\\nvmwp.exe                           15800      \\n\\nAdobe Desktop Service.exe          12652      \\n\\nAdobe CEF Helper.exe               8400       \\n\\nvmmem                              2816       \\n\\nwslhost.exe                        17008      \\n\\nconhost.exe                        17028      \\n\\nCoreSync.exe                       17004      \\n\\nCCXProcess.exe                     17072      \\n\\ndllhost.exe                        17076      \\n\\nnode.exe                           14484      \\n\\nconhost.exe                        9264       \\n\\nAdobe CEF Helper.exe               15144      \\n\\nwsl.exe                            16844      \\n\\nconhost.exe                        2940       \\n\\nwslhost.exe                        7180       \\n\\nconhost.exe                        7292       \\n\\nwsl.exe                            12572      \\n\\nconhost.exe                        12200      \\n\\nvpnkit-bridge.exe                  8468       \\n\\nconhost.exe                        1800       \\n\\nwslhost.exe                        13856      \\n\\nconhost.exe                        17156      \\n\\nvpnkit.exe                         7828       \\n\\nconhost.exe                        15824      \\n\\ndocker.exe                         8732       \\n\\nconhost.exe                        12976      \\n\\nwsl.exe                            15668      \\n\\ncom.docker.proxy.exe               14464      \\n\\nconhost.exe                        15128      \\n\\nwslhost.exe                        2444       \\n\\nconhost.exe                        4632       \\n\\nQtWebEngineProcess.exe             8432       \\n\\nQtWebEngineProcess.exe             10608      \\n\\ncom.docker.wsl-distro-proxy.exe    8220       \\n\\nconhost.exe                        12096      \\n\\nwsl.exe                            14516      \\n\\nwslhost.exe                        15784      \\n\\nconhost.exe                        3548       \\n\\nwsl.exe                            12624      \\n\\nwslhost.exe                        15676      \\n\\nconhost.exe                        15580      \\n\\nSgrmBroker.exe                     4308       \\n\\nsvchost.exe                        10768      \\n\\nsvchost.exe                        3868       \\n\\nsvchost.exe                        11788      \\n\\nUninstallMonitor.exe               7700       \\n\\nchrome.exe                         3596       \\n\\nchrome.exe                         6304       \\n\\nchrome.exe                         15852      \\n\\nchrome.exe                         9236       \\n\\nchrome.exe                         13604      \\n\\nchrome.exe                         9056       \\n\\nchrome.exe                         6756       \\n\\nchrome.exe                         5872       \\n\\nchrome.exe                         17264      \\n\\nchrome.exe                         8644       \\n\\nchrome.exe                         11400      \\n\\nchrome.exe                         17660      \\n\\nchrome.exe                         17692      \\n\\nchrome.exe                         17700      \\n\\nchrome.exe                         17708      \\n\\nchrome.exe                         17744      \\n\\nchrome.exe                         17780      \\n\\nchrome.exe                         17936      \\n\\nchrome.exe                         18068      \\n\\nchrome.exe                         18220      \\n\\nchrome.exe                         18228      \\n\\nsvchost.exe                        19156      \\n\\nchrome.exe                         19440      \\n\\nchrome.exe                         19888      \\n\\njucheck.exe                        20144      \\n\\nWinStore.App.exe                   17128      \\n\\nApplicationFrameHost.exe           19744      \\n\\nRuntimeBroker.exe                  20212      \\n\\nUserOOBEBroker.exe                 17564      \\n\\nsvchost.exe                        12936      \\n\\nsvchost.exe                        18500      \\n\\nCode.exe                           3964       \\n\\nCode.exe                           14232      \\n\\nCode.exe                           21188      \\n\\nCode.exe                           16140      \\n\\nCode.exe                           21028      \\n\\nCode.exe                           16812      \\n\\nCodeHelper.exe                     10800      \\n\\nconhost.exe                        12932      \\n\\nCode.exe                           16228      \\n\\nCode.exe                           13112      \\n\\nCode.exe                           21480      \\n\\nCode.exe                           19344      \\n\\nCode.exe                           15540      \\n\\nconhost.exe                        21300      \\n\\nwsl.exe                            9488       \\n\\nwslhost.exe                        21324      \\n\\nconhost.exe                        7868       \\n\\ncmd.exe                            20444      \\n\\nconhost.exe                        18632      \\n\\nchrome.exe                         11528      \\n\\nchrome.exe                         19728      \\n\\nGitHubDesktop.exe                  18908      \\n\\nGitHubDesktop.exe                  9872       \\n\\nGitHubDesktop.exe                  19584      \\n\\nGitHubDesktop.exe                  17360      \\n\\nGameBar.exe                        1292       \\n\\nGameBarFTServer.exe                18664      \\n\\nRuntimeBroker.exe                  2192       \\n\\nsvchost.exe                        20176      \\n\\nchrome.exe                         13688      \\n\\nchrome.exe                         11480      \\n\\nchrome.exe                         18972      \\n\\nchrome.exe                         2336       \\n\\nchrome.exe                         4724       \\n\\nchrome.exe                         4140       \\n\\nchrome.exe                         20360      \\n\\nchrome.exe                         12276      \\n\\nchrome.exe                         19976      \\n\\nchrome.exe                         1252       \\n\\nchrome.exe                         19420      \\n\\nchrome.exe                         11184      \\n\\nchrome.exe                         20508      \\n\\nchrome.exe                         3676       \\n\\nchrome.exe                         4532       \\n\\nchrome.exe                         3436       \\n\\nchrome.exe                         15948      \\n\\nchrome.exe                         292        \\n\\nchrome.exe                         17256      \\n\\nchrome.exe                         1592       \\n\\nchrome.exe                         7876       \\n\\nchrome.exe                         19172      \\n\\nchrome.exe                         21844      \\n\\nchrome.exe                         19196      \\n\\nchrome.exe                         20604      \\n\\nchrome.exe                         5252       \\n\\nchrome.exe                         5932       \\n\\nCode.exe                           14272      \\n\\nYourPhone.exe                      11288      \\n\\nRuntimeBroker.exe                  7276       \\n\\nrundll32.exe                       20728      \\n\\nCompPkgSrv.exe                     25108      \\n\\ndllhost.exe                        23984      \\n\\nsvchost.exe                        7304       \\n\\nsvchost.exe                        5524       \\n\\nchrome.exe                         9516       \\n\\nchrome.exe                         20720      \\n\\nchrome.exe                         2428       \\n\\nchrome.exe                         21652      \\n\\nchrome.exe                         16824      \\n\\nchrome.exe                         26820      \\n\\nsvchost.exe                        12128      \\n\\nSystemSettingsBroker.exe           7344       \\n\\nSystemSettings.exe                 26644      \\n\\nsvchost.exe                        14644      \\n\\nSpotify.exe                        19780      \\n\\nSpotify.exe                        1304       \\n\\nSpotify.exe                        23220      \\n\\nSpotify.exe                        21976      \\n\\nSpotify.exe                        6088       \\n\\nSpotify.exe                        668        \\n\\nLockApp.exe                        20732      \\n\\nRuntimeBroker.exe                  27372      \\n\\nchrome.exe                         27148      \\n\\npythonw.exe                        23484      \\n\\npythonw.exe                        15096      \\n\\npython.exe                         23520      \\n\\nconhost.exe                        9916       \\n\\npython.exe                         25816      \\n\\ncmd.exe                            1964       \\n\\nconhost.exe                        11608      \\n\\npython.exe                         24584      \\n\\nconhost.exe                        24920      \\n\\npython.exe                         26824      \\n\\nchrome.exe                         21528      \\n\\npython.exe                         26412      \\n\\nsvchost.exe                        23720      \\n\\nchromedriver.exe                   19824      \\n\\nchromedriver.exe                   26908      \\n\\nchromedriver.exe                   11256      \\n\\npython.exe                         24176      \\n\\nchromedriver.exe                   25888      \\n\\nchromedriver.exe                   18300      \\n\\nMicrosoft.Photos.exe               17088      \\n\\nRuntimeBroker.exe                  20944      \\n\\nAdobeARM.exe                       21696      \\n\\nchromedriver.exe                   26916      \\n\\nchromedriver.exe                   27144      \\n\\nchromedriver.exe                   12516      \\n\\nchrome.exe                         26016      \\n\\nsvchost.exe                        23068      \\n\\nchrome.exe                         20892      \\n\\nchrome.exe                         11636      \\n\\nTaskmgr.exe                        23508      \\n\\nchrome.exe                         7748       \\n\\nchrome.exe                         19668      \\n\\nchrome.exe                         1464       \\n\\nchrome.exe                         8428       \\n\\nchrome.exe                         24792      \\n\\nchrome.exe                         7892       \\n\\nchrome.exe                         15100      \\n\\nchrome.exe                         23868      \\n\\nchrome.exe                         25552      \\n\\nchrome.exe                         7968       \\n\\nWmiPrvSE.exe                       7880       \\n\\ncmd.exe                            20792      \\n\\nWMIC.exe                           27296      \\n\\n\\n\\n'"
      ]
     },
     "execution_count": 70,
     "metadata": {},
     "output_type": "execute_result"
    }
   ],
   "source": [
    "output = os.popen('wmic process get description, processid').read()\n",
    "output"
   ]
  },
  {
   "cell_type": "code",
   "execution_count": 117,
   "metadata": {},
   "outputs": [
    {
     "name": "stdout",
     "output_type": "stream",
     "text": [
      "b'HandleCount  Name                               Priority  ProcessId  ThreadCount  WorkingSetSize  \n",
      "0            System Idle Process                0         0          8            8192            \n",
      "7640         System                             8         4          255          5357568         \n",
      "0            Secure System                      8         72         0            74866688        \n",
      "0            Registry                           8         132        4            136884224       \n",
      "53           smss.exe                           11        512        3            1130496         \n",
      "899          csrss.exe                          13        760        16           4567040         \n",
      "167          wininit.exe                        13        960        3            6176768         \n",
      "1352         csrss.exe                          13        968        15           5763072         \n",
      "854          services.exe                       9         572        10           9916416         \n",
      "43           LsaIso.exe                         8         620        2            3051520         \n",
      "1910         lsass.exe                          9         640        10           26066944        \n",
      "276          winlogon.exe                       13        856        5            12206080        \n",
      "55           svchost.exe                        8         1028       3            3272704         \n",
      "1336         svchost.exe                        8         1060       11           34988032        \n",
      "39           fontdrvhost.exe                    8         1084       6            3481600         \n",
      "384          WUDFHost.exe                       13        1120       15           13910016        \n",
      "1656         svchost.exe                        8         1184       17           19472384        \n",
      "365          svchost.exe                        8         1236       5            8269824         \n",
      "39           fontdrvhost.exe                    8         1332       6            25739264        \n",
      "1373         dwm.exe                            13        1408       15           75710464        \n",
      "186          svchost.exe                        8         1484       5            6983680         \n",
      "351          svchost.exe                        8         1532       3            8544256         \n",
      "349          svchost.exe                        8         1540       5            12947456        \n",
      "99           svchost.exe                        8         1548       2            4927488         \n",
      "288          svchost.exe                        8         1556       8            12308480        \n",
      "260          svchost.exe                        8         1728       5            9605120         \n",
      "156          svchost.exe                        8         1736       2            11628544        \n",
      "422          svchost.exe                        8         1808       11           16052224        \n",
      "469          svchost.exe                        8         1824       7            15572992        \n",
      "298          svchost.exe                        8         1940       3            8097792         \n",
      "247          svchost.exe                        8         1952       3            12910592        \n",
      "140          svchost.exe                        8         1988       6            6123520         \n",
      "144          svchost.exe                        8         2044       2            7303168         \n",
      "200          svchost.exe                        8         8          3            8597504         \n",
      "461          svchost.exe                        8         2092       7            10211328        \n",
      "168          svchost.exe                        8         2136       4            8589312         \n",
      "343          svchost.exe                        8         2320       7            7589888         \n",
      "500          svchost.exe                        8         2416       15           19460096        \n",
      "404          svchost.exe                        8         2460       7            13119488        \n",
      "177          svchost.exe                        8         2512       3            5877760         \n",
      "626          vmms.exe                           8         2552       12           33357824        \n",
      "202          svchost.exe                        8         2588       3            11620352        \n",
      "501          svchost.exe                        8         2660       9            10133504        \n",
      "247          svchost.exe                        8         2668       4            16924672        \n",
      "304          NVDisplay.Container.exe            8         2728       13           14155776        \n",
      "125          svchost.exe                        8         2848       2            6852608         \n",
      "181          svchost.exe                        8         2876       5            7196672         \n",
      "223          svchost.exe                        8         2912       4            13156352        \n",
      "380          svchost.exe                        8         2920       3            5533696         \n",
      "224          svchost.exe                        8         2992       3            8990720         \n",
      "0            Memory Compression                 8         3008       78           1459355648      \n",
      "369          svchost.exe                        8         3056       3            8327168         \n",
      "165          svchost.exe                        8         3068       5            8085504         \n",
      "412          svchost.exe                        8         3092       8            12300288        \n",
      "221          svchost.exe                        8         3112       8            7634944         \n",
      "137          svchost.exe                        8         3188       2            6578176         \n",
      "530          NVDisplay.Container.exe            8         3208       22           27516928        \n",
      "445          svchost.exe                        8         3296       13           26931200        \n",
      "218          svchost.exe                        8         3524       3            9641984         \n",
      "259          dasHost.exe                        8         3664       4            12206080        \n",
      "630          svchost.exe                        8         3692       10           15286272        \n",
      "350          svchost.exe                        8         3872       12           10244096        \n",
      "382          svchost.exe                        8         3880       10           9854976         \n",
      "143          svchost.exe                        8         3888       5            6418432         \n",
      "247          svchost.exe                        8         2564       8            8445952         \n",
      "549          svchost.exe                        8         3624       16           19906560        \n",
      "320          svchost.exe                        8         4188       11           9039872         \n",
      "179          svchost.exe                        8         4220       3            9334784         \n",
      "129          AsLdrSrv.exe                       8         4264       6            6139904         \n",
      "232          svchost.exe                        8         4272       4            13410304        \n",
      "464          spoolsv.exe                        8         4472       8            13619200        \n",
      "183          svchost.exe                        8         4616       5            7782400         \n",
      "415          svchost.exe                        8         4728       22           51994624        \n",
      "460          svchost.exe                        8         4736       7            15077376        \n",
      "131          armsvc.exe                         8         4748       3            6004736         \n",
      "222          svchost.exe                        8         4756       5            8790016         \n",
      "353          EvtEng.exe                         8         4772       20           13422592        \n",
      "164          esif_uf.exe                        13        4780       5            7008256         \n",
      "173          FNPLicensingService64.exe          8         4792       14           8921088         \n",
      "678          svchost.exe                        8         4764       15           39239680        \n",
      "184          AdobeUpdateService.exe             8         4800       6            7897088         \n",
      "775          OfficeClickToRun.exe               8         4816       20           38797312        \n",
      "246          AGMService.exe                     8         4824       4            10825728        \n",
      "211          svchost.exe                        8         4844       6            8724480         \n",
      "306          AGSService.exe                     8         4856       4            14524416        \n",
      "304          bzserv.exe                         8         4864       7            14565376        \n",
      "89           ibtsiva.exe                        8         4872       2            4542464         \n",
      "368          svchost.exe                        8         4980       5            10039296        \n",
      "1965         ICEsoundService64.exe              8         5004       5            6762496         \n",
      "186          DbxSvc.exe                         8         5012       27           6852608         \n",
      "111          AsHidSrv.exe                       8         5020       5            5206016         \n",
      "999          MBAMService.exe                    8         4388       71           47407104        \n",
      "131          svchost.exe                        8         2704       2            5910528         \n",
      "631          pia-service.exe                    8         4600       15           27713536        \n",
      "241          NvTelemetryContainer.exe           8         5128       9            11587584        \n",
      "131          svchost.exe                        8         5152       4            5287936         \n",
      "185          svchost.exe                        8         5172       5            7991296         \n",
      "97           pg_ctl.exe                         8         5192       3            5328896         \n",
      "409          svchost.exe                        8         5200       8            21000192        \n",
      "181          RegSrvc.exe                        8         5208       3            9269248         \n",
      "141          sqlwriter.exe                      8         5216       3            7581696         \n",
      "1090         MsMpEng.exe                        8         5224       42           274395136       \n",
      "343          ZeroConfigService.exe              8         5264       14           16236544        \n",
      "233          svchost.exe                        8         5604       15           7757824         \n",
      "124          svchost.exe                        8         5720       5            5468160         \n",
      "408          svchost.exe                        8         6076       14           12296192        \n",
      "603          com.docker.service                 8         6188       8            44662784        \n",
      "178          vmcompute.exe                      8         6200       4            11423744        \n",
      "193          pgagent.exe                        8         6296       3            8040448         \n",
      "139          unsecapp.exe                       8         6308       4            7925760         \n",
      "399          postgres.exe                       8         6656       4            19546112        \n",
      "137          conhost.exe                        8         6684       5            7426048         \n",
      "345          postgres.exe                       8         7084       4            6381568         \n",
      "228          WmiPrvSE.exe                       8         8024       6            12652544        \n",
      "345          postgres.exe                       8         7524       3            8220672         \n",
      "344          postgres.exe                       8         7480       3            7823360         \n",
      "345          postgres.exe                       8         7452       3            10825728        \n",
      "345          postgres.exe                       8         7472       3            7331840         \n",
      "344          postgres.exe                       8         7688       3            6639616         \n",
      "345          postgres.exe                       8         7740       3            7012352         \n",
      "226          HControl.exe                       8         4676       5            9871360         \n",
      "62           esif_assist_64.exe                 8         7940       4            3899392         \n",
      "510          mbamtray.exe                       8         7948       10           41488384        \n",
      "918          sihost.exe                         8         7184       12           41340928        \n",
      "505          svchost.exe                        8         660        13           41660416        \n",
      "648          svchost.exe                        8         820        6            55242752        \n",
      "222          DropboxUpdate.exe                  8         8280       5            2142208         \n",
      "314          taskhostw.exe                      8         8356       8            17678336        \n",
      "339          svchost.exe                        8         8420       6            16949248        \n",
      "166          svchost.exe                        8         8560       4            7741440         \n",
      "590          ctfmon.exe                         13        8692       12           31375360        \n",
      "177          svchost.exe                        8         8852       2            9158656         \n",
      "3489         explorer.exe                       8         9096       97           203706368       \n",
      "454          svchost.exe                        8         9128       9            19996672        \n",
      "484          svchost.exe                        8         9108       9            43560960        \n",
      "211          NisSrv.exe                         8         9440       10           12345344        \n",
      "195          ATKOSD2.exe                        8         9548       4            14024704        \n",
      "167          DMedia.exe                         8         9544       4            7618560         \n",
      "498          svchost.exe                        8         9568       8            10080256        \n",
      "1006         SearchIndexer.exe                  8         9808       21           74944512        \n",
      "205          dllhost.exe                        8         10024      6            11198464        \n",
      "728          StartMenuExperienceHost.exe        8         8584       14           82718720        \n",
      "441          postgres.exe                       8         9040       4            13905920        \n",
      "352          RuntimeBroker.exe                  8         5996       4            25468928        \n",
      "2531         SearchApp.exe                      8         8836       62           224120832       \n",
      "163          CCleanerBrowserCrashHandler.exe    4         7832       6            1376256         \n",
      "146          CCleanerBrowserCrashHandler64.exe  4         10108      5            1388544         \n",
      "891          RuntimeBroker.exe                  8         9764       18           50229248        \n",
      "331          svchost.exe                        8         10336      5            21827584        \n",
      "449          SettingSyncHost.exe                6         10576      4            6709248         \n",
      "571          TextInputHost.exe                  8         2368       13           43286528        \n",
      "259          dllhost.exe                        8         10892      6            12414976        \n",
      "409          RuntimeBroker.exe                  8         11196      3            25923584        \n",
      "399          wlanext.exe                        8         11768      9            15437824        \n",
      "97           conhost.exe                        8         11776      3            5189632         \n",
      "161          SecurityHealthSystray.exe          8         11876      2            9101312         \n",
      "395          SecurityHealthService.exe          8         11908      7            14196736        \n",
      "251          Amazon Music Helper.exe            8         12084      5            12079104        \n",
      "225          bzbui.exe                          8         11124      3            10588160        \n",
      "145          svchost.exe                        8         1044       2            6950912         \n",
      "269          svchost.exe                        8         10876      5            9478144         \n",
      "402          pia-client.exe                     8         12032      12           213340160       \n",
      "692          CCleaner64.exe                     8         1776       13           29106176        \n",
      "505          svchost.exe                        8         12312      3            14364672        \n",
      "1496         slack.exe                          8         13036      29           82796544        \n",
      "174          InstantEyedropper.exe              8         13192      5            8548352         \n",
      "475          slack.exe                          10        13268      17           48910336        \n",
      "408          slack.exe                          8         13296      9            40804352        \n",
      "722          Upwork.exe                         8         9068       27           75538432        \n",
      "175          slack.exe                          8         13224      8            31776768        \n",
      "108          svchost.exe                        8         12304      4            5992448         \n",
      "272          slack.exe                          4         13336      15           122302464       \n",
      "986          Docker Desktop.exe                 8         13352      35           75309056        \n",
      "223          Upwork.exe                         8         13764      7            23379968        \n",
      "465          Upwork.exe                         10        14000      9            42807296        \n",
      "466          Upwork.exe                         8         14044      11           40341504        \n",
      "422          RtkNGUI64.exe                      6         14088      8            3301376         \n",
      "346          RAVBg64.exe                        6         14112      5            2969600         \n",
      "46           cmon.exe                           8         14300      2            3252224         \n",
      "311          picpick.exe                        8         13260      2            34074624        \n",
      "523          Upwork.exe                         8         7952       23           184881152       \n",
      "156          ONENOTEM.EXE                       8         14908      3            2408448         \n",
      "5252         Dropbox.exe                        8         15068      151          417153024       \n",
      "180          Dropbox.exe                        8         15156      7            8884224         \n",
      "325          Dropbox.exe                        8         15228      4            11497472        \n",
      "269          com.docker.backend.exe             8         15236      18           26869760        \n",
      "100          conhost.exe                        8         15264      3            5521408         \n",
      "298          Upwork.exe                         8         15652      10           59883520        \n",
      "231          svchost.exe                        8         16220      8            9830400         \n",
      "824          Creative Cloud.exe                 8         16372      28           68988928        \n",
      "242          AdobeIPCBroker.exe                 8         14204      12           11034624        \n",
      "154          acrotray.exe                       8         10512      3            8200192         \n",
      "270          jusched.exe                        8         15412      2            16134144        \n",
      "1167         ShellExperienceHost.exe            8         9276       25           104800256       \n",
      "588          RuntimeBroker.exe                  8         16072      13           35721216        \n",
      "283          svchost.exe                        8         16032      3            11235328        \n",
      "362          vmwp.exe                           8         15800      49           14249984        \n",
      "547          Adobe Desktop Service.exe          8         12652      19           41865216        \n",
      "255          Adobe CEF Helper.exe               8         8400       13           28524544        \n",
      "0            vmmem                              8         2816       18           2311061504      \n",
      "89           wslhost.exe                        8         17008      2            4673536         \n",
      "100          conhost.exe                        8         17028      3            5746688         \n",
      "428          CoreSync.exe                       8         17004      19           29224960        \n",
      "58           CCXProcess.exe                     8         17072      2            4136960         \n",
      "149          dllhost.exe                        8         17076      3            8179712         \n",
      "551          node.exe                           8         14484      19           37257216        \n",
      "99           conhost.exe                        8         9264       3            5689344         \n",
      "253          Adobe CEF Helper.exe               8         15144      13           31711232        \n",
      "137          wsl.exe                            8         16844      5            6561792         \n",
      "97           conhost.exe                        8         2940       3            5832704         \n",
      "111          wslhost.exe                        8         7180       2            5787648         \n",
      "122          conhost.exe                        8         7292       4            7602176         \n",
      "136          wsl.exe                            8         12572      5            6549504         \n",
      "97           conhost.exe                        8         12200      3            5836800         \n",
      "159          vpnkit-bridge.exe                  8         8468       14           14532608        \n",
      "101          conhost.exe                        8         1800       3            5722112         \n",
      "111          wslhost.exe                        8         13856      2            5787648         \n",
      "122          conhost.exe                        8         17156      4            7602176         \n",
      "104          vpnkit.exe                         8         7828       7            13987840        \n",
      "100          conhost.exe                        8         15824      3            5795840         \n",
      "113          docker.exe                         8         8732       13           16510976        \n",
      "100          conhost.exe                        8         12976      3            5754880         \n",
      "136          wsl.exe                            8         15668      5            6569984         \n",
      "162          com.docker.proxy.exe               8         14464      14           21737472        \n",
      "100          conhost.exe                        8         15128      3            5763072         \n",
      "111          wslhost.exe                        8         2444       2            5791744         \n",
      "122          conhost.exe                        8         4632       4            7626752         \n",
      "382          QtWebEngineProcess.exe             4         8432       23           61562880        \n",
      "313          QtWebEngineProcess.exe             4         10608      17           35946496        \n",
      "119          com.docker.wsl-distro-proxy.exe    8         8220       12           16764928        \n",
      "102          conhost.exe                        8         12096      3            5750784         \n",
      "137          wsl.exe                            8         14516      4            6615040         \n",
      "111          wslhost.exe                        8         15784      2            5795840         \n",
      "122          conhost.exe                        8         3548       4            7614464         \n",
      "137          wsl.exe                            8         12624      4            6627328         \n",
      "111          wslhost.exe                        8         15676      2            5799936         \n",
      "122          conhost.exe                        8         15580      4            7585792         \n",
      "115          SgrmBroker.exe                     8         4308       8            9699328         \n",
      "216          svchost.exe                        8         10768      2            11157504        \n",
      "235          svchost.exe                        8         3868       8            11042816        \n",
      "495          svchost.exe                        8         11788      5            22990848        \n",
      "497          UninstallMonitor.exe               8         7700       22           34791424        \n",
      "5501         chrome.exe                         8         3596       33           433049600       \n",
      "627          chrome.exe                         8         6304       8            7069696         \n",
      "1322         chrome.exe                         10        15852      28           276672512       \n",
      "413          chrome.exe                         8         9236       14           61632512        \n",
      "243          chrome.exe                         8         13604      9            20480000        \n",
      "763          chrome.exe                         4         9056       20           256765952       \n",
      "230          chrome.exe                         8         6756       17           38432768        \n",
      "251          chrome.exe                         8         5872       17           68657152        \n",
      "250          chrome.exe                         8         17264      18           37355520        \n",
      "224          chrome.exe                         8         8644       16           50114560        \n",
      "245          chrome.exe                         8         11400      17           166780928       \n",
      "225          chrome.exe                         8         17660      16           32899072        \n",
      "277          chrome.exe                         8         17692      16           63582208        \n",
      "244          chrome.exe                         8         17700      16           180256768       \n",
      "324          chrome.exe                         8         17708      19           82395136        \n",
      "225          chrome.exe                         8         17744      16           35483648        \n",
      "240          chrome.exe                         8         17780      19           97492992        \n",
      "231          chrome.exe                         8         17936      16           54951936        \n",
      "238          chrome.exe                         8         18068      17           102600704       \n",
      "248          chrome.exe                         8         18220      17           33619968        \n",
      "250          chrome.exe                         8         18228      16           72699904        \n",
      "219          svchost.exe                        8         19156      4            18571264        \n",
      "227          chrome.exe                         8         19440      16           78016512        \n",
      "305          chrome.exe                         8         19888      11           18219008        \n",
      "375          jucheck.exe                        8         20144      5            14495744        \n",
      "1011         WinStore.App.exe                   8         17128      23           3026944         \n",
      "430          ApplicationFrameHost.exe           8         19744      5            32366592        \n",
      "341          RuntimeBroker.exe                  8         20212      4            24424448        \n",
      "128          UserOOBEBroker.exe                 8         17564      3            9166848         \n",
      "183          svchost.exe                        8         12936      5            7929856         \n",
      "595          svchost.exe                        8         18500      18           24879104        \n",
      "725          Code.exe                           8         3964       27           64864256        \n",
      "233          Code.exe                           8         14232      8            21491712        \n",
      "524          Code.exe                           10        21188      24           94629888        \n",
      "394          Code.exe                           8         16140      9            36315136        \n",
      "562          Code.exe                           4         21028      29           230998016       \n",
      "373          Code.exe                           8         16812      26           137928704       \n",
      "438          CodeHelper.exe                     8         10800      11           17731584        \n",
      "97           conhost.exe                        8         12932      3            6078464         \n",
      "372          Code.exe                           8         16228      29           84054016        \n",
      "212          Code.exe                           8         13112      9            61079552        \n",
      "169          Code.exe                           8         21480      9            60858368        \n",
      "169          Code.exe                           8         19344      9            60948480        \n",
      "171          Code.exe                           8         15540      9            61923328        \n",
      "104          conhost.exe                        8         21300      6            6541312         \n",
      "132          wsl.exe                            8         9488       5            6615040         \n",
      "111          wslhost.exe                        8         21324      2            5812224         \n",
      "122          conhost.exe                        8         7868       4            7925760         \n",
      "78           cmd.exe                            8         20444      2            4808704         \n",
      "265          conhost.exe                        8         18632      4            14139392        \n",
      "335          chrome.exe                         4         11528      16           205205504       \n",
      "256          chrome.exe                         4         19728      16           55476224        \n",
      "794          GitHubDesktop.exe                  8         18908      28           78618624        \n",
      "496          GitHubDesktop.exe                  10        9872       22           49246208        \n",
      "402          GitHubDesktop.exe                  8         19584      10           34897920        \n",
      "378          GitHubDesktop.exe                  4         17360      23           89894912        \n",
      "454          GameBar.exe                        8         1292       13           4739072         \n",
      "279          GameBarFTServer.exe                8         18664      3            13602816        \n",
      "280          RuntimeBroker.exe                  8         2192       2            13176832        \n",
      "266          svchost.exe                        8         20176      4            14147584        \n",
      "459          chrome.exe                         4         13688      17           242933760       \n",
      "404          chrome.exe                         4         11480      18           148373504       \n",
      "300          chrome.exe                         4         18972      16           70098944        \n",
      "300          chrome.exe                         4         2336       16           57151488        \n",
      "364          chrome.exe                         4         4724       16           56881152        \n",
      "273          chrome.exe                         4         4140       16           50954240        \n",
      "279          chrome.exe                         4         20360      16           59052032        \n",
      "391          chrome.exe                         4         12276      18           77836288        \n",
      "317          chrome.exe                         4         19976      16           67178496        \n",
      "307          chrome.exe                         4         1252       16           120901632       \n",
      "346          chrome.exe                         4         19420      16           78815232        \n",
      "341          chrome.exe                         4         11184      16           60895232        \n",
      "279          chrome.exe                         4         20508      16           47599616        \n",
      "318          chrome.exe                         4         3676       16           56868864        \n",
      "322          chrome.exe                         4         4532       16           61173760        \n",
      "236          chrome.exe                         4         3436       16           88342528        \n",
      "300          chrome.exe                         4         15948      16           81358848        \n",
      "294          chrome.exe                         4         292        16           57643008        \n",
      "360          chrome.exe                         4         17256      16           59088896        \n",
      "279          chrome.exe                         4         1592       16           56229888        \n",
      "267          chrome.exe                         4         7876       16           55451648        \n",
      "573          chrome.exe                         4         19172      19           277078016       \n",
      "310          chrome.exe                         4         21844      17           55463936        \n",
      "317          chrome.exe                         4         19196      16           64532480        \n",
      "297          chrome.exe                         4         20604      16           91344896        \n",
      "258          chrome.exe                         4         5252       16           101806080       \n",
      "267          chrome.exe                         4         5932       17           125870080       \n",
      "169          Code.exe                           8         14272      9            107479040       \n",
      "846          YourPhone.exe                      8         11288      19           17887232        \n",
      "458          RuntimeBroker.exe                  8         7276       4            22052864        \n",
      "145          rundll32.exe                       8         20728      2            9547776         \n",
      "148          CompPkgSrv.exe                     8         25108      3            9297920         \n",
      "393          dllhost.exe                        8         23984      4            21458944        \n",
      "211          svchost.exe                        8         7304       6            9818112         \n",
      "110          svchost.exe                        8         5524       4            5541888         \n",
      "245          chrome.exe                         4         9516       16           43732992        \n",
      "275          chrome.exe                         4         20720      17           62980096        \n",
      "329          chrome.exe                         4         2428       16           65228800        \n",
      "328          chrome.exe                         4         21652      16           64159744        \n",
      "295          chrome.exe                         4         16824      16           71180288        \n",
      "320          chrome.exe                         4         26820      17           210792448       \n",
      "146          svchost.exe                        8         12128      2            8736768         \n",
      "472          SystemSettingsBroker.exe           8         7344       11           29765632        \n",
      "955          SystemSettings.exe                 8         26644      20           63668224        \n",
      "135          svchost.exe                        8         14644      3            10776576        \n",
      "1318         Spotify.exe                        8         19780      50           92733440        \n",
      "279          Spotify.exe                        8         1304       7            16625664        \n",
      "551          Spotify.exe                        10        23220      20           37978112        \n",
      "532          Spotify.exe                        8         21976      11           54194176        \n",
      "580          Spotify.exe                        4         6088       19           135028736       \n",
      "334          Spotify.exe                        8         668        8            32509952        \n",
      "585          LockApp.exe                        8         20732      17           45154304        \n",
      "477          RuntimeBroker.exe                  8         27372      11           33751040        \n",
      "299          chrome.exe                         4         27148      16           97980416        \n",
      "157          pythonw.exe                        8         23484      3            9158656         \n",
      "5749         pythonw.exe                        8         15096      4            121241600       \n",
      "165          python.exe                         8         23520      3            9179136         \n",
      "244          conhost.exe                        8         9916       4            14462976        \n",
      "708          python.exe                         8         25816      7            24092672        \n",
      "67           cmd.exe                            8         1964       2            4460544         \n",
      "230          conhost.exe                        8         11608      4            14331904        \n",
      "165          python.exe                         8         24584      2            9195520         \n",
      "253          conhost.exe                        8         24920      5            14995456        \n",
      "834          python.exe                         8         26824      9            49741824        \n",
      "330          chrome.exe                         8         21528      22           158777344       \n",
      "312          python.exe                         8         26412      11           13230080        \n",
      "148          svchost.exe                        8         23720      4            13279232        \n",
      "608          python.exe                         8         24176      18           115625984       \n",
      "965          Microsoft.Photos.exe               8         17088      18           45682688        \n",
      "444          RuntimeBroker.exe                  8         20944      5            34689024        \n",
      "519          AdobeARM.exe                       6         21696      5            3022848         \n",
      "351          chrome.exe                         4         26016      16           117686272       \n",
      "282          chrome.exe                         4         20892      16           88244224        \n",
      "311          chrome.exe                         4         11636      17           85479424        \n",
      "668          Taskmgr.exe                        8         23508      14           65093632        \n",
      "331          chrome.exe                         4         7748       16           111489024       \n",
      "490          chrome.exe                         4         19668      16           112209920       \n",
      "257          chrome.exe                         4         1464       16           86253568        \n",
      "249          chrome.exe                         8         8428       16           31334400        \n",
      "245          chrome.exe                         8         24792      16           31412224        \n",
      "249          chrome.exe                         8         7892       17           31399936        \n",
      "278          chrome.exe                         4         15100      17           74027008        \n",
      "249          chrome.exe                         8         23868      16           31289344        \n",
      "245          chrome.exe                         8         25552      16           31350784        \n",
      "859          audiodg.exe                        8         27308      12           63778816        \n",
      "212          chrome.exe                         4         19276      16           23928832        \n",
      "399          chrome.exe                         8         12072      32           359972864       \n",
      "346          SearchProtocolHost.exe             4         10380      7            11124736        \n",
      "525          chrome.exe                         8         3584       18           35536896        \n",
      "107          chrome.exe                         8         23156      8            7561216         \n",
      "147          chrome.exe                         8         21052      9            7589888         \n",
      "374          chrome.exe                         10        1716       10           33820672        \n",
      "391          chrome.exe                         8         25060      10           52076544        \n",
      "272          chrome.exe                         8         24912      15           74366976        \n",
      "165          WmiPrvSE.exe                       8         18900      7            12304384        \n",
      "529          chrome.exe                         8         23000      18           35618816        \n",
      "107          chrome.exe                         8         5956       8            7491584         \n",
      "147          chrome.exe                         8         18980      9            7528448         \n",
      "375          chrome.exe                         10        26080      10           33603584        \n",
      "419          chrome.exe                         8         22908      12           51625984        \n",
      "272          chrome.exe                         8         24000      15           75681792        \n",
      "281          chromedriver.exe                   8         21428      12           15904768        \n",
      "566          chrome.exe                         8         17308      26           35209216        \n",
      "107          chrome.exe                         8         13596      7            7487488         \n",
      "147          chrome.exe                         8         7052       9            7540736         \n",
      "375          chrome.exe                         10        14432      11           36130816        \n",
      "448          chrome.exe                         8         15612      15           52383744        \n",
      "223          chrome.exe                         8         23016      16           36564992        \n",
      "283          chrome.exe                         8         19988      15           94674944        \n",
      "210          WMIC.exe                           8         14340      8            12722176        \n",
      "\n",
      "'\n",
      "All Done\n"
     ]
    }
   ],
   "source": [
    "# import module\n",
    "import subprocess\n",
    " \n",
    "# traverse the software list\n",
    "Data = subprocess.check_output(['wmic', 'process', 'list', 'brief'])\n",
    "a = str(Data)\n",
    "# try block\n",
    "#  arrange the string\n",
    "try:\n",
    "    for i in range(len(a)):\n",
    "        print(a.split(\"\\\\r\\\\r\\\\n\")[i])\n",
    "except IndexError as e:\n",
    "    print(\"All Done\")"
   ]
  },
  {
   "cell_type": "code",
   "execution_count": 110,
   "metadata": {},
   "outputs": [
    {
     "data": {
      "text/plain": [
       "419"
      ]
     },
     "execution_count": 110,
     "metadata": {},
     "output_type": "execute_result"
    }
   ],
   "source": [
    "i"
   ]
  },
  {
   "cell_type": "code",
   "execution_count": 76,
   "metadata": {},
   "outputs": [
    {
     "name": "stdout",
     "output_type": "stream",
     "text": [
      "b'HandleCount  Name                               Priority  ProcessId  ThreadCount  WorkingSetSize  \n"
     ]
    }
   ],
   "source": [
    "print(a.split(\"\\\\r\\\\r\\\\n\")[1])\n"
   ]
  },
  {
   "cell_type": "code",
   "execution_count": 115,
   "metadata": {},
   "outputs": [],
   "source": [
    "processes_0 = a.split(\"\\\\r\\\\r\\\\n\")"
   ]
  },
  {
   "cell_type": "code",
   "execution_count": 118,
   "metadata": {},
   "outputs": [],
   "source": [
    "processes_1 = a.split(\"\\\\r\\\\r\\\\n\")"
   ]
  },
  {
   "cell_type": "code",
   "execution_count": 79,
   "metadata": {},
   "outputs": [],
   "source": [
    "handle = len('0            ')\n",
    "name = len('System Idle Process                ')\n",
    "priority = len('0         ')\n",
    "pid = len('0          ')\n",
    "thread = len('8            ')\n",
    "workingsetsize = len('8192            ')"
   ]
  },
  {
   "cell_type": "code",
   "execution_count": 90,
   "metadata": {},
   "outputs": [],
   "source": [
    "test = processes_0[1]"
   ]
  },
  {
   "cell_type": "code",
   "execution_count": 92,
   "metadata": {},
   "outputs": [
    {
     "data": {
      "text/plain": [
       "('0            ', 'System Idle Process                ', '0         ')"
      ]
     },
     "execution_count": 92,
     "metadata": {},
     "output_type": "execute_result"
    }
   ],
   "source": [
    "processes_0[1][0:handle], processes_0[1][handle:handle+name], processes_0[1][handle+name:handle+name+priority]"
   ]
  },
  {
   "cell_type": "code",
   "execution_count": 119,
   "metadata": {},
   "outputs": [],
   "source": [
    "processes_list = set([x[handle+name+priority:handle+name+priority+pid].strip() for x in processes_0])"
   ]
  },
  {
   "cell_type": "code",
   "execution_count": 120,
   "metadata": {},
   "outputs": [],
   "source": [
    "new_processes_list = [x[handle+name+priority:handle+name+priority+pid].strip() for x in processes_1]"
   ]
  },
  {
   "cell_type": "code",
   "execution_count": 126,
   "metadata": {},
   "outputs": [
    {
     "name": "stdout",
     "output_type": "stream",
     "text": [
      "21428\n",
      "17308\n",
      "13596\n",
      "7052\n",
      "14432\n",
      "15612\n",
      "23016\n",
      "19988\n",
      "14340\n"
     ]
    }
   ],
   "source": [
    "missing =[]\n",
    "for p in new_processes_list:\n",
    "    if p not in processes_list:\n",
    "        print(p)\n",
    "        missing.append(p)"
   ]
  },
  {
   "cell_type": "code",
   "execution_count": 122,
   "metadata": {},
   "outputs": [
    {
     "data": {
      "text/plain": [
       "(407, 415)"
      ]
     },
     "execution_count": 122,
     "metadata": {},
     "output_type": "execute_result"
    }
   ],
   "source": [
    "len(set(processes_list)), len(new_processes_list)"
   ]
  },
  {
   "cell_type": "code",
   "execution_count": null,
   "metadata": {},
   "outputs": [],
   "source": []
  },
  {
   "cell_type": "code",
   "execution_count": 128,
   "metadata": {},
   "outputs": [
    {
     "name": "stdout",
     "output_type": "stream",
     "text": [
      "['281          chromedriver.exe                   8         21428      12           15904768        ']\n",
      "['566          chrome.exe                         8         17308      26           35209216        ']\n",
      "['107          chrome.exe                         8         13596      7            7487488         ']\n",
      "['147          chrome.exe                         8         7052       9            7540736         ']\n",
      "['375          chrome.exe                         10        14432      11           36130816        ']\n",
      "['448          chrome.exe                         8         15612      15           52383744        ']\n",
      "['223          chrome.exe                         8         23016      16           36564992        ']\n",
      "['283          chrome.exe                         8         19988      15           94674944        ']\n",
      "['210          WMIC.exe                           8         14340      8            12722176        ']\n"
     ]
    }
   ],
   "source": [
    "for item in missing:\n",
    "    print(list(filter(lambda x: item in x, processes_1)))"
   ]
  },
  {
   "cell_type": "code",
   "execution_count": 107,
   "metadata": {},
   "outputs": [
    {
     "data": {
      "text/plain": [
       "403"
      ]
     },
     "execution_count": 107,
     "metadata": {},
     "output_type": "execute_result"
    }
   ],
   "source": [
    "len(set(new_processes_list))"
   ]
  },
  {
   "cell_type": "code",
   "execution_count": null,
   "metadata": {},
   "outputs": [],
   "source": [
    "def parse_processes(data):\n",
    "    processes = data.split(\"\\\\r\\\\r\\\\n\")\n",
    "    processes_dict = {}"
   ]
  }
 ],
 "metadata": {
  "kernelspec": {
   "display_name": "Python 3",
   "language": "python",
   "name": "python3"
  },
  "language_info": {
   "codemirror_mode": {
    "name": "ipython",
    "version": 3
   },
   "file_extension": ".py",
   "mimetype": "text/x-python",
   "name": "python",
   "nbconvert_exporter": "python",
   "pygments_lexer": "ipython3",
   "version": "3.7.8"
  }
 },
 "nbformat": 4,
 "nbformat_minor": 4
}
