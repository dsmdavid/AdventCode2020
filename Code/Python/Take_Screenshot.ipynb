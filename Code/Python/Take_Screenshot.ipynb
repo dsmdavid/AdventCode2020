{
 "cells": [
  {
   "cell_type": "code",
   "execution_count": 1,
   "metadata": {},
   "outputs": [],
   "source": [
    "from selenium import webdriver\n",
    "from selenium.webdriver.support.ui import Select\n",
    "from selenium.webdriver.chrome.options import Options\n",
    "from selenium.webdriver.support import expected_conditions as EC\n",
    "from selenium.common.exceptions import TimeoutException\n",
    "from selenium.webdriver.common.by import By\n",
    "from selenium.webdriver.support.ui import WebDriverWait\n",
    "from selenium.webdriver.common.action_chains import ActionChains\n",
    "\n",
    "\n",
    "import pandas as pd\n",
    "import re\n",
    "import getpass\n",
    "from bs4 import BeautifulSoup\n",
    "import json\n",
    "import os\n",
    "import time\n",
    "\n",
    "import pyautogui"
   ]
  },
  {
   "cell_type": "code",
   "execution_count": 2,
   "metadata": {},
   "outputs": [],
   "source": [
    "DAY = '08'\n",
    "JUPYTERNB = f'https://github.com/dsmdavid/AdventCode2020/blob/main/Code/Python/Day_{DAY}/Day_{DAY}.ipynb'\n",
    "\n"
   ]
  },
  {
   "cell_type": "code",
   "execution_count": 3,
   "metadata": {},
   "outputs": [],
   "source": [
    "with open('../../ignore/convo.json','r') as f:\n",
    "    keys = json.loads(f.read())"
   ]
  },
  {
   "cell_type": "code",
   "execution_count": 4,
   "metadata": {},
   "outputs": [],
   "source": [
    "curr_dir = os.getcwd()\n",
    "chromedriver = os.path.join(os.path.dirname(os.path.dirname(os.getcwd())), 'Resources/chromedriver')"
   ]
  },
  {
   "cell_type": "code",
   "execution_count": 5,
   "metadata": {},
   "outputs": [],
   "source": [
    "import platform\n",
    "# Win or mac?\n",
    "curr_sys = platform.system()\n",
    "if curr_sys != 'Darwin':\n",
    "    chromedriver = chromedriver + '.exe'"
   ]
  },
  {
   "cell_type": "code",
   "execution_count": 6,
   "metadata": {},
   "outputs": [],
   "source": [
    "# chromedriver = r'C:\\Users\\dsmda\\Downloads\\chromedriver_win32\\chromedriver.exe'"
   ]
  },
  {
   "cell_type": "code",
   "execution_count": 7,
   "metadata": {},
   "outputs": [],
   "source": [
    "\n",
    "class WebScraping(object):\n",
    "   \n",
    "    \"\"\"\n",
    "    selectors are defined to here to for use in raising an error downstream\n",
    "    \"\"\"\n",
    "    selectors = ['ID'\n",
    "            ,'NAME'\n",
    "            ,'XPATH'\n",
    "            ,'LINK_TEXT'\n",
    "            ,'PARTIAL_LINK_TEXT'\n",
    "            ,'TAG_NAME','CLASS_NAME'\n",
    "            ,'CSS_SELECTOR']\n",
    "   \n",
    "    def __init__(self):\n",
    "        pass\n",
    "\n",
    "    @staticmethod\n",
    "    def driv(dloaddirectory=\"C:\\\\Users\\\\\" + str(getpass.getuser()) + \"\\\\Downloads\"):\n",
    "        \"\"\"\n",
    "        Recommended use is to store the result of this function as a variable\n",
    "        e.g. driver = WebScraping.driv() be mindful that if you import the\n",
    "        module with an alias e.g. inport WebScraping as WS then you would\n",
    "        use the alias preceding .driv() in this example WS.driv()\n",
    "       \n",
    "        Initialises an instance of a driver, by default the download directory\n",
    "        is set to the downloads folder on the C: drive but to alter this simply\n",
    "        pass the optional variable dloaddirectory with the corresponding path\n",
    "        \"\"\"\n",
    "        ## define chrome webdriver settings\n",
    "        capabilities = { 'chromeOptions':\n",
    "                        { 'useAutomationExtension': False}\n",
    "                       }\n",
    "        options = webdriver.ChromeOptions()\n",
    "        options.add_argument(\"--headless\")\n",
    "        #options.add_argument(\"--window-size=1920,1080\")\n",
    "        prefs = { 'download.default_directory': dloaddirectory }\n",
    "        options.add_experimental_option('prefs', prefs)\n",
    "        options.add_experimental_option(\"useAutomationExtension\", False);\n",
    "        return webdriver.Chrome(executable_path = chromedriver, options=options)    \n",
    "   \n",
    "   \n",
    "    @classmethod\n",
    "    def selection(cls, el_type, target, driver):\n",
    "        \"\"\"\n",
    "        el_type is the element type you are looking to capture e.g. XPATH\n",
    "        Target is the path to that element\n",
    "        driver is the instance that you have declared when calling the driv() function\n",
    "       \n",
    "        This method is used to return the value\n",
    "        of the taret selected, by compounding with .click()\n",
    "        to you can interact with the target on_click event\n",
    "       \n",
    "        Raises:\n",
    "        Errors if a element is passed that is not within the following list\n",
    "        ID, NAME, XPATH, LINK_TEXT, PARTIAL_LINK_TEXT , TAG_NAME, CLASS_NAME, CSS_SELECTOR\n",
    "       \n",
    "        \"\"\"\n",
    "        #Throw error if element selected is outside of the accepted elements\n",
    "        if el_type not in cls.selectors:\n",
    "            raise Exception('{} is not an accepted element, only the following are accepted elements - ID, NAME, XPATH, LINK_TEXT, PARTIAL_LINK_TEXT , TAG_NAME, CLASS_NAME, CSS_SELECTOR'.format(el_type))\n",
    "        # Standard elements defined in the Selenium locating elements documentation\n",
    "        if el_type.upper() == 'ID':\n",
    "            return driver.find_element_by_id(target)\n",
    "        if el_type.upper() == 'LINK_TEXT':\n",
    "            return driver.find_element_by_link_text(target)\n",
    "        if el_type.upper() == 'NAME':\n",
    "            return driver.find_element_by_name(target)\n",
    "        if el_type.upper() == 'XPATH':\n",
    "            return driver.find_element_by_xpath(target)\n",
    "        if el_type.upper() == 'LINK_TEXT':\n",
    "            return driver.find_element_by_link_text(target)\n",
    "        if el_type.upper() == 'PARTIAL_LINK_TEXT':\n",
    "            return driver.find_element_by_partial_link_text(target)\n",
    "        if el_type.upper() == 'TAG_NAME':\n",
    "            return driver.find_element_by_tag_name(target)\n",
    "        if el_type.upper() == 'CLASS_NAME':\n",
    "            return driver.find_element_by_class_name(target)\n",
    "        if el_type.upper() == 'CSS_SELECTOR':\n",
    "            return driver.find_element_by_class_css_selector(target)\n",
    "\n",
    "    @staticmethod\n",
    "    def getTables(driver):\n",
    "        \"\"\"\n",
    "        Returns all tables on the displayed page as a list\n",
    "       \n",
    "        Can be iterated thorugh if all tables are required\n",
    "        or sliced if you are looking for a certain table\n",
    "        within a page\n",
    "        \"\"\"\n",
    "        return BeautifulSoup(driver.page_source).find_all('table')\n",
    "   \n",
    "    @staticmethod\n",
    "    def getLinks(html):\n",
    "        \"\"\"\n",
    "        Returns all of the hrefs (Links) from a HTML string\n",
    "       \n",
    "        Recommended use is in conjuction with getTables to extract\n",
    "        all links from a html string\n",
    "       \n",
    "        \"\"\"\n",
    "        return html.find_all('a')"
   ]
  },
  {
   "cell_type": "markdown",
   "metadata": {},
   "source": [
    "## Screenshot Jupyter notebook in github"
   ]
  },
  {
   "cell_type": "code",
   "execution_count": 8,
   "metadata": {},
   "outputs": [],
   "source": [
    "def get_jupyter_screenshot(DAY):\n",
    "    \n",
    "    JUPYTERNB = f'https://github.com/dsmdavid/AdventCode2020/blob/main/Code/Python/Day_{DAY}/Day_{DAY}.ipynb'\n",
    "    art_path = os.path.join(os.path.dirname(os.path.dirname(os.getcwd())), 'Art')\n",
    "\n",
    "    driver = WebScraping.driv(art_path)\n",
    "\n",
    "    driver.get(JUPYTERNB)\n",
    "    element_present = EC.presence_of_element_located((By.XPATH, '/html/body/div/div[2]'))\n",
    "    WebDriverWait(driver, 10).until(element_present)\n",
    "    time.sleep(1)\n",
    "\n",
    "    ele = driver.find_element_by_xpath('/html/body/div/div[2]') \n",
    "    ele2 = driver.find_element_by_xpath('/html/body/div[5]/div[1]/ul')\n",
    "\n",
    "    actions = ActionChains(driver)\n",
    "    actions.move_to_element(ele).perform()\n",
    "\n",
    "    height = ele2.location['y'] -  ele.location_once_scrolled_into_view['y']\n",
    "    time.sleep(0.3)\n",
    "\n",
    "    driver.set_window_size(ele.size['width'], height)\n",
    "    driver.save_screenshot(f'../../Art/Day_{DAY}.png')\n",
    "\n",
    "\n",
    "    driver.close()\n",
    "\n"
   ]
  },
  {
   "cell_type": "code",
   "execution_count": 9,
   "metadata": {},
   "outputs": [],
   "source": [
    "get_jupyter_screenshot(DAY)\n",
    "time.sleep(1)\n",
    "get_jupyter_screenshot(DAY)"
   ]
  },
  {
   "cell_type": "markdown",
   "metadata": {},
   "source": [
    "## Post to Convo:"
   ]
  },
  {
   "cell_type": "code",
   "execution_count": 10,
   "metadata": {},
   "outputs": [],
   "source": [
    "def valid_name(filename):\n",
    "    return  filename.startswith(f'day_{DAY}') & ((filename.endswith('yxmd') or filename.endswith('yxzp')))\n",
    "\n",
    "def get_workflow():\n",
    "    curr_dir = os.getcwd()\n",
    "    alteryx_dir = os.path.join(os.path.dirname(os.getcwd()), 'Alteryx')\n",
    "    os.chdir(os.path.join(alteryx_dir, f'Day_{DAY}'))\n",
    "    files = os.listdir()\n",
    "    workflows = list(filter(valid_name, files))\n",
    "    workflows = {w: os.path.getmtime(w) for w in workflows}\n",
    "    t = 0\n",
    "    file = ''\n",
    "    for k,v in workflows.items():\n",
    "           if v > t:\n",
    "                t, file = v, k\n",
    "    k = os.path.join(os.getcwd(),k)\n",
    "    os.chdir(curr_dir)\n",
    "    return k"
   ]
  },
  {
   "cell_type": "code",
   "execution_count": 11,
   "metadata": {},
   "outputs": [],
   "source": [
    "options = webdriver.ChromeOptions()\n",
    "options.add_argument(\"--disable-notifications\")\n",
    "#options.add_argument(\"--headless\")\n",
    "\n",
    "driver = webdriver.Chrome(executable_path =chromedriver,  options=options)\n",
    "\n",
    "driver.get(f'https://app.convo.com/app/login/')\n",
    "\n",
    "email = driver.find_element(By.ID,'email')\n",
    "email.send_keys(keys['username'])\n",
    "\n",
    "password = driver.find_element(By.ID, 'password')\n",
    "password.send_keys(keys['password'])\n",
    "\n",
    "btn = driver.find_element(By.ID, 'btnSignIn')\n",
    "btn.click()\n",
    "\n",
    "mypost = \"https://app.convo.com/#/v1/acc-26f67bc7-4b15-4825-e053-760e880a4be5/apps/6/messages/0WwMN71JYuz8dQhnfSQ3V9QpIWUFxN#title=AoC2020%252520BaseA%252520(and%252520Python%252520as%252520%252520long%252520as%252520I'm%252520able%252520to)\"\n",
    "driver.get(mypost)\n",
    "\n",
    "element_present = EC.presence_of_element_located((By.XPATH, '/html/body/div[1]/cnv-app-cont/cnv-notes-app/div/ng-include/section/div[2]/ng-include/ul/li[2]'))\n",
    "WebDriverWait(driver, 10).until(element_present)\n",
    "comment = driver.find_element_by_xpath('/html/body/div[1]/cnv-app-cont/cnv-notes-app/div/ng-include/section/div[2]/ng-include/ul/li[2]')\n",
    "\n",
    "comment.click()\n",
    "\n",
    "actions = ActionChains(driver)\n",
    "actions.move_to_element(comment).perform()\n",
    "\n",
    "element = driver.switch_to.active_element\n",
    "\n",
    "art_path = os.path.join(os.path.dirname(os.path.dirname(os.getcwd())), 'Art')\n",
    "\n",
    "jupyter_screenshot = os.path.join(art_path, f'Day_{DAY}.png')\n",
    "alteryx_screenshot = os.path.join(art_path, f'Alteryx_Day_{DAY}.png')\n",
    "alteryx_workflow = get_workflow()\n",
    "\n",
    "attachments = [jupyter_screenshot, alteryx_screenshot, alteryx_workflow]\n",
    "\n",
    "time.sleep(1)"
   ]
  },
  {
   "cell_type": "code",
   "execution_count": 13,
   "metadata": {},
   "outputs": [
    {
     "data": {
      "text/plain": [
       "['',\n",
       " 'take_screenshot - Jupyter Notebook - Google Chrome',\n",
       " \"AoC2020 BaseA (and Python as long as I'm able to) - Convo - Google Chrome\",\n",
       " 'Jupyter Notebook (Tests)',\n",
       " 'Command Prompt',\n",
       " 'Malwarebytes Tray Application',\n",
       " 'Art',\n",
       " 'Slack | bi_chapter | Infinite Lambda | 1 new item',\n",
       " 'Advent of Code 2020 - BaseA Style (Day 8) - Alteryx Community - Google Chrome',\n",
       " 'Snip & Sketch',\n",
       " 'Snip & Sketch',\n",
       " 'Alteryx_Day_08 - Paint',\n",
       " '',\n",
       " 'Calculator',\n",
       " 'Calculator',\n",
       " '',\n",
       " 'Microsoft Text Input Application',\n",
       " '',\n",
       " '',\n",
       " '',\n",
       " '',\n",
       " '',\n",
       " 'Microsoft Store',\n",
       " 'Microsoft Store',\n",
       " 'Snip & Sketch',\n",
       " 'Snip & Sketch',\n",
       " 'GitHub Desktop',\n",
       " 'Program Manager']"
      ]
     },
     "execution_count": 13,
     "metadata": {},
     "output_type": "execute_result"
    }
   ],
   "source": [
    "pyautogui.getAllTitles()"
   ]
  },
  {
   "cell_type": "code",
   "execution_count": 15,
   "metadata": {},
   "outputs": [
    {
     "data": {
      "text/plain": [
       "[Win32Window(hWnd=2296266)]"
      ]
     },
     "execution_count": 15,
     "metadata": {},
     "output_type": "execute_result"
    }
   ],
   "source": [
    "pyautogui.getWindowsWithTitle(title)"
   ]
  },
  {
   "cell_type": "code",
   "execution_count": 16,
   "metadata": {},
   "outputs": [],
   "source": [
    "\n",
    "title = [title for title in pyautogui.getAllTitles() if 'AoC2020' in title][0]\n",
    "pyautogui.getWindowsWithTitle(title)\n",
    "\n",
    "for attachment in attachments:\n",
    "    if attachment:\n",
    "        attach = driver.find_element_by_class_name('file-chooser')\n",
    "        time.sleep(5)\n",
    "        actions = ActionChains(driver)\n",
    "        actions.move_to_element(attach).perform()\n",
    "\n",
    "        attach.click()\n",
    "        time.sleep(2)\n",
    "\n",
    "        pyautogui.write(attachment) \n",
    "        pyautogui.press('enter')\n",
    "\n",
    "comment.click()\n",
    "\n",
    "actions = ActionChains(driver)\n",
    "actions.move_to_element(comment).perform()\n",
    "\n",
    "element = driver.switch_to.active_element\n",
    "\n",
    "template = f'''Day_{DAY}:\\t\\tJupyter Notebook ({JUPYTERNB})'''\n",
    "\n",
    "element.send_keys(template)\n",
    "time.sleep(1)\n",
    "actions = ActionChains(driver)\n",
    "actions.move_to_element(comment).perform()\n",
    "element.send_keys(' ')\n",
    "\n",
    "time.sleep(1)\n",
    "element.send_keys('\\n')"
   ]
  },
  {
   "cell_type": "code",
   "execution_count": null,
   "metadata": {},
   "outputs": [],
   "source": [
    "pyautogui.getAllTitles()"
   ]
  },
  {
   "cell_type": "code",
   "execution_count": null,
   "metadata": {},
   "outputs": [],
   "source": [
    "pyautogui.getWindowsWithTitle(pyautogui.getAllTitles()[2])"
   ]
  },
  {
   "cell_type": "code",
   "execution_count": null,
   "metadata": {},
   "outputs": [],
   "source": [
    "len(pyautogui.getAllTitles()), len(pyautogui.getAllWindows())"
   ]
  },
  {
   "cell_type": "code",
   "execution_count": null,
   "metadata": {},
   "outputs": [],
   "source": [
    "driver.close()"
   ]
  },
  {
   "cell_type": "code",
   "execution_count": null,
   "metadata": {},
   "outputs": [],
   "source": [
    "driver.close()"
   ]
  },
  {
   "cell_type": "markdown",
   "metadata": {},
   "source": [
    "output = os.popen('wmic process get description, processid').read()\n",
    "output"
   ]
  },
  {
   "cell_type": "raw",
   "metadata": {},
   "source": [
    "# import module\n",
    "import subprocess\n",
    " \n",
    "# traverse the software list\n",
    "Data = subprocess.check_output(['wmic', 'process', 'list', 'brief'])\n",
    "a = str(Data)\n",
    "# try block\n",
    "#  arrange the string\n",
    "try:\n",
    "    for i in range(len(a)):\n",
    "        print(a.split(\"\\\\r\\\\r\\\\n\")[i])\n",
    "except IndexError as e:\n",
    "    print(\"All Done\")"
   ]
  },
  {
   "cell_type": "raw",
   "metadata": {},
   "source": [
    "processes_0 = a.split(\"\\\\r\\\\r\\\\n\")"
   ]
  },
  {
   "cell_type": "raw",
   "metadata": {},
   "source": [
    "processes_1 = a.split(\"\\\\r\\\\r\\\\n\")"
   ]
  },
  {
   "cell_type": "raw",
   "metadata": {},
   "source": [
    "handle = len('0            ')\n",
    "name = len('System Idle Process                ')\n",
    "priority = len('0         ')\n",
    "pid = len('0          ')\n",
    "thread = len('8            ')\n",
    "workingsetsize = len('8192            ')"
   ]
  },
  {
   "cell_type": "raw",
   "metadata": {},
   "source": [
    "test = processes_0[1]"
   ]
  },
  {
   "cell_type": "raw",
   "metadata": {},
   "source": [
    "processes_0[1][0:handle], processes_0[1][handle:handle+name], processes_0[1][handle+name:handle+name+priority]"
   ]
  },
  {
   "cell_type": "raw",
   "metadata": {},
   "source": [
    "processes_list = set([x[handle+name+priority:handle+name+priority+pid].strip() for x in processes_0])"
   ]
  },
  {
   "cell_type": "raw",
   "metadata": {},
   "source": [
    "new_processes_list = [x[handle+name+priority:handle+name+priority+pid].strip() for x in processes_1]"
   ]
  },
  {
   "cell_type": "raw",
   "metadata": {},
   "source": [
    "missing =[]\n",
    "for p in new_processes_list:\n",
    "    if p not in processes_list:\n",
    "        print(p)\n",
    "        missing.append(p)"
   ]
  },
  {
   "cell_type": "raw",
   "metadata": {},
   "source": [
    "len(set(processes_list)), len(new_processes_list)"
   ]
  },
  {
   "cell_type": "code",
   "execution_count": null,
   "metadata": {},
   "outputs": [],
   "source": []
  },
  {
   "cell_type": "raw",
   "metadata": {},
   "source": [
    "for item in missing:\n",
    "    print(list(filter(lambda x: item in x, processes_1)))"
   ]
  },
  {
   "cell_type": "raw",
   "metadata": {},
   "source": [
    "len(set(new_processes_list))"
   ]
  },
  {
   "cell_type": "raw",
   "metadata": {},
   "source": [
    "def parse_processes(data):\n",
    "    processes = data.split(\"\\\\r\\\\r\\\\n\")\n",
    "    processes_dict = {}"
   ]
  }
 ],
 "metadata": {
  "kernelspec": {
   "display_name": "Python 3",
   "language": "python",
   "name": "python3"
  },
  "language_info": {
   "codemirror_mode": {
    "name": "ipython",
    "version": 3
   },
   "file_extension": ".py",
   "mimetype": "text/x-python",
   "name": "python",
   "nbconvert_exporter": "python",
   "pygments_lexer": "ipython3",
   "version": "3.6.8"
  }
 },
 "nbformat": 4,
 "nbformat_minor": 4
}
