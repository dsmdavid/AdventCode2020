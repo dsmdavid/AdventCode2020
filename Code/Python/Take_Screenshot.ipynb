{
 "cells": [
  {
   "cell_type": "code",
   "execution_count": 5,
   "metadata": {},
   "outputs": [],
   "source": [
    "from selenium import webdriver\n",
    "from selenium.webdriver.support.ui import Select\n",
    "from selenium.webdriver.chrome.options import Options\n",
    "from selenium.webdriver.support import expected_conditions as EC\n",
    "from selenium.common.exceptions import TimeoutException\n",
    "from selenium.webdriver.common.by import By\n",
    "from selenium.webdriver.support.ui import WebDriverWait\n",
    "\n",
    "import pandas as pd\n",
    "import re\n",
    "import getpass\n",
    "from bs4 import BeautifulSoup\n"
   ]
  },
  {
   "cell_type": "code",
   "execution_count": 7,
   "metadata": {},
   "outputs": [],
   "source": [
    "\n",
    "class WebScraping(object):\n",
    "   \n",
    "    \"\"\"\n",
    "    selectors are defined to here to for use in raising an error downstream\n",
    "    \"\"\"\n",
    "    selectors = ['ID'\n",
    "            ,'NAME'\n",
    "            ,'XPATH'\n",
    "            ,'LINK_TEXT'\n",
    "            ,'PARTIAL_LINK_TEXT'\n",
    "            ,'TAG_NAME','CLASS_NAME'\n",
    "            ,'CSS_SELECTOR']\n",
    "   \n",
    "    def __init__(self):\n",
    "        pass\n",
    "\n",
    "    @staticmethod\n",
    "    def driv(dloaddirectory=\"C:\\\\Users\\\\\" + str(getpass.getuser()) + \"\\\\Downloads\"):\n",
    "        \"\"\"\n",
    "        Recommended use is to store the result of this function as a variable\n",
    "        e.g. driver = WebScraping.driv() be mindful that if you import the\n",
    "        module with an alias e.g. inport WebScraping as WS then you would\n",
    "        use the alias preceding .driv() in this example WS.driv()\n",
    "       \n",
    "        Initialises an instance of a driver, by default the download directory\n",
    "        is set to the downloads folder on the C: drive but to alter this simply\n",
    "        pass the optional variable dloaddirectory with the corresponding path\n",
    "        \"\"\"\n",
    "        ## define chrome webdriver settings\n",
    "        capabilities = { 'chromeOptions':\n",
    "                        { 'useAutomationExtension': False}\n",
    "                       }\n",
    "        options = webdriver.ChromeOptions()\n",
    "        #options.add_argument(\"--window-size=1920,1080\")\n",
    "        prefs = { 'download.default_directory': dloaddirectory }\n",
    "        options.add_experimental_option('prefs', prefs)\n",
    "        options.add_experimental_option(\"useAutomationExtension\", False);\n",
    "        return webdriver.Chrome(executable_path =r'C:\\Users\\dsmda\\Downloads\\chromedriver_win32\\chromedriver.exe', options=options)    \n",
    "   \n",
    "   \n",
    "    @classmethod\n",
    "    def selection(cls, el_type, target, driver):\n",
    "        \"\"\"\n",
    "        el_type is the element type you are looking to capture e.g. XPATH\n",
    "        Target is the path to that element\n",
    "        driver is the instance that you have declared when calling the driv() function\n",
    "       \n",
    "        This method is used to return the value\n",
    "        of the taret selected, by compounding with .click()\n",
    "        to you can interact with the target on_click event\n",
    "       \n",
    "        Raises:\n",
    "        Errors if a element is passed that is not within the following list\n",
    "        ID, NAME, XPATH, LINK_TEXT, PARTIAL_LINK_TEXT , TAG_NAME, CLASS_NAME, CSS_SELECTOR\n",
    "       \n",
    "        \"\"\"\n",
    "        #Throw error if element selected is outside of the accepted elements\n",
    "        if el_type not in cls.selectors:\n",
    "            raise Exception('{} is not an accepted element, only the following are accepted elements - ID, NAME, XPATH, LINK_TEXT, PARTIAL_LINK_TEXT , TAG_NAME, CLASS_NAME, CSS_SELECTOR'.format(el_type))\n",
    "        # Standard elements defined in the Selenium locating elements documentation\n",
    "        if el_type.upper() == 'ID':\n",
    "            return driver.find_element_by_id(target)\n",
    "        if el_type.upper() == 'LINK_TEXT':\n",
    "            return driver.find_element_by_link_text(target)\n",
    "        if el_type.upper() == 'NAME':\n",
    "            return driver.find_element_by_name(target)\n",
    "        if el_type.upper() == 'XPATH':\n",
    "            return driver.find_element_by_xpath(target)\n",
    "        if el_type.upper() == 'LINK_TEXT':\n",
    "            return driver.find_element_by_link_text(target)\n",
    "        if el_type.upper() == 'PARTIAL_LINK_TEXT':\n",
    "            return driver.find_element_by_partial_link_text(target)\n",
    "        if el_type.upper() == 'TAG_NAME':\n",
    "            return driver.find_element_by_tag_name(target)\n",
    "        if el_type.upper() == 'CLASS_NAME':\n",
    "            return driver.find_element_by_class_name(target)\n",
    "        if el_type.upper() == 'CSS_SELECTOR':\n",
    "            return driver.find_element_by_class_css_selector(target)\n",
    "\n",
    "    @staticmethod\n",
    "    def getTables(driver):\n",
    "        \"\"\"\n",
    "        Returns all tables on the displayed page as a list\n",
    "       \n",
    "        Can be iterated thorugh if all tables are required\n",
    "        or sliced if you are looking for a certain table\n",
    "        within a page\n",
    "        \"\"\"\n",
    "        return BeautifulSoup(driver.page_source).find_all('table')\n",
    "   \n",
    "    @staticmethod\n",
    "    def getLinks(html):\n",
    "        \"\"\"\n",
    "        Returns all of the hrefs (Links) from a HTML string\n",
    "       \n",
    "        Recommended use is in conjuction with getTables to extract\n",
    "        all links from a html string\n",
    "       \n",
    "        \"\"\"\n",
    "        return html.find_all('a')"
   ]
  },
  {
   "cell_type": "code",
   "execution_count": 9,
   "metadata": {},
   "outputs": [],
   "source": [
    "driver = WebScraping.driv(r'C:\\Users\\dsmda\\Documents\\DropboxLink\\python\\AdventCode2020\\Art')"
   ]
  },
  {
   "cell_type": "code",
   "execution_count": 10,
   "metadata": {},
   "outputs": [],
   "source": [
    "driver.get('https://github.com/dsmdavid/AdventCode2020/blob/main/Code/Python/Day_04/Day_04.ipynb')"
   ]
  },
  {
   "cell_type": "code",
   "execution_count": 19,
   "metadata": {},
   "outputs": [],
   "source": [
    "ele = driver.find_element_by_xpath('/html/body/div/div[2]') \n"
   ]
  },
  {
   "cell_type": "code",
   "execution_count": 27,
   "metadata": {},
   "outputs": [],
   "source": [
    "ele2 = driver.find_element_by_xpath('/html/body/div[5]/div[1]/ul')"
   ]
  },
  {
   "cell_type": "code",
   "execution_count": 29,
   "metadata": {},
   "outputs": [
    {
     "data": {
      "text/plain": [
       "6948"
      ]
     },
     "execution_count": 29,
     "metadata": {},
     "output_type": "execute_result"
    }
   ],
   "source": [
    "ele2.location['y']"
   ]
  },
  {
   "cell_type": "code",
   "execution_count": 26,
   "metadata": {},
   "outputs": [
    {
     "data": {
      "text/plain": [
       "'div'"
      ]
     },
     "execution_count": 26,
     "metadata": {},
     "output_type": "execute_result"
    }
   ],
   "source": [
    "ele.tag_name"
   ]
  },
  {
   "cell_type": "code",
   "execution_count": 18,
   "metadata": {},
   "outputs": [
    {
     "data": {
      "text/plain": [
       "{'height': 40, 'width': 325}"
      ]
     },
     "execution_count": 18,
     "metadata": {},
     "output_type": "execute_result"
    }
   ],
   "source": [
    "ele.size"
   ]
  },
  {
   "cell_type": "code",
   "execution_count": 20,
   "metadata": {},
   "outputs": [
    {
     "data": {
      "text/plain": [
       "{'height': 40, 'width': 1248}"
      ]
     },
     "execution_count": 20,
     "metadata": {},
     "output_type": "execute_result"
    }
   ],
   "source": [
    "ele.size"
   ]
  },
  {
   "cell_type": "code",
   "execution_count": 22,
   "metadata": {},
   "outputs": [
    {
     "data": {
      "text/plain": [
       "{'width': 1936, 'height': 1056}"
      ]
     },
     "execution_count": 22,
     "metadata": {},
     "output_type": "execute_result"
    }
   ],
   "source": [
    "driver.get_window_size()"
   ]
  },
  {
   "cell_type": "code",
   "execution_count": 30,
   "metadata": {},
   "outputs": [
    {
     "data": {
      "text/plain": [
       "True"
      ]
     },
     "execution_count": 30,
     "metadata": {},
     "output_type": "execute_result"
    }
   ],
   "source": [
    "driver.set_window_size(ele.size['width'], ele2.location['y'])\n",
    "driver.save_screenshot(\"screenshot1.png\")\n"
   ]
  },
  {
   "cell_type": "code",
   "execution_count": null,
   "metadata": {},
   "outputs": [],
   "source": [
    "#notebooka"
   ]
  },
  {
   "cell_type": "code",
   "execution_count": null,
   "metadata": {},
   "outputs": [],
   "source": [
    "\n",
    "def test_fullpage_screenshot(self):\n",
    "    chrome_options = Options()\n",
    "    chrome_options.add_argument('--headless')\n",
    "    chrome_options.add_argument('--start-maximized')\n",
    "    driver = webdriver.Chrome(chrome_options=chrome_options)\n",
    "    driver.get(\"https://github.com/dsmdavid/AdventCode2020/blob/main/Code/Python/Day_04/Day_04.ipynb\")\n",
    "    time.sleep(2)\n",
    "\n",
    "    #the element with longest height on page\n",
    "    ele=driver.find_element(\"xpath\", '//div[@class=\"react-grid-layout layout\"]')\n",
    "    total_height = ele.size[\"height\"]+1000\n",
    "\n",
    "    driver.set_window_size(1920, total_height)      #the trick\n",
    "    time.sleep(2)\n",
    "    driver.save_screenshot(\"screenshot1.png\")\n",
    "    driver.quit()\n",
    "\n",
    "if __name__ == \"__main__\":\n",
    "    test_fullpage_screenshot()\n"
   ]
  }
 ],
 "metadata": {
  "kernelspec": {
   "display_name": "Python 3",
   "language": "python",
   "name": "python3"
  },
  "language_info": {
   "codemirror_mode": {
    "name": "ipython",
    "version": 3
   },
   "file_extension": ".py",
   "mimetype": "text/x-python",
   "name": "python",
   "nbconvert_exporter": "python",
   "pygments_lexer": "ipython3",
   "version": "3.6.8"
  }
 },
 "nbformat": 4,
 "nbformat_minor": 4
}
