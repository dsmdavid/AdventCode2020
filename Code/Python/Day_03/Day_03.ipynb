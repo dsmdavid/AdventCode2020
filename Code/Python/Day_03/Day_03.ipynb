{
 "cells": [
  {
   "cell_type": "markdown",
   "metadata": {},
   "source": [
    "# Slope slider"
   ]
  },
  {
   "cell_type": "markdown",
   "metadata": {},
   "source": [
    "With the toboggan login problems resolved, you set off toward the airport. While travel by toboggan might be easy, it's certainly not safe: there's very minimal steering and the area is covered in trees. You'll need to see which angles will take you near the fewest trees.\n",
    "\n",
    "Due to the local geology, trees in this area only grow on exact integer coordinates in a grid. You make a map (your puzzle input) of the open squares (.) and trees (#) you can see. For example:\n",
    "```\n",
    "..##.......\n",
    "#...#...#..\n",
    ".#....#..#.\n",
    "..#.#...#.#\n",
    ".#...##..#.\n",
    "..#.##.....\n",
    ".#.#.#....#\n",
    ".#........#\n",
    "#.##...#...\n",
    "#...##....#\n",
    ".#..#...#.#\n",
    "```  \n",
    "These aren't the only trees, though; due to something you read about once involving arboreal genetics and biome stability, the same pattern repeats to the right many times:\n",
    "```\n",
    "..##.........##.........##.........##.........##.........##.......  --->\n",
    "#...#...#..#...#...#..#...#...#..#...#...#..#...#...#..#...#...#..\n",
    ".#....#..#..#....#..#..#....#..#..#....#..#..#....#..#..#....#..#.\n",
    "..#.#...#.#..#.#...#.#..#.#...#.#..#.#...#.#..#.#...#.#..#.#...#.#\n",
    ".#...##..#..#...##..#..#...##..#..#...##..#..#...##..#..#...##..#.\n",
    "..#.##.......#.##.......#.##.......#.##.......#.##.......#.##.....  --->\n",
    ".#.#.#....#.#.#.#....#.#.#.#....#.#.#.#....#.#.#.#....#.#.#.#....#\n",
    ".#........#.#........#.#........#.#........#.#........#.#........#\n",
    "#.##...#...#.##...#...#.##...#...#.##...#...#.##...#...#.##...#...\n",
    "#...##....##...##....##...##....##...##....##...##....##...##....#\n",
    ".#..#...#.#.#..#...#.#.#..#...#.#.#..#...#.#.#..#...#.#.#..#...#.#  --->\n",
    "```  \n",
    "You start on the open square (.) in the top-left corner and need to reach the bottom (below the bottom-most row on your map).\n",
    "\n",
    "The toboggan can only follow a few specific slopes (you opted for a cheaper model that prefers rational numbers); start by counting all the trees you would encounter for the slope right 3, down 1:\n",
    "\n",
    "From your starting position at the top-left, check the position that is right 3 and down 1. Then, check the position that is right 3 and down 1 from there, and so on until you go past the bottom of the map.\n",
    "\n",
    "The locations you'd check in the above example are marked here with O where there was an open square and X where there was a tree:\n",
    "```\n",
    "..##.........##.........##.........##.........##.........##.......  --->\n",
    "#..O#...#..#...#...#..#...#...#..#...#...#..#...#...#..#...#...#..\n",
    ".#....X..#..#....#..#..#....#..#..#....#..#..#....#..#..#....#..#.\n",
    "..#.#...#O#..#.#...#.#..#.#...#.#..#.#...#.#..#.#...#.#..#.#...#.#\n",
    ".#...##..#..X...##..#..#...##..#..#...##..#..#...##..#..#...##..#.\n",
    "..#.##.......#.X#.......#.##.......#.##.......#.##.......#.##.....  --->\n",
    ".#.#.#....#.#.#.#.O..#.#.#.#....#.#.#.#....#.#.#.#....#.#.#.#....#\n",
    ".#........#.#........X.#........#.#........#.#........#.#........#\n",
    "#.##...#...#.##...#...#.X#...#...#.##...#...#.##...#...#.##...#...\n",
    "#...##....##...##....##...#X....##...##....##...##....##...##....#\n",
    ".#..#...#.#.#..#...#.#.#..#...X.#.#..#...#.#.#..#...#.#.#..#...#.#  --->\n",
    "```  \n",
    "In this example, traversing the map using this slope would cause you to encounter 7 trees.\n",
    "\n",
    "Starting at the top-left corner of your map and following a slope of right 3 and down 1, how many trees would you encounter?\n"
   ]
  },
  {
   "cell_type": "markdown",
   "metadata": {},
   "source": [
    "## Second part"
   ]
  },
  {
   "cell_type": "markdown",
   "metadata": {},
   "source": [
    "Time to check the rest of the slopes - you need to minimize the probability of a sudden arboreal stop, after all.\n",
    "\n",
    "Determine the number of trees you would encounter if, for each of the following slopes, you start at the top-left corner and traverse the map all the way to the bottom:\n",
    "\n",
    "Right 1, down 1.\n",
    "Right 3, down 1. (This is the slope you already checked.)\n",
    "Right 5, down 1.\n",
    "Right 7, down 1.\n",
    "Right 1, down 2.\n",
    "In the above example, these slopes would find 2, 7, 3, 4, and 2 tree(s) respectively; multiplied together, these produce the answer 336.\n",
    "\n",
    "What do you get if you multiply together the number of trees encountered on each of the listed slopes?\n"
   ]
  },
  {
   "cell_type": "code",
   "execution_count": 1,
   "metadata": {},
   "outputs": [],
   "source": [
    "import os\n",
    "import time\n",
    "import math"
   ]
  },
  {
   "cell_type": "code",
   "execution_count": 2,
   "metadata": {},
   "outputs": [],
   "source": [
    "RUN_WITH = 'input' ## admitted values: sample input\n",
    "SAMPLE_DATA = '''..##.......\n",
    "#...#...#..\n",
    ".#....#..#.\n",
    "..#.#...#.#\n",
    ".#...##..#.\n",
    "..#.##.....\n",
    ".#.#.#....#\n",
    ".#........#\n",
    "#.##...#...\n",
    "#...##....#\n",
    ".#..#...#.#'''\n",
    "START = (1,1)"
   ]
  },
  {
   "cell_type": "code",
   "execution_count": 3,
   "metadata": {},
   "outputs": [],
   "source": [
    "# INPUT PART 2:\n",
    "jumps = [(1,1),(3,1),(5,1),(7,1),(1,2)]"
   ]
  },
  {
   "cell_type": "code",
   "execution_count": 4,
   "metadata": {},
   "outputs": [],
   "source": [
    "start = time.time()"
   ]
  },
  {
   "cell_type": "code",
   "execution_count": 5,
   "metadata": {},
   "outputs": [],
   "source": [
    "day = 'Day_03'\n",
    "file_end = '_01.txt'\n",
    "input_path = os.path.join(os.path.dirname(os.path.dirname(os.path.dirname(os.getcwd()))), \"Inputs\")\n",
    "input_path_day = os.path.join(input_path, day)\n",
    "file_path = os.path.join(input_path_day, day+ file_end)"
   ]
  },
  {
   "cell_type": "markdown",
   "metadata": {},
   "source": [
    "### Read input"
   ]
  },
  {
   "cell_type": "code",
   "execution_count": 6,
   "metadata": {},
   "outputs": [],
   "source": [
    "if RUN_WITH == 'input':\n",
    "    with open(file_path,'r') as f:\n",
    "        values = f.read().split('\\n')\n",
    "    values.remove(\"\")  \n",
    "elif RUN_WITH == 'sample':\n",
    "    values = SAMPLE_DATA.split('\\n')\n",
    "else:\n",
    "    print(\"No valid input selected\")\n"
   ]
  },
  {
   "cell_type": "code",
   "execution_count": 7,
   "metadata": {},
   "outputs": [
    {
     "data": {
      "text/plain": [
       "['.........#..##.##..............',\n",
       " '#...#.#..#.....................',\n",
       " '.#...#..#...................#..',\n",
       " '........##..#...#..............',\n",
       " '.#.#.....#..#..##......#.......']"
      ]
     },
     "execution_count": 7,
     "metadata": {},
     "output_type": "execute_result"
    }
   ],
   "source": [
    "values[0:5]"
   ]
  },
  {
   "cell_type": "code",
   "execution_count": 8,
   "metadata": {},
   "outputs": [],
   "source": [
    "## ALL DIMENSIONS LIKE X,Y (RIGHT, DOWN) STARTING FROM TOP LEFT"
   ]
  },
  {
   "cell_type": "code",
   "execution_count": 9,
   "metadata": {},
   "outputs": [],
   "source": [
    "# Get Dimensions:\n",
    "def get_dimensions(slope):\n",
    "    rows = len(slope)\n",
    "    columns = len(slope[0])\n",
    "    return rows, columns\n",
    "\n",
    "def get_steps_needed(slope, jump):\n",
    "    rows, columns = get_dimensions(slope)\n",
    "    jump_down = jump[1]\n",
    "    steps_needed = math.ceil(rows/jump_down)\n",
    "    return steps_needed\n",
    "\n",
    "def get_coordinates(slope, jump, start):\n",
    "    startx = start[0]\n",
    "    starty = start[1]\n",
    "    rows, columns = get_dimensions(slope)\n",
    "    steps = get_steps_needed(slope, jump)\n",
    "    jump_right = jump[0]\n",
    "    jump_down = jump[1]\n",
    "    positions = []\n",
    "    for i in range(steps):\n",
    "        positionx = startx + i * jump_right\n",
    "        positiony = starty + i * jump_down\n",
    "        positionx = positionx % columns\n",
    "        if positionx == 0:\n",
    "            positionx = columns\n",
    "        positions.append((positionx, positiony))\n",
    "    return positions\n",
    "\n",
    "def get_tree(slope, coordinate):\n",
    "    try:\n",
    "        return slope[coordinate[1]-1][coordinate[0]-1]\n",
    "    except:\n",
    "        return None\n",
    "\n",
    "def number_trees_hit(slope, start, jump):\n",
    "    trees = [get_tree(values, coor) for coor in get_coordinates(slope, jump,start)]\n",
    "    trees = list(filter(lambda x: x=='#', trees))\n",
    "    return len(trees)"
   ]
  },
  {
   "cell_type": "code",
   "execution_count": 14,
   "metadata": {},
   "outputs": [
    {
     "data": {
      "text/plain": [
       "268"
      ]
     },
     "execution_count": 14,
     "metadata": {},
     "output_type": "execute_result"
    }
   ],
   "source": [
    "number_trees_hit(values, (1,1), (3,1))"
   ]
  },
  {
   "cell_type": "markdown",
   "metadata": {},
   "source": [
    "part 2:"
   ]
  },
  {
   "cell_type": "code",
   "execution_count": 15,
   "metadata": {},
   "outputs": [],
   "source": [
    "result = 1"
   ]
  },
  {
   "cell_type": "code",
   "execution_count": 16,
   "metadata": {},
   "outputs": [
    {
     "name": "stdout",
     "output_type": "stream",
     "text": [
      "3093068400\n"
     ]
    }
   ],
   "source": [
    "for jump in jumps:\n",
    "    result = result * number_trees_hit(values, START, jump)\n",
    "print(result)"
   ]
  },
  {
   "cell_type": "code",
   "execution_count": 17,
   "metadata": {},
   "outputs": [
    {
     "data": {
      "text/plain": [
       "0.11687898635864258"
      ]
     },
     "execution_count": 17,
     "metadata": {},
     "output_type": "execute_result"
    }
   ],
   "source": [
    "end = time.time()\n",
    "end - start"
   ]
  }
 ],
 "metadata": {
  "kernelspec": {
   "display_name": "Python 3",
   "language": "python",
   "name": "python3"
  },
  "language_info": {
   "codemirror_mode": {
    "name": "ipython",
    "version": 3
   },
   "file_extension": ".py",
   "mimetype": "text/x-python",
   "name": "python",
   "nbconvert_exporter": "python",
   "pygments_lexer": "ipython3",
   "version": "3.7.8"
  }
 },
 "nbformat": 4,
 "nbformat_minor": 4
}
