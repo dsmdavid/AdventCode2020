{
 "cells": [
  {
   "cell_type": "markdown",
   "metadata": {},
   "source": [
    "# Docking bitmasks"
   ]
  },
  {
   "cell_type": "markdown",
   "metadata": {},
   "source": [
    "--- Day 14: Docking Data ---\n",
    "As your ferry approaches the sea port, the captain asks for your help again. The computer system that runs this port isn't compatible with the docking program on the ferry, so the docking parameters aren't being correctly initialized in the docking program's memory.\n",
    "\n",
    "After a brief inspection, you discover that the sea port's computer system uses a strange bitmask system in its initialization program. Although you don't have the correct decoder chip handy, you can emulate it in software!\n",
    "\n",
    "The initialization program (your puzzle input) can either update the bitmask or write a value to memory. Values and memory addresses are both 36-bit unsigned integers. For example, ignoring bitmasks for a moment, a line like mem[8] = 11 would write the value 11 to memory address 8.\n",
    "\n",
    "The bitmask is always given as a string of 36 bits, written with the most significant bit (representing 2^35) on the left and the least significant bit (2^0, that is, the 1s bit) on the right. The current bitmask is applied to values immediately before they are written to memory: a 0 or 1 overwrites the corresponding bit in the value, while an X leaves the bit in the value unchanged.\n",
    "\n",
    "For example, consider the following program:\n",
    "```\n",
    "mask = XXXXXXXXXXXXXXXXXXXXXXXXXXXXX1XXXX0X\n",
    "mem[8] = 11\n",
    "mem[7] = 101\n",
    "mem[8] = 0\n",
    "```\n",
    "This program starts by specifying a bitmask (mask = ....). The mask it specifies will overwrite two bits in every written value: the 2s bit is overwritten with 0, and the 64s bit is overwritten with 1.\n",
    "\n",
    "The program then attempts to write the value 11 to memory address 8. By expanding everything out to individual bits, the mask is applied as follows:\n",
    "```\n",
    "value:  000000000000000000000000000000001011  (decimal 11)\n",
    "mask:   XXXXXXXXXXXXXXXXXXXXXXXXXXXXX1XXXX0X\n",
    "result: 000000000000000000000000000001001001  (decimal 73)\n",
    "```\n",
    "So, because of the mask, the value 73 is written to memory address 8 instead. Then, the program tries to write 101 to address 7:\n",
    "```\n",
    "value:  000000000000000000000000000001100101  (decimal 101)\n",
    "mask:   XXXXXXXXXXXXXXXXXXXXXXXXXXXXX1XXXX0X\n",
    "result: 000000000000000000000000000001100101  (decimal 101)\n",
    "```\n",
    "This time, the mask has no effect, as the bits it overwrote were already the values the mask tried to set. Finally, the program tries to write 0 to address 8:\n",
    "\n",
    "```\n",
    "value:  000000000000000000000000000000000000  (decimal 0)\n",
    "mask:   XXXXXXXXXXXXXXXXXXXXXXXXXXXXX1XXXX0X\n",
    "result: 000000000000000000000000000001000000  (decimal 64)\n",
    "```\n",
    "64 is written to address 8 instead, overwriting the value that was there previously.\n",
    "\n",
    "To initialize your ferry's docking program, you need the sum of all values left in memory after the initialization program completes. (The entire 36-bit address space begins initialized to the value 0 at every address.) In the above example, only two values in memory are not zero - 101 (at address 7) and 64 (at address 8) - producing a sum of 165.\n",
    "\n",
    "Execute the initialization program. What is the sum of all values left in memory after it completes?"
   ]
  },
  {
   "cell_type": "markdown",
   "metadata": {},
   "source": [
    "## Second part"
   ]
  },
  {
   "cell_type": "markdown",
   "metadata": {},
   "source": [
    "--- Part Two ---\n",
    "For some reason, the sea port's computer system still can't communicate with your ferry's docking program. It must be using version 2 of the decoder chip!\n",
    "\n",
    "A version 2 decoder chip doesn't modify the values being written at all. Instead, it acts as a memory address decoder. Immediately before a value is written to memory, each bit in the bitmask modifies the corresponding bit of the destination memory address in the following way:\n",
    "\n",
    "If the bitmask bit is 0, the corresponding memory address bit is unchanged.\n",
    "If the bitmask bit is 1, the corresponding memory address bit is overwritten with 1.\n",
    "If the bitmask bit is X, the corresponding memory address bit is floating.\n",
    "A floating bit is not connected to anything and instead fluctuates unpredictably. In practice, this means the floating bits will take on all possible values, potentially causing many memory addresses to be written all at once!\n",
    "\n",
    "For example, consider the following program:\n",
    "```\n",
    "mask = 000000000000000000000000000000X1001X\n",
    "mem[42] = 100\n",
    "mask = 00000000000000000000000000000000X0XX\n",
    "mem[26] = 1\n",
    "```\n",
    "When this program goes to write to memory address 42, it first applies the bitmask:\n",
    "```\n",
    "address: 000000000000000000000000000000101010  (decimal 42)\n",
    "mask:    000000000000000000000000000000X1001X\n",
    "result:  000000000000000000000000000000X1101X\n",
    "```\n",
    "After applying the mask, four bits are overwritten, three of which are different, and two of which are floating. Floating bits take on every possible combination of values; with two floating bits, four actual memory addresses are written:\n",
    "```\n",
    "000000000000000000000000000000011010  (decimal 26)\n",
    "000000000000000000000000000000011011  (decimal 27)\n",
    "000000000000000000000000000000111010  (decimal 58)\n",
    "000000000000000000000000000000111011  (decimal 59)\n",
    "```\n",
    "Next, the program is about to write to memory address 26 with a different bitmask:\n",
    "```\n",
    "address: 000000000000000000000000000000011010  (decimal 26)\n",
    "mask:    00000000000000000000000000000000X0XX\n",
    "result:  00000000000000000000000000000001X0XX\n",
    "```\n",
    "This results in an address with three floating bits, causing writes to eight memory addresses:\n",
    "```\n",
    "000000000000000000000000000000010000  (decimal 16)\n",
    "000000000000000000000000000000010001  (decimal 17)\n",
    "000000000000000000000000000000010010  (decimal 18)\n",
    "000000000000000000000000000000010011  (decimal 19)\n",
    "000000000000000000000000000000011000  (decimal 24)\n",
    "000000000000000000000000000000011001  (decimal 25)\n",
    "000000000000000000000000000000011010  (decimal 26)\n",
    "000000000000000000000000000000011011  (decimal 27)\n",
    "```\n",
    "The entire 36-bit address space still begins initialized to the value 0 at every address, and you still need the sum of all values left in memory at the end of the program. In this example, the sum is 208.\n",
    "\n",
    "Execute the initialization program using an emulator for a version 2 decoder chip. What is the sum of all values left in memory after it completes?"
   ]
  },
  {
   "cell_type": "code",
   "execution_count": 1,
   "metadata": {},
   "outputs": [],
   "source": [
    "import os\n",
    "import time\n",
    "import numpy as np\n",
    "import re"
   ]
  },
  {
   "cell_type": "code",
   "execution_count": 2,
   "metadata": {},
   "outputs": [],
   "source": [
    "DAY = 'Day_14'\n",
    "FILE_END = '_01.txt'\n",
    "RUN_WITH = 'input' ## admitted values: sample1 sample2 input \n",
    "SAMPLE_DATA = {1:'''mask = XXXXXXXXXXXXXXXXXXXXXXXXXXXXX1XXXX0X\n",
    "mem[8] = 11\n",
    "mem[7] = 101\n",
    "mem[8] = 0''', 2: '''mask = 000000000000000000000000000000X1001X\n",
    "mem[42] = 100\n",
    "mask = 00000000000000000000000000000000X0XX\n",
    "mem[26] = 1'''\n",
    "              }\n"
   ]
  },
  {
   "cell_type": "code",
   "execution_count": 3,
   "metadata": {},
   "outputs": [],
   "source": [
    "start = time.time()"
   ]
  },
  {
   "cell_type": "code",
   "execution_count": 4,
   "metadata": {},
   "outputs": [],
   "source": [
    "\n",
    "input_path = os.path.join(os.path.dirname(os.path.dirname(os.path.dirname(os.getcwd()))), \"Inputs\")\n",
    "input_path_day = os.path.join(input_path, DAY)\n",
    "file_path = os.path.join(input_path_day, DAY+ FILE_END)"
   ]
  },
  {
   "cell_type": "markdown",
   "metadata": {},
   "source": [
    "### Read input"
   ]
  },
  {
   "cell_type": "code",
   "execution_count": 5,
   "metadata": {},
   "outputs": [
    {
     "data": {
      "text/plain": [
       "['mask = 11110100010101111011001X0100XX00100X',\n",
       " 'mem[17610] = 1035852',\n",
       " 'mem[55284] = 229776690',\n",
       " 'mem[16166] = 12685380',\n",
       " 'mem[8340] = 16011']"
      ]
     },
     "execution_count": 5,
     "metadata": {},
     "output_type": "execute_result"
    }
   ],
   "source": [
    "if RUN_WITH == 'input':\n",
    "    with open(file_path,'r') as f:\n",
    "        values = f.read()\n",
    "elif RUN_WITH.startswith('sample'):\n",
    "    end = int(RUN_WITH[-1:])\n",
    "    values =  SAMPLE_DATA[end]\n",
    "else:\n",
    "    print(\"No valid input selected\")\n",
    "values = values.split('\\n')\n",
    "try:\n",
    "    values.remove(\"\")\n",
    "except:\n",
    "    pass\n",
    "values[0:5]"
   ]
  },
  {
   "cell_type": "markdown",
   "metadata": {},
   "source": [
    "# Part I:"
   ]
  },
  {
   "cell_type": "code",
   "execution_count": 6,
   "metadata": {},
   "outputs": [],
   "source": [
    "# instruction id, mask, maskid, mem, value, bin_value"
   ]
  },
  {
   "cell_type": "code",
   "execution_count": 7,
   "metadata": {},
   "outputs": [],
   "source": [
    "mems = {}"
   ]
  },
  {
   "cell_type": "code",
   "execution_count": 8,
   "metadata": {},
   "outputs": [
    {
     "name": "stdout",
     "output_type": "stream",
     "text": [
      "[1, '11110100010101111011001X0100XX00100X', 1, 17610, 1035852, '000000000000000011111100111001001100', '111101000101011110110010010001001000']\n"
     ]
    }
   ],
   "source": [
    "mask =''\n",
    "maskid = 0\n",
    "mem =''\n",
    "value = ''\n",
    "for i,v in enumerate(values):\n",
    "    # is it mask or instruction\n",
    "    if v.startswith('mask'):\n",
    "        mask = v.split('=')[1].strip()\n",
    "        maskid += 1\n",
    "    else:\n",
    "        # for instructions, apply the current mask\n",
    "        vals = list(map(str.strip, v.split('=')))\n",
    "        mem = int(re.match('mem\\[(\\d+)\\]', vals[0]).groups()[0])\n",
    "        value = int(vals[1])\n",
    "        bin_value = bin(value)[2:].rjust(36,'0')\n",
    "        new_value = ''.join([n if mask[p] =='X' else mask[p] for p,n in enumerate(bin_value) ])\n",
    "        if i ==1:\n",
    "            print([i,mask,maskid,mem,value, bin_value, new_value])\n",
    "        # update the mems dictionary with the latest value\n",
    "        mems[mem] = int('0b'+new_value, base=0)"
   ]
  },
  {
   "cell_type": "code",
   "execution_count": 9,
   "metadata": {},
   "outputs": [
    {
     "name": "stdout",
     "output_type": "stream",
     "text": [
      "10885823581193\n"
     ]
    }
   ],
   "source": [
    "suma = 0\n",
    "for k,v in mems.items():\n",
    "    suma += v\n",
    "print(suma)"
   ]
  },
  {
   "cell_type": "code",
   "execution_count": 10,
   "metadata": {},
   "outputs": [
    {
     "data": {
      "text/plain": [
       "True"
      ]
     },
     "execution_count": 10,
     "metadata": {},
     "output_type": "execute_result"
    }
   ],
   "source": [
    "10885823581193 == suma"
   ]
  },
  {
   "cell_type": "markdown",
   "metadata": {},
   "source": [
    "## Part II:"
   ]
  },
  {
   "cell_type": "code",
   "execution_count": 11,
   "metadata": {},
   "outputs": [],
   "source": [
    "def generate_degenerated_mems(string):\n",
    "    to_update = [string]\n",
    "    updated = []\n",
    "    while to_update:\n",
    "        new = to_update.pop(0)\n",
    "        for i in range(0,2):\n",
    "            t = new.replace('X', str(i), 1)\n",
    "            if 'X' in t:\n",
    "                to_update.append(t)\n",
    "            else:\n",
    "                updated.append(t)\n",
    "    return updated"
   ]
  },
  {
   "cell_type": "code",
   "execution_count": 12,
   "metadata": {},
   "outputs": [],
   "source": [
    "mems = {}"
   ]
  },
  {
   "cell_type": "code",
   "execution_count": 13,
   "metadata": {},
   "outputs": [],
   "source": [
    "mask =''\n",
    "maskid = 0\n",
    "mem =''\n",
    "value = ''\n",
    "for i,v in enumerate(values):\n",
    "    # is it mask or instruction\n",
    "    if v.startswith('mask'):\n",
    "        mask = v.split('=')[1].strip()\n",
    "        maskid += 1\n",
    "    else:\n",
    "        # for instructions, apply the current mask\n",
    "        vals = list(map(str.strip, v.split('=')))\n",
    "        mem = int(re.match('mem\\[(\\d+)\\]', vals[0]).groups()[0])\n",
    "        value = int(vals[1])\n",
    "        bin_mem = bin(mem)[2:].rjust(36,'0')\n",
    "        temp_bin_mem = ''.join([bin_mem[k] if v== '0' else v for k,v in enumerate(mask)])\n",
    "        for pos in generate_degenerated_mems(temp_bin_mem):\n",
    "            mems[pos] = value"
   ]
  },
  {
   "cell_type": "code",
   "execution_count": 14,
   "metadata": {},
   "outputs": [
    {
     "name": "stdout",
     "output_type": "stream",
     "text": [
      "3816594901962\n"
     ]
    }
   ],
   "source": [
    "suma = 0\n",
    "for k,v in mems.items():\n",
    "    suma += v\n",
    "print(suma)"
   ]
  },
  {
   "cell_type": "code",
   "execution_count": 15,
   "metadata": {},
   "outputs": [
    {
     "data": {
      "text/plain": [
       "True"
      ]
     },
     "execution_count": 15,
     "metadata": {},
     "output_type": "execute_result"
    }
   ],
   "source": [
    "3816594901962 == suma"
   ]
  },
  {
   "cell_type": "code",
   "execution_count": 16,
   "metadata": {},
   "outputs": [
    {
     "data": {
      "text/plain": [
       "0.2542400360107422"
      ]
     },
     "execution_count": 16,
     "metadata": {},
     "output_type": "execute_result"
    }
   ],
   "source": [
    "end = time.time()\n",
    "end - start"
   ]
  }
 ],
 "metadata": {
  "kernelspec": {
   "display_name": "Python 3",
   "language": "python",
   "name": "python3"
  },
  "language_info": {
   "codemirror_mode": {
    "name": "ipython",
    "version": 3
   },
   "file_extension": ".py",
   "mimetype": "text/x-python",
   "name": "python",
   "nbconvert_exporter": "python",
   "pygments_lexer": "ipython3",
   "version": "3.7.8"
  }
 },
 "nbformat": 4,
 "nbformat_minor": 4
}
