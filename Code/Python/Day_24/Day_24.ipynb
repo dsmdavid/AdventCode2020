{
 "cells": [
  {
   "cell_type": "markdown",
   "metadata": {},
   "source": [
    "# Hexagonal Tiles"
   ]
  },
  {
   "cell_type": "markdown",
   "metadata": {},
   "source": [
    "--- Day 24: Lobby Layout ---\n",
    "Your raft makes it to the tropical island; it turns out that the small crab was an excellent navigator. You make your way to the resort.\n",
    "\n",
    "As you enter the lobby, you discover a small problem: the floor is being renovated. You can't even reach the check-in desk until they've finished installing the new tile floor.\n",
    "\n",
    "The tiles are all hexagonal; they need to be arranged in a hex grid with a very specific color pattern. Not in the mood to wait, you offer to help figure out the pattern.\n",
    "\n",
    "The tiles are all white on one side and black on the other. They start with the white side facing up. The lobby is large enough to fit whatever pattern might need to appear there.\n",
    "\n",
    "A member of the renovation crew gives you a list of the tiles that need to be flipped over (your puzzle input). Each line in the list identifies a single tile that needs to be flipped by giving a series of steps starting from a reference tile in the very center of the room. (Every line starts from the same reference tile.)\n",
    "\n",
    "Because the tiles are hexagonal, every tile has six neighbors: `east, southeast, southwest, west, northwest, and northeast`. These directions are given in your list, respectively, as `e, se, sw, w, nw, and ne`. A tile is identified by a series of these directions with no delimiters; for example, esenee identifies the tile you land on if you start at the reference tile and then move one tile east, one tile southeast, one tile northeast, and one tile east.\n",
    "\n",
    "Each time a tile is identified, it flips from white to black or from black to white. Tiles might be flipped more than once. For example, a line like `esew` flips a tile immediately adjacent to the reference tile, and a line like `nwwswee` flips the reference tile itself.\n",
    "\n",
    "Here is a larger example:\n",
    "```\n",
    "sesenwnenenewseeswwswswwnenewsewsw\n",
    "neeenesenwnwwswnenewnwwsewnenwseswesw\n",
    "seswneswswsenwwnwse\n",
    "nwnwneseeswswnenewneswwnewseswneseene\n",
    "swweswneswnenwsewnwneneseenw\n",
    "eesenwseswswnenwswnwnwsewwnwsene\n",
    "sewnenenenesenwsewnenwwwse\n",
    "wenwwweseeeweswwwnwwe\n",
    "wsweesenenewnwwnwsenewsenwwsesesenwne\n",
    "neeswseenwwswnwswswnw\n",
    "nenwswwsewswnenenewsenwsenwnesesenew\n",
    "enewnwewneswsewnwswenweswnenwsenwsw\n",
    "sweneswneswneneenwnewenewwneswswnese\n",
    "swwesenesewenwneswnwwneseswwne\n",
    "enesenwswwswneneswsenwnewswseenwsese\n",
    "wnwnesenesenenwwnenwsewesewsesesew\n",
    "nenewswnwewswnenesenwnesewesw\n",
    "eneswnwswnwsenenwnwnwwseeswneewsenese\n",
    "neswnwewnwnwseenwseesewsenwsweewe\n",
    "wseweeenwnesenwwwswnew\n",
    "```\n",
    "In the above example, 10 tiles are flipped once (to black), and 5 more are flipped twice (to black, then back to white). After all of these instructions have been followed, a total of 10 tiles are black.\n",
    "\n",
    "Go through the renovation crew's list and determine which tiles they need to flip. After all of the instructions have been followed, how many tiles are left with the black side up?\n",
    "\n",
    "Your puzzle answer was 450."
   ]
  },
  {
   "cell_type": "markdown",
   "metadata": {},
   "source": [
    "## Second part"
   ]
  },
  {
   "cell_type": "markdown",
   "metadata": {},
   "source": [
    "The tile floor in the lobby is meant to be a living art exhibit. Every day, the tiles are all flipped according to the following rules:\n",
    "\n",
    "Any black tile with zero or more than 2 black tiles immediately adjacent to it is flipped to white.\n",
    "Any white tile with exactly 2 black tiles immediately adjacent to it is flipped to black.\n",
    "Here, tiles immediately adjacent means the six tiles directly touching the tile in question.\n",
    "\n",
    "The rules are applied simultaneously to every tile; put another way, it is first determined which tiles need to be flipped, then they are all flipped at the same time.\n",
    "\n",
    "In the above example, the number of black tiles that are facing up after the given number of days has passed is as follows:\n",
    "```\n",
    "Day 1: 15\n",
    "Day 2: 12\n",
    "Day 3: 25\n",
    "Day 4: 14\n",
    "Day 5: 23\n",
    "Day 6: 28\n",
    "Day 7: 41\n",
    "Day 8: 37\n",
    "Day 9: 49\n",
    "Day 10: 37\n",
    "\n",
    "Day 20: 132\n",
    "Day 30: 259\n",
    "Day 40: 406\n",
    "Day 50: 566\n",
    "Day 60: 788\n",
    "Day 70: 1106\n",
    "Day 80: 1373\n",
    "Day 90: 1844\n",
    "Day 100: 2208\n",
    "```\n",
    "After executing this process a total of 100 times, there would be 2208 black tiles facing up.\n",
    "\n",
    "How many tiles will be black after 100 days?\n",
    "\n",
    "Your puzzle answer was 4059."
   ]
  },
  {
   "cell_type": "code",
   "execution_count": 1,
   "metadata": {},
   "outputs": [],
   "source": [
    "import os\n",
    "import time\n",
    "import numpy as np\n",
    "from collections import Counter, defaultdict\n",
    "#import itertools\n",
    "import re\n",
    "#from collections import deque"
   ]
  },
  {
   "cell_type": "code",
   "execution_count": 2,
   "metadata": {},
   "outputs": [],
   "source": [
    "DAY = 'Day_24'\n",
    "FILE_END = '_01.txt'\n",
    "RUN_WITH = 'input' ## admitted values: sample input \n",
    "SAMPLE_DATA = '''sesenwnenenewseeswwswswwnenewsewsw\n",
    "neeenesenwnwwswnenewnwwsewnenwseswesw\n",
    "seswneswswsenwwnwse\n",
    "nwnwneseeswswnenewneswwnewseswneseene\n",
    "swweswneswnenwsewnwneneseenw\n",
    "eesenwseswswnenwswnwnwsewwnwsene\n",
    "sewnenenenesenwsewnenwwwse\n",
    "wenwwweseeeweswwwnwwe\n",
    "wsweesenenewnwwnwsenewsenwwsesesenwne\n",
    "neeswseenwwswnwswswnw\n",
    "nenwswwsewswnenenewsenwsenwnesesenew\n",
    "enewnwewneswsewnwswenweswnenwsenwsw\n",
    "sweneswneswneneenwnewenewwneswswnese\n",
    "swwesenesewenwneswnwwneseswwne\n",
    "enesenwswwswneneswsenwnewswseenwsese\n",
    "wnwnesenesenenwwnenwsewesewsesesew\n",
    "nenewswnwewswnenesenwnesewesw\n",
    "eneswnwswnwsenenwnwnwwseeswneewsenese\n",
    "neswnwewnwnwseenwseesewsenwsweewe\n",
    "wseweeenwnesenwwwswnew'''"
   ]
  },
  {
   "cell_type": "code",
   "execution_count": 3,
   "metadata": {},
   "outputs": [],
   "source": [
    "start = time.time()"
   ]
  },
  {
   "cell_type": "code",
   "execution_count": 4,
   "metadata": {},
   "outputs": [],
   "source": [
    "input_path = os.path.join(os.path.dirname(os.path.dirname(os.path.dirname(os.getcwd()))), \"Inputs\")\n",
    "input_path_day = os.path.join(input_path, DAY)\n",
    "file_path = os.path.join(input_path_day, DAY+ FILE_END)"
   ]
  },
  {
   "cell_type": "markdown",
   "metadata": {},
   "source": [
    "### Read input"
   ]
  },
  {
   "cell_type": "markdown",
   "metadata": {},
   "source": [
    "## Part I"
   ]
  },
  {
   "cell_type": "code",
   "execution_count": 5,
   "metadata": {},
   "outputs": [],
   "source": [
    "# my coordinates navigator (originally started with 1 & sqrt(3) but wasn't adding anything and made it more difficult to understand)\n",
    "mapping = {\n",
    "    'e':(2,0),\n",
    "    'se':(1,-1),\n",
    "    'sw':(-1,-1),\n",
    "    'w':(-2,0),\n",
    "    'nw':(-1,1),\n",
    "    'ne':(1,1),\n",
    "    'self':(0,0)\n",
    "        }\n",
    "        "
   ]
  },
  {
   "cell_type": "code",
   "execution_count": 6,
   "metadata": {},
   "outputs": [],
   "source": [
    "def get_values(RUN_WITH:str):\n",
    "    if RUN_WITH == 'input':\n",
    "        with open(file_path,'r') as f:\n",
    "            values = f.read()\n",
    "    elif RUN_WITH == 'sample':\n",
    "        values =  SAMPLE_DATA\n",
    "\n",
    "    else:\n",
    "        print(\"No valid input selected\")\n",
    "    values = values.splitlines()\n",
    "    try:\n",
    "        values.remove(\"\")\n",
    "    except:\n",
    "        pass\n",
    "    return values\n",
    "\n",
    "def default():\n",
    "    return 0\n",
    "\n",
    "def get_tiles(values, pattern, mapping):\n",
    "    tiles = defaultdict(default)\n",
    "    search = re.compile(pattern)\n",
    "    for val in values:\n",
    "        instructions = Counter(search.findall(val))\n",
    "        pos = [0,0]\n",
    "        for key, val in instructions.items():\n",
    "            pos[0] += mapping[key][0] * val\n",
    "            pos[1] += mapping[key][1] * val\n",
    "        tiles[tuple(pos)] +=1\n",
    "    return tiles\n",
    "\n",
    "def get_black_tiles(tiles):\n",
    "    black = {}\n",
    "    for k,v in tiles.items():\n",
    "        if v%2 != 0:\n",
    "            black[k] = 1\n",
    "    return black\n",
    "\n",
    "def part_1(source):\n",
    "    black_tiles = get_black_tiles(get_tiles(get_values(source),'e|se|sw|w|nw|ne', mapping ))\n",
    "    return len(black_tiles), black_tiles"
   ]
  },
  {
   "cell_type": "code",
   "execution_count": 7,
   "metadata": {},
   "outputs": [
    {
     "data": {
      "text/plain": [
       "450"
      ]
     },
     "execution_count": 7,
     "metadata": {},
     "output_type": "execute_result"
    }
   ],
   "source": [
    "answer, black_tiles = part_1('input')\n",
    "answer"
   ]
  },
  {
   "cell_type": "code",
   "execution_count": 8,
   "metadata": {},
   "outputs": [
    {
     "name": "stdout",
     "output_type": "stream",
     "text": [
      "9.97 ms ± 1.16 ms per loop (mean ± std. dev. of 7 runs, 100 loops each)\n"
     ]
    }
   ],
   "source": [
    "%%timeit\n",
    "part_1('input')"
   ]
  },
  {
   "cell_type": "code",
   "execution_count": 9,
   "metadata": {},
   "outputs": [],
   "source": [
    "## Part II\n",
    "\n",
    "def play_day(black_tiles):\n",
    "    # create the next board: all the black tiles and all the adjacent tiles to the black tiles\n",
    "    next_board = defaultdict(default)\n",
    "    for key in black_tiles.keys():\n",
    "        for k,v in mapping.items():\n",
    "            try:\n",
    "                next_board[tuple((key[0]+v[0], key[1] +v[1]))] =[0,0]\n",
    "            except:\n",
    "                print(key, k, v)\n",
    "                return None\n",
    "\n",
    "    # set black:\n",
    "    for key in black_tiles.keys():\n",
    "        next_board[key] = [1,0]\n",
    "        \n",
    "    next_black = {}\n",
    "    #lookup\n",
    "    for tile, vals in next_board.items():\n",
    "        for key in mapping.keys():\n",
    "            if key != 'self':\n",
    "                lookup = tuple((tile[0] + mapping[key][0], tile[1] + mapping[key][1]))\n",
    "                if lookup in black_tiles.keys():\n",
    "                    next_board[tile][1] +=1\n",
    "\n",
    "        if vals[0] == 1: #black tile\n",
    "            if vals[1] in (1,2):\n",
    "                next_black[tile] = 1\n",
    "        else: # white tile\n",
    "            if vals[1] == 2:\n",
    "                next_black[tile] = 1\n",
    "    return next_black"
   ]
  },
  {
   "cell_type": "code",
   "execution_count": 10,
   "metadata": {},
   "outputs": [],
   "source": [
    "def part_2(days, black_tiles):\n",
    "    for i in range(days):\n",
    "        black_tiles = play_day(black_tiles)\n",
    "    return len(black_tiles), black_tiles"
   ]
  },
  {
   "cell_type": "code",
   "execution_count": 11,
   "metadata": {},
   "outputs": [
    {
     "data": {
      "text/plain": [
       "4059"
      ]
     },
     "execution_count": 11,
     "metadata": {},
     "output_type": "execute_result"
    }
   ],
   "source": [
    "ans, black_tiles = part_2(100, black_tiles)\n",
    "ans"
   ]
  }
 ],
 "metadata": {
  "kernelspec": {
   "display_name": "Python 3",
   "language": "python",
   "name": "python3"
  },
  "language_info": {
   "codemirror_mode": {
    "name": "ipython",
    "version": 3
   },
   "file_extension": ".py",
   "mimetype": "text/x-python",
   "name": "python",
   "nbconvert_exporter": "python",
   "pygments_lexer": "ipython3",
   "version": "3.6.8"
  }
 },
 "nbformat": 4,
 "nbformat_minor": 4
}
