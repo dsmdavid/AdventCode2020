{
 "cells": [
  {
   "cell_type": "markdown",
   "metadata": {},
   "source": [
    "# Allergens"
   ]
  },
  {
   "cell_type": "markdown",
   "metadata": {},
   "source": [
    "--- Day 21: Allergen Assessment ---\n",
    "You reach the train's last stop and the closest you can get to your vacation island without getting wet. There aren't even any boats here, but nothing can stop you now: you build a raft. You just need a few days' worth of food for your journey.\n",
    "\n",
    "You don't speak the local language, so you can't read any ingredients lists. However, sometimes, allergens are listed in a language you do understand. You should be able to use this information to determine which ingredient contains which allergen and work out which foods are safe to take with you on your trip.\n",
    "\n",
    "You start by compiling a list of foods (your puzzle input), one food per line. Each line includes that food's ingredients list followed by some or all of the allergens the food contains.\n",
    "\n",
    "Each allergen is found in exactly one ingredient. Each ingredient contains zero or one allergen. Allergens aren't always marked; when they're listed (as in (contains nuts, shellfish) after an ingredients list), the ingredient that contains each listed allergen will be somewhere in the corresponding ingredients list. However, even if an allergen isn't listed, the ingredient that contains that allergen could still be present: maybe they forgot to label it, or maybe it was labeled in a language you don't know.\n",
    "\n",
    "For example, consider the following list of foods:\n",
    "```\n",
    "mxmxvkd kfcds sqjhc nhms (contains dairy, fish)\n",
    "trh fvjkl sbzzf mxmxvkd (contains dairy)\n",
    "sqjhc fvjkl (contains soy)\n",
    "sqjhc mxmxvkd sbzzf (contains fish)\n",
    "```\n",
    "The first food in the list has four ingredients (written in a language you don't understand): `mxmxvkd, kfcds, sqjhc, and nhms`. While the food might contain other allergens, a few allergens the food definitely contains are listed afterward: dairy and fish.\n",
    "\n",
    "The first step is to determine which ingredients can't possibly contain any of the allergens in any food in your list. In the above example, none of the ingredients `kfcds, nhms, sbzzf, or trh` can contain an allergen. Counting the number of times any of these ingredients appear in any ingredients list produces 5: they all appear once each except `sbzzf`, which appears twice.\n",
    "\n",
    "Determine which ingredients cannot possibly contain any of the allergens in your list. How many times do any of those ingredients appear?\n",
    "\n",
    "Your puzzle answer was 2423."
   ]
  },
  {
   "cell_type": "markdown",
   "metadata": {},
   "source": [
    "## Second part"
   ]
  },
  {
   "cell_type": "markdown",
   "metadata": {},
   "source": [
    "--- Part Two ---  \n",
    "Now that you've isolated the inert ingredients, you should have enough information to figure out which ingredient contains which allergen.\n",
    "\n",
    "In the above example:\n",
    "\n",
    "`mxmxvkd` contains dairy.  \n",
    "`sqjhc` contains fish.  \n",
    "`fvjkl` contains soy.  \n",
    "Arrange the ingredients alphabetically by their allergen and separate them by commas to produce your canonical dangerous ingredient list. (There should not be any spaces in your canonical dangerous ingredient list.) In the above example, this would be `mxmxvkd,sqjhc,fvjkl`.\n",
    "\n",
    "Time to stock your raft with supplies. What is your canonical dangerous ingredient list?"
   ]
  },
  {
   "cell_type": "code",
   "execution_count": 1,
   "metadata": {},
   "outputs": [],
   "source": [
    "import os\n",
    "import time\n",
    "import numpy as np\n",
    "import itertools\n",
    "import re\n",
    "from collections import Counter"
   ]
  },
  {
   "cell_type": "code",
   "execution_count": 2,
   "metadata": {},
   "outputs": [],
   "source": [
    "DAY = 'Day_21'\n",
    "FILE_END = '_01.txt'\n",
    "RUN_WITH = 'input' ## admitted values: sample input \n",
    "SAMPLE_DATA = '''mxmxvkd kfcds sqjhc nhms (contains dairy, fish)\n",
    "trh fvjkl sbzzf mxmxvkd (contains dairy)\n",
    "sqjhc fvjkl (contains soy)\n",
    "sqjhc mxmxvkd sbzzf (contains fish)'''"
   ]
  },
  {
   "cell_type": "code",
   "execution_count": 3,
   "metadata": {},
   "outputs": [],
   "source": [
    "start = time.time()"
   ]
  },
  {
   "cell_type": "code",
   "execution_count": 4,
   "metadata": {},
   "outputs": [],
   "source": [
    "\n",
    "input_path = os.path.join(os.path.dirname(os.path.dirname(os.path.dirname(os.getcwd()))), \"Inputs\")\n",
    "input_path_day = os.path.join(input_path, DAY)\n",
    "file_path = os.path.join(input_path_day, DAY+ FILE_END)"
   ]
  },
  {
   "cell_type": "markdown",
   "metadata": {},
   "source": [
    "### Read input"
   ]
  },
  {
   "cell_type": "markdown",
   "metadata": {},
   "source": [
    "## Part I"
   ]
  },
  {
   "cell_type": "code",
   "execution_count": 5,
   "metadata": {},
   "outputs": [],
   "source": [
    "def get_input():\n",
    "    if RUN_WITH == 'input':\n",
    "        with open(file_path,'r') as f:\n",
    "            values = f.read()\n",
    "    elif RUN_WITH == 'sample':\n",
    "        values =  SAMPLE_DATA\n",
    "\n",
    "    else:\n",
    "        print(\"No valid input selected\")\n",
    "    values = values.split('\\n')\n",
    "    try:\n",
    "        values.remove(\"\")\n",
    "    except:\n",
    "        pass\n",
    "    return values\n",
    "\n",
    "def parse_instructions(values):\n",
    "    instructions = {inst:{'ingredients':value.replace('(','').replace(')','').split('contains')[0].split(),\n",
    "                      'allergens':list(map(str.strip, value.replace('(','').replace(')','').split('contains')[1].split(',')))}\n",
    "               for inst, value in enumerate(values)\n",
    "               }\n",
    "    return instructions\n",
    "    \n",
    "\n",
    "def get_counters(instructions):\n",
    "    all_ingredients = []\n",
    "    all_allergens = []\n",
    "    for k, v in instructions.items():\n",
    "        all_ingredients.extend(v['ingredients'])\n",
    "        all_allergens.extend(v['allergens'])\n",
    "        \n",
    "    all_ingredients = Counter(all_ingredients)\n",
    "    all_allergens = Counter(all_allergens)\n",
    "    \n",
    "    allergens = {allergen:Counter() for allergen in all_allergens.keys()}\n",
    "    for v in instructions.values():\n",
    "        for allergen in v['allergens']:\n",
    "            allergens[allergen].update(v['ingredients'])\n",
    "            \n",
    "    return all_ingredients, all_allergens, allergens\n",
    "\n",
    "def get_safe(all_ingredients, all_allergens, allergens):\n",
    "    # part I - remove ingredients that appear less times associated with the allergen than the allergen\n",
    "    # e.g. dairy appears twice, so remove any ingredient from the \"potentially dairy\" that appears less than 2 times.\n",
    "    remove = [] #tracks items to remove\n",
    "    for allergen, value in all_allergens.items():\n",
    "        for ingredient in allergens[allergen].keys():\n",
    "            if allergens[allergen][ingredient] < value:\n",
    "                remove.append((allergen, ingredient))\n",
    "    #then removes them\n",
    "    for item in remove:\n",
    "        allergens[item[0]].pop(item[1])\n",
    "\n",
    "    set_all = set(all_ingredients.keys())\n",
    "    set_allergen = set([ingredient for allergen in allergens for ingredient in allergens[allergen]])\n",
    "    set_safe = set_all.difference(set_allergen)\n",
    "    \n",
    "    return set_safe\n",
    "\n",
    "def get_result(set_safe, all_ingre):\n",
    "    result = 0\n",
    "    for ingredient in set_safe:\n",
    "        result += all_ingredients[ingredient]\n",
    "    return result\n",
    "\n",
    "def part_1():\n",
    "    values = get_input()\n",
    "    instructions = parse_instructions(values)\n",
    "    all_ingredients, all_allergens, allergens = get_counters(instructions)\n",
    "    set_safe = get_safe(all_ingredients, all_allergens, allergens)\n",
    "\n",
    "    result = 0\n",
    "    for ingredient in set_safe:\n",
    "        result += all_ingredients[ingredient]\n",
    "    return result"
   ]
  },
  {
   "cell_type": "code",
   "execution_count": 6,
   "metadata": {},
   "outputs": [
    {
     "data": {
      "text/plain": [
       "2423"
      ]
     },
     "execution_count": 6,
     "metadata": {},
     "output_type": "execute_result"
    }
   ],
   "source": [
    "part_1()"
   ]
  },
  {
   "cell_type": "code",
   "execution_count": 7,
   "metadata": {},
   "outputs": [
    {
     "name": "stdout",
     "output_type": "stream",
     "text": [
      "3.19 ms ± 284 µs per loop (mean ± std. dev. of 7 runs, 100 loops each)\n"
     ]
    }
   ],
   "source": [
    "%%timeit\n",
    "part_1()"
   ]
  },
  {
   "cell_type": "markdown",
   "metadata": {},
   "source": [
    "## Part II"
   ]
  },
  {
   "cell_type": "code",
   "execution_count": 8,
   "metadata": {},
   "outputs": [],
   "source": [
    "def part_2():\n",
    "\n",
    "    values = get_input()\n",
    "    instructions = parse_instructions(values)\n",
    "    all_ingredients, all_allergens, allergens = get_counters(instructions)\n",
    "    set_safe = get_safe(all_ingredients, all_allergens, allergens)\n",
    "    \n",
    "    solved = {}\n",
    "    while allergens:\n",
    "        to_remove = []\n",
    "        for allergen in allergens:\n",
    "            if len(allergens[allergen]) == 1:\n",
    "                solved[allergen] = list(allergens[allergen].keys())[0]\n",
    "                to_remove.append((allergen, list(allergens[allergen].keys())[0]))\n",
    "        for item in to_remove:\n",
    "            allergens.pop(item[0])\n",
    "            for allergen in allergens:\n",
    "                if allergens[allergen].get(item[1]):\n",
    "                    allergens[allergen].pop(item[1])\n",
    "    \n",
    "    answer = ''\n",
    "    for key in sorted(solved.keys()):\n",
    "        answer += solved[key]+','\n",
    "    return answer[:-1]"
   ]
  },
  {
   "cell_type": "code",
   "execution_count": 9,
   "metadata": {},
   "outputs": [
    {
     "data": {
      "text/plain": [
       "'jzzjz,bxkrd,pllzxb,gjddl,xfqnss,dzkb,vspv,dxvsp'"
      ]
     },
     "execution_count": 9,
     "metadata": {},
     "output_type": "execute_result"
    }
   ],
   "source": [
    "part_2()"
   ]
  },
  {
   "cell_type": "code",
   "execution_count": 10,
   "metadata": {},
   "outputs": [
    {
     "name": "stdout",
     "output_type": "stream",
     "text": [
      "3.25 ms ± 126 µs per loop (mean ± std. dev. of 7 runs, 100 loops each)\n"
     ]
    }
   ],
   "source": [
    "%%timeit\n",
    "part_2()"
   ]
  }
 ],
 "metadata": {
  "kernelspec": {
   "display_name": "Python 3",
   "language": "python",
   "name": "python3"
  },
  "language_info": {
   "codemirror_mode": {
    "name": "ipython",
    "version": 3
   },
   "file_extension": ".py",
   "mimetype": "text/x-python",
   "name": "python",
   "nbconvert_exporter": "python",
   "pygments_lexer": "ipython3",
   "version": "3.6.8"
  }
 },
 "nbformat": 4,
 "nbformat_minor": 4
}
