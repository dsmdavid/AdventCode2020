{
 "cells": [
  {
   "cell_type": "markdown",
   "metadata": {},
   "source": [
    "# Infinite Loop"
   ]
  },
  {
   "cell_type": "markdown",
   "metadata": {},
   "source": [
    "Your flight to the major airline hub reaches cruising altitude without incident. While you consider checking the in-flight menu for one of those drinks that come with a little umbrella, you are interrupted by the kid sitting next to you.\n",
    "\n",
    "Their handheld game console won't turn on! They ask if you can take a look.\n",
    "\n",
    "You narrow the problem down to a strange infinite loop in the boot code (your puzzle input) of the device. You should be able to fix it, but first you need to be able to run the code in isolation.\n",
    "\n",
    "The boot code is represented as a text file with one instruction per line of text. Each instruction consists of an operation (acc, jmp, or nop) and an argument (a signed number like +4 or -20).\n",
    "\n",
    "acc increases or decreases a single global value called the accumulator by the value given in the argument. For example, acc +7 would increase the accumulator by 7. The accumulator starts at 0. After an acc instruction, the instruction immediately below it is executed next.\n",
    "jmp jumps to a new instruction relative to itself. The next instruction to execute is found using the argument as an offset from the jmp instruction; for example, jmp +2 would skip the next instruction, jmp +1 would continue to the instruction immediately below it, and jmp -20 would cause the instruction 20 lines above to be executed next.\n",
    "nop stands for No OPeration - it does nothing. The instruction immediately below it is executed next.\n",
    "For example, consider the following program:\n",
    "\n",
    "nop +0\n",
    "acc +1\n",
    "jmp +4\n",
    "acc +3\n",
    "jmp -3\n",
    "acc -99\n",
    "acc +1\n",
    "jmp -4\n",
    "acc +6\n",
    "These instructions are visited in this order:\n",
    "\n",
    "nop +0  | 1\n",
    "acc +1  | 2, 8(!)\n",
    "jmp +4  | 3\n",
    "acc +3  | 6\n",
    "jmp -3  | 7\n",
    "acc -99 |\n",
    "acc +1  | 4\n",
    "jmp -4  | 5\n",
    "acc +6  |\n",
    "First, the nop +0 does nothing. Then, the accumulator is increased from 0 to 1 (acc +1) and jmp +4 sets the next instruction to the other acc +1 near the bottom. After it increases the accumulator from 1 to 2, jmp -4 executes, setting the next instruction to the only acc +3. It sets the accumulator to 5, and jmp -3 causes the program to continue back at the first acc +1.\n",
    "\n",
    "This is an infinite loop: with this sequence of jumps, the program will run forever. The moment the program tries to run any instruction a second time, you know it will never terminate.\n",
    "\n",
    "Immediately before the program would run an instruction a second time, the value in the accumulator is 5.\n",
    "\n",
    "Run your copy of the boot code. Immediately before any instruction is executed a second time, what value is in the accumulator?"
   ]
  },
  {
   "cell_type": "markdown",
   "metadata": {},
   "source": [
    "## Second part"
   ]
  },
  {
   "cell_type": "markdown",
   "metadata": {},
   "source": [
    "After some careful analysis, you believe that exactly one instruction is corrupted.\n",
    "\n",
    "Somewhere in the program, either a jmp is supposed to be a nop, or a nop is supposed to be a jmp. (No acc instructions were harmed in the corruption of this boot code.)\n",
    "\n",
    "The program is supposed to terminate by attempting to execute an instruction immediately after the last instruction in the file. By changing exactly one jmp or nop, you can repair the boot code and make it terminate correctly.\n",
    "\n",
    "For example, consider the same program from above:\n",
    "\n",
    "nop +0\n",
    "acc +1\n",
    "jmp +4\n",
    "acc +3\n",
    "jmp -3\n",
    "acc -99\n",
    "acc +1\n",
    "jmp -4\n",
    "acc +6\n",
    "If you change the first instruction from nop +0 to jmp +0, it would create a single-instruction infinite loop, never leaving that instruction. If you change almost any of the jmp instructions, the program will still eventually find another jmp instruction and loop forever.\n",
    "\n",
    "However, if you change the second-to-last instruction (from jmp -4 to nop -4), the program terminates! The instructions are visited in this order:\n",
    "\n",
    "nop +0  | 1\n",
    "acc +1  | 2\n",
    "jmp +4  | 3\n",
    "acc +3  |\n",
    "jmp -3  |\n",
    "acc -99 |\n",
    "acc +1  | 4\n",
    "nop -4  | 5\n",
    "acc +6  | 6\n",
    "After the last instruction (acc +6), the program terminates by attempting to run the instruction below the last instruction in the file. With this change, after the program terminates, the accumulator contains the value 8 (acc +1, acc +1, acc +6).\n",
    "\n",
    "Fix the program so that it terminates normally by changing exactly one jmp (to nop) or nop (to jmp). What is the value of the accumulator after the program terminates?"
   ]
  },
  {
   "cell_type": "code",
   "execution_count": 1,
   "metadata": {},
   "outputs": [],
   "source": [
    "import os\n",
    "import time\n",
    "import numpy as np\n",
    "import re"
   ]
  },
  {
   "cell_type": "code",
   "execution_count": 2,
   "metadata": {},
   "outputs": [],
   "source": [
    "DAY = 'Day_08'\n",
    "FILE_END = '_01.txt'\n",
    "RUN_WITH = 'sample' ## admitted values: sample input \n",
    "SAMPLE_DATA = '''nop +0\n",
    "acc +1\n",
    "jmp +4\n",
    "acc +3\n",
    "jmp -3\n",
    "acc -99\n",
    "acc +1\n",
    "jmp -4\n",
    "acc +6'''"
   ]
  },
  {
   "cell_type": "code",
   "execution_count": 3,
   "metadata": {},
   "outputs": [],
   "source": [
    "start = time.time()"
   ]
  },
  {
   "cell_type": "code",
   "execution_count": 4,
   "metadata": {},
   "outputs": [],
   "source": [
    "\n",
    "input_path = os.path.join(os.path.dirname(os.path.dirname(os.path.dirname(os.getcwd()))), \"Inputs\")\n",
    "input_path_day = os.path.join(input_path, DAY)\n",
    "file_path = os.path.join(input_path_day, DAY+ FILE_END)"
   ]
  },
  {
   "cell_type": "markdown",
   "metadata": {},
   "source": [
    "### Read input"
   ]
  },
  {
   "cell_type": "code",
   "execution_count": 5,
   "metadata": {},
   "outputs": [],
   "source": [
    "if RUN_WITH == 'input':\n",
    "    with open(file_path,'r') as f:\n",
    "        values = f.read()\n",
    "elif RUN_WITH == 'sample':\n",
    "    values =  SAMPLE_DATA\n",
    "    \n",
    "else:\n",
    "    print(\"No valid input selected\")\n",
    "values = values.split('\\n')\n",
    "try:\n",
    "    values.remove(\"\")\n",
    "except:\n",
    "    pass\n",
    "values[0:5]\n",
    "mid_time = time.time()"
   ]
  },
  {
   "cell_type": "markdown",
   "metadata": {},
   "source": [
    "## Get Instructions:"
   ]
  },
  {
   "cell_type": "code",
   "execution_count": 6,
   "metadata": {},
   "outputs": [],
   "source": [
    "instructions = {i:(k.split()[0], int(k.split()[1])) for i,k in enumerate(values)}"
   ]
  },
  {
   "cell_type": "markdown",
   "metadata": {},
   "source": [
    "# Part I:"
   ]
  },
  {
   "cell_type": "code",
   "execution_count": null,
   "metadata": {},
   "outputs": [],
   "source": []
  },
  {
   "cell_type": "code",
   "execution_count": 7,
   "metadata": {},
   "outputs": [],
   "source": [
    "def solve_part_1(instructions):\n",
    "    instructions = instructions.copy()\n",
    "    acc_val = 0\n",
    "    positions_visited = set()\n",
    "    next_position = 0\n",
    "    curr_position = 0\n",
    "    while True:\n",
    "        curr_position = next_position\n",
    "        positions_visited.add(curr_position)\n",
    "        curr_instruction = instructions[curr_position][0]\n",
    "        curr_val = instructions[curr_position][1]\n",
    "        if curr_instruction in ('nop', 'acc'):\n",
    "            next_position += 1\n",
    "        elif curr_instruction in ('jmp'):\n",
    "            next_position += curr_val\n",
    "        if curr_instruction =='acc':\n",
    "            acc_val += curr_val\n",
    "        if next_position in positions_visited:\n",
    "            break\n",
    "    print(f'Acc_val = {acc_val},\\tLast position = {curr_position}' )\n",
    "    return positions_visited, curr_position, next_position, acc_val"
   ]
  },
  {
   "cell_type": "code",
   "execution_count": 8,
   "metadata": {},
   "outputs": [],
   "source": [
    "# 1723"
   ]
  },
  {
   "cell_type": "code",
   "execution_count": 9,
   "metadata": {},
   "outputs": [
    {
     "name": "stdout",
     "output_type": "stream",
     "text": [
      "Acc_val = 5,\tLast position = 4\n"
     ]
    },
    {
     "data": {
      "text/plain": [
       "(5, 4, 1)"
      ]
     },
     "execution_count": 9,
     "metadata": {},
     "output_type": "execute_result"
    }
   ],
   "source": [
    "positions_visited, curr_position, next_position,  acc_val = solve_part_1(instructions)\n",
    "acc_val, curr_position, next_position"
   ]
  },
  {
   "cell_type": "markdown",
   "metadata": {},
   "source": [
    "## Part II:"
   ]
  },
  {
   "cell_type": "code",
   "execution_count": 10,
   "metadata": {},
   "outputs": [],
   "source": [
    "# Part II requires that Part I has been ran first"
   ]
  },
  {
   "cell_type": "code",
   "execution_count": 11,
   "metadata": {},
   "outputs": [],
   "source": [
    "# Positions visited that were jmp/nop\n",
    "to_test = [x for x in positions_visited if instructions[x][0] in ('jmp','nop')]"
   ]
  },
  {
   "cell_type": "code",
   "execution_count": 12,
   "metadata": {},
   "outputs": [],
   "source": [
    "def solve_part_2(instructions):\n",
    "    # Modified version of the solve_part_1\n",
    "    acc_val = 0\n",
    "    positions_visited = set()\n",
    "    next_position = 0\n",
    "    curr_position = 0\n",
    "    completed = False\n",
    "    while True:\n",
    "        curr_position = next_position\n",
    "        positions_visited.add(next_position)\n",
    "        curr_instruction = instructions[curr_position][0]\n",
    "        curr_val = instructions[curr_position][1]\n",
    "        if curr_instruction in ('nop', 'acc'):\n",
    "            next_position += 1\n",
    "        elif curr_instruction in ('jmp'):\n",
    "            next_position += curr_val\n",
    "        if curr_instruction =='acc':\n",
    "            acc_val += curr_val\n",
    "        if next_position in positions_visited:\n",
    "            break\n",
    "        if next_position >= len(instructions):\n",
    "            completed = True\n",
    "            break\n",
    "    #print(f'Acc_val = {acc_val},\\tLast position = {curr_position}' )\n",
    "    return positions_visited, curr_position, next_position, completed, acc_val"
   ]
  },
  {
   "cell_type": "code",
   "execution_count": 13,
   "metadata": {},
   "outputs": [
    {
     "name": "stdout",
     "output_type": "stream",
     "text": [
      "completed\n",
      "Acc_val = 8, Last_position = 8\n"
     ]
    }
   ],
   "source": [
    "completed = False\n",
    "while not completed and to_test:\n",
    "    # try all the positions visited that were jmp or nop until the instructions are completed\n",
    "    change = to_test.pop()\n",
    "    new_instructions = instructions.copy()\n",
    "    value = new_instructions[change] \n",
    "    if value[0] == 'jmp':\n",
    "        new_instructions[change] = ('nop', value[1])\n",
    "    elif value[1] == 'nop':\n",
    "        new_instructions[change] = ('jmp', value[1])\n",
    "    tmp_positions_visited, tmp_curr_position, tmp_next_position, tmp_completed, tmp_acc_val = solve_part_2(new_instructions)\n",
    "    if tmp_completed:\n",
    "        print('completed')\n",
    "        break\n",
    "print(f'Acc_val = {tmp_acc_val}, Last_position = {tmp_curr_position}')"
   ]
  },
  {
   "cell_type": "code",
   "execution_count": 14,
   "metadata": {},
   "outputs": [
    {
     "data": {
      "text/plain": [
       "0.18999743461608887"
      ]
     },
     "execution_count": 14,
     "metadata": {},
     "output_type": "execute_result"
    }
   ],
   "source": [
    "end = time.time()\n",
    "read = mid_time - start\n",
    "end - start"
   ]
  },
  {
   "cell_type": "markdown",
   "metadata": {},
   "source": [
    "## Attempting Ned's solution"
   ]
  },
  {
   "cell_type": "code",
   "execution_count": 15,
   "metadata": {},
   "outputs": [],
   "source": [
    "start = time.time()"
   ]
  },
  {
   "cell_type": "code",
   "execution_count": 16,
   "metadata": {},
   "outputs": [],
   "source": [
    "i1 = values[0]"
   ]
  },
  {
   "cell_type": "code",
   "execution_count": 17,
   "metadata": {},
   "outputs": [
    {
     "data": {
      "text/plain": [
       "'nop +0'"
      ]
     },
     "execution_count": 17,
     "metadata": {},
     "output_type": "execute_result"
    }
   ],
   "source": [
    "i1"
   ]
  },
  {
   "cell_type": "code",
   "execution_count": 18,
   "metadata": {},
   "outputs": [
    {
     "data": {
      "text/plain": [
       "('n', '  +0')"
      ]
     },
     "execution_count": 18,
     "metadata": {},
     "output_type": "execute_result"
    }
   ],
   "source": [
    "\n",
    "i1[0], i1[4:].rjust(4,\" \")"
   ]
  },
  {
   "cell_type": "code",
   "execution_count": null,
   "metadata": {},
   "outputs": [],
   "source": []
  },
  {
   "cell_type": "code",
   "execution_count": 19,
   "metadata": {},
   "outputs": [],
   "source": [
    "# Left([Data],1) + PadLeft(Substring([Data], 4), 4, \" \")\n",
    "# concatenate\n",
    "instructions = ''.join([data[0] +data[4:].rjust(4,\" \") for data in values])"
   ]
  },
  {
   "cell_type": "code",
   "execution_count": 20,
   "metadata": {},
   "outputs": [],
   "source": [
    "data = {i:instructions for i in range(-1, int(len(instructions)/5))}"
   ]
  },
  {
   "cell_type": "raw",
   "metadata": {},
   "source": [
    "if substring([Data], 5*[Change], 1)='j' then \n",
    "\tLeft([Data], 5*[Change])+'n' + Substring([Data],5*[Change]+1)\n",
    "elseif substring([Data], 5*[Change], 1)='n' then \n",
    "\tLeft([Data], 5*[Change])+'j' + Substring([Data],5*[Change]+1)\n",
    "else\n",
    "\t[Data]\n",
    "endif"
   ]
  },
  {
   "cell_type": "code",
   "execution_count": 21,
   "metadata": {},
   "outputs": [
    {
     "data": {
      "text/plain": [
       "'n  +0a  +1j  +4a  +3j  -3a -99a  +1j  -4a  +6'"
      ]
     },
     "execution_count": 21,
     "metadata": {},
     "output_type": "execute_result"
    }
   ],
   "source": [
    "instructions"
   ]
  },
  {
   "cell_type": "code",
   "execution_count": 22,
   "metadata": {},
   "outputs": [
    {
     "data": {
      "text/plain": [
       "{-1: 'n  +0a  +1j  +4a  +3j  -3a -99a  +1j  -4a  +6',\n",
       " 0: 'n  +0a  +1j  +4a  +3j  -3a -99a  +1j  -4a  +6',\n",
       " 1: 'n  +0a  +1j  +4a  +3j  -3a -99a  +1j  -4a  +6',\n",
       " 2: 'n  +0a  +1j  +4a  +3j  -3a -99a  +1j  -4a  +6',\n",
       " 3: 'n  +0a  +1j  +4a  +3j  -3a -99a  +1j  -4a  +6',\n",
       " 4: 'n  +0a  +1j  +4a  +3j  -3a -99a  +1j  -4a  +6',\n",
       " 5: 'n  +0a  +1j  +4a  +3j  -3a -99a  +1j  -4a  +6',\n",
       " 6: 'n  +0a  +1j  +4a  +3j  -3a -99a  +1j  -4a  +6',\n",
       " 7: 'n  +0a  +1j  +4a  +3j  -3a -99a  +1j  -4a  +6',\n",
       " 8: 'n  +0a  +1j  +4a  +3j  -3a -99a  +1j  -4a  +6'}"
      ]
     },
     "execution_count": 22,
     "metadata": {},
     "output_type": "execute_result"
    }
   ],
   "source": [
    "data"
   ]
  },
  {
   "cell_type": "code",
   "execution_count": 23,
   "metadata": {},
   "outputs": [
    {
     "data": {
      "text/plain": [
       "'j'"
      ]
     },
     "execution_count": 23,
     "metadata": {},
     "output_type": "execute_result"
    }
   ],
   "source": [
    "data[2][5*2:][0]"
   ]
  },
  {
   "cell_type": "code",
   "execution_count": 24,
   "metadata": {},
   "outputs": [
    {
     "data": {
      "text/plain": [
       "'n'"
      ]
     },
     "execution_count": 24,
     "metadata": {},
     "output_type": "execute_result"
    }
   ],
   "source": [
    "data[0][5*0:][0]"
   ]
  },
  {
   "cell_type": "code",
   "execution_count": 25,
   "metadata": {},
   "outputs": [
    {
     "data": {
      "text/plain": [
       "'n  +0a  +1n  +4a  +3j  -3a -99a  +1j  -4a  +6'"
      ]
     },
     "execution_count": 25,
     "metadata": {},
     "output_type": "execute_result"
    }
   ],
   "source": [
    "data[2][0:5*2] +'n' +data[2][5*2+1:]"
   ]
  },
  {
   "cell_type": "code",
   "execution_count": 26,
   "metadata": {},
   "outputs": [],
   "source": [
    "for k,v in data.items():\n",
    "    if k > -1:\n",
    "        if data[k][5*k:][0] =='j':\n",
    "            data[k] = data[k][0:5*k] +'n' + data[k][5*k+1:]\n",
    "        elif data[k][5*k:][0] =='n':\n",
    "            data[k] = data[k][0:5*k] +'j' + data[k][5*k+1:]"
   ]
  },
  {
   "cell_type": "code",
   "execution_count": 27,
   "metadata": {},
   "outputs": [
    {
     "data": {
      "text/plain": [
       "{-1: 'n  +0a  +1j  +4a  +3j  -3a -99a  +1j  -4a  +6',\n",
       " 0: 'j  +0a  +1j  +4a  +3j  -3a -99a  +1j  -4a  +6',\n",
       " 1: 'n  +0a  +1j  +4a  +3j  -3a -99a  +1j  -4a  +6',\n",
       " 2: 'n  +0a  +1n  +4a  +3j  -3a -99a  +1j  -4a  +6',\n",
       " 3: 'n  +0a  +1j  +4a  +3j  -3a -99a  +1j  -4a  +6',\n",
       " 4: 'n  +0a  +1j  +4a  +3n  -3a -99a  +1j  -4a  +6',\n",
       " 5: 'n  +0a  +1j  +4a  +3j  -3a -99a  +1j  -4a  +6',\n",
       " 6: 'n  +0a  +1j  +4a  +3j  -3a -99a  +1j  -4a  +6',\n",
       " 7: 'n  +0a  +1j  +4a  +3j  -3a -99a  +1n  -4a  +6',\n",
       " 8: 'n  +0a  +1j  +4a  +3j  -3a -99a  +1j  -4a  +6'}"
      ]
     },
     "execution_count": 27,
     "metadata": {},
     "output_type": "execute_result"
    }
   ],
   "source": [
    "data"
   ]
  },
  {
   "cell_type": "code",
   "execution_count": 28,
   "metadata": {},
   "outputs": [
    {
     "data": {
      "text/plain": [
       "{'j  +0a  +1j  +4a  +3j  -3a -99a  +1j  -4a  +6',\n",
       " 'n  +0a  +1j  +4a  +3j  -3a -99a  +1j  -4a  +6',\n",
       " 'n  +0a  +1j  +4a  +3j  -3a -99a  +1n  -4a  +6',\n",
       " 'n  +0a  +1j  +4a  +3n  -3a -99a  +1j  -4a  +6',\n",
       " 'n  +0a  +1n  +4a  +3j  -3a -99a  +1j  -4a  +6'}"
      ]
     },
     "execution_count": 28,
     "metadata": {},
     "output_type": "execute_result"
    }
   ],
   "source": [
    "# filter unique set of instructions?\n",
    "unique_data = set( [v for k,v in data.items()])\n",
    "unique_data.add(instructions)\n",
    "unique_data"
   ]
  },
  {
   "cell_type": "code",
   "execution_count": 29,
   "metadata": {},
   "outputs": [],
   "source": [
    "# generate 300 rows for each\n",
    "## nested dictionaries:"
   ]
  },
  {
   "cell_type": "code",
   "execution_count": 30,
   "metadata": {},
   "outputs": [],
   "source": [
    "nested = {}\n",
    "for i, k in enumerate(unique_data):\n",
    "    nested[i] = {}\n",
    "    for j in range(30):\n",
    "        nested[i][j]= {'data':k}"
   ]
  },
  {
   "cell_type": "raw",
   "metadata": {},
   "source": [
    "Grouped by Change (nested key)\n",
    "if substring([Data], 5*[Row-1:IP], 1)='j' then \n",
    "\t[Row-1:IP]+ToNumber(substring([Data], 5*[Row-1:IP]+1, 4))\n",
    "else\n",
    "\t[Row-1:IP]+1\n",
    "endif"
   ]
  },
  {
   "cell_type": "code",
   "execution_count": 31,
   "metadata": {},
   "outputs": [],
   "source": [
    "change = nested[4]"
   ]
  },
  {
   "cell_type": "code",
   "execution_count": 32,
   "metadata": {},
   "outputs": [],
   "source": [
    "row_1IP = 0\n",
    "change[0]['IP'] = 0"
   ]
  },
  {
   "cell_type": "code",
   "execution_count": 33,
   "metadata": {},
   "outputs": [
    {
     "data": {
      "text/plain": [
       "'n'"
      ]
     },
     "execution_count": 33,
     "metadata": {},
     "output_type": "execute_result"
    }
   ],
   "source": [
    "change[1]['data'][5*change[0]['IP']][0]"
   ]
  },
  {
   "cell_type": "code",
   "execution_count": 34,
   "metadata": {},
   "outputs": [
    {
     "data": {
      "text/plain": [
       "'n  +0a  +1j  +4a  +3j  -3a -99a  +1n  -4a  +6'"
      ]
     },
     "execution_count": 34,
     "metadata": {},
     "output_type": "execute_result"
    }
   ],
   "source": [
    "change[1]['data']"
   ]
  },
  {
   "cell_type": "raw",
   "metadata": {},
   "source": [
    "for i in range(len(change)):\n",
    "    try:\n",
    "        if change[i]['data'][5 * change[i-1]['IP']][0] == 'j':\n",
    "            change[i]['IP'] = change[i-1]['IP'] + int(change[i]['data'][5 * change[i-1]['IP']+1:5 * change[i-1]['IP']+5])\n",
    "        else:\n",
    "            change[i]['IP'] = change[i-1]['IP']+1\n",
    "    except:\n",
    "        print(i,'error')\n",
    "        change[i]['IP'] = 0"
   ]
  },
  {
   "cell_type": "code",
   "execution_count": 35,
   "metadata": {},
   "outputs": [
    {
     "name": "stdout",
     "output_type": "stream",
     "text": [
      "0 0 error\n",
      "1 0 error\n",
      "2 0 error\n",
      "3 0 error\n",
      "4 0 error\n",
      "4 7 error\n",
      "4 14 error\n",
      "4 21 error\n",
      "4 28 error\n"
     ]
    }
   ],
   "source": [
    "for key in nested.keys():\n",
    "    change = nested[key]\n",
    "    for i in range(len(change)):\n",
    "        try:\n",
    "            if change[i]['data'][5 * change[i-1]['IP']][0] == 'j':\n",
    "                change[i]['IP'] = change[i-1]['IP'] + int(change[i]['data'][5 * change[i-1]['IP']+1:5 * change[i-1]['IP']+5])\n",
    "            else:\n",
    "                change[i]['IP'] = change[i-1]['IP']+1\n",
    "        except:\n",
    "            print(key,i,'error')\n",
    "            change[i]['IP'] = 0"
   ]
  },
  {
   "cell_type": "raw",
   "metadata": {},
   "source": [
    "if substring([Data], 5*[Row-1:IP], 1)='a' then \n",
    "    [Row-1:ACC]+ToNumber(substring([Data], 5*[Row-1:IP]+1, 4))\n",
    "else\n",
    "\t[Row-1:ACC]\n",
    "endif"
   ]
  },
  {
   "cell_type": "raw",
   "metadata": {},
   "source": [
    "for i in range(len(change)):\n",
    "    try:\n",
    "        if change[i]['data'][5 * change[i-1]['IP']][0] == 'a':\n",
    "            change[i]['ACC'] = change[i-1]['ACC'] + int(change[i]['data'][5 * change[i-1]['IP']+1:5 * change[i-1]['IP']+5])\n",
    "        else:\n",
    "            change[i]['ACC'] = change[i-1]['ACC']\n",
    "    except:\n",
    "        print(i, 'error')\n",
    "        change[i]['ACC']= 0\n",
    "                     "
   ]
  },
  {
   "cell_type": "code",
   "execution_count": 36,
   "metadata": {},
   "outputs": [
    {
     "name": "stdout",
     "output_type": "stream",
     "text": [
      "0 0 error\n",
      "1 0 error\n",
      "2 0 error\n",
      "3 0 error\n",
      "4 0 error\n",
      "4 7 error\n",
      "4 14 error\n",
      "4 21 error\n",
      "4 28 error\n"
     ]
    }
   ],
   "source": [
    "for key in nested.keys():\n",
    "    change = nested[key]\n",
    "    for i in range(len(change)):\n",
    "        try:\n",
    "            if change[i]['data'][5 * change[i-1]['IP']][0] == 'a':\n",
    "                change[i]['ACC'] = change[i-1]['ACC'] + int(change[i]['data'][5 * change[i-1]['IP']+1:5 * change[i-1]['IP']+5])\n",
    "            else:\n",
    "                change[i]['ACC'] = change[i-1]['ACC']\n",
    "        except:\n",
    "            print(key,i, 'error')\n",
    "            change[i]['ACC']= 0\n",
    "                     "
   ]
  },
  {
   "cell_type": "raw",
   "metadata": {},
   "source": [
    "if Left([Row-1:VisitedIP], 1)=='#' then\n",
    "\t[Row-1:VisitedIP]\n",
    "elseif [IP]*5>Length([Data]) then\n",
    "\t\"#Success\"\n",
    "elseif Contains([Row-1:VisitedIP], '~'+ToString([IP]) + '~') then\n",
    "\t\"#Error: The instruction @ \" + ToString([IP]) + \" was visited twice, ACC=\" + ToString([Row-1:ACC])\n",
    "else\n",
    "\t[Row-1:VisitedIP] + '~'+ToString([IP]) + '~'\n",
    "endif"
   ]
  },
  {
   "cell_type": "raw",
   "metadata": {},
   "source": [
    "for i in range(len(change)):\n",
    "    try:\n",
    "        if change[i-1]['visited'][0] == '#':\n",
    "            change[i]['visited'] = change[i-1]['visited']\n",
    "        elif change[i]['IP'] > len(change[i]['data']):\n",
    "            change[i]['visited'] = '# Success'\n",
    "        elif '~'+str(change[i]['IP'])+'~' in change[i-1]['visited']:\n",
    "            change[i]['visited'] = f'# Error: the instruction @ {str(change[i][\"IP\"])} was visited twice, ACC = {str(change[i-1][\"ACC\"])}'\n",
    "        else:\n",
    "            change[i]['visited'] = change[i-1]['visited'] + '~' + str(change[i]['IP']) +'~'\n",
    "    except:\n",
    "        print(i, 'error')\n",
    "        change[i]['visited']= '~' + str(change[i]['IP']) +'~'\n",
    "                     "
   ]
  },
  {
   "cell_type": "code",
   "execution_count": 37,
   "metadata": {},
   "outputs": [
    {
     "name": "stdout",
     "output_type": "stream",
     "text": [
      "0 error\n",
      "0 error\n",
      "0 error\n",
      "0 error\n",
      "0 error\n"
     ]
    }
   ],
   "source": [
    "for key in nested.keys():\n",
    "    change = nested[key]\n",
    "    for i in range(len(change)):\n",
    "        try:\n",
    "            if change[i-1]['visited'][0] == '#':\n",
    "                change[i]['visited'] = change[i-1]['visited']\n",
    "            elif change[i]['IP'] >= len(change[i]['data']):\n",
    "                change[i]['visited'] = '# Success'\n",
    "            elif '~'+str(change[i]['IP'])+'~' in change[i-1]['visited']:\n",
    "                change[i]['visited'] = f'# Error: the instruction @ {str(change[i][\"IP\"])} was visited twice, ACC = {str(change[i-1][\"ACC\"])}'\n",
    "            else:\n",
    "                change[i]['visited'] = change[i-1]['visited'] + '~' + str(change[i]['IP']) +'~'\n",
    "        except:\n",
    "            print(i, 'error')\n",
    "            change[i]['visited']= '~' + str(change[i]['IP']) +'~'\n",
    "\n",
    "                     "
   ]
  },
  {
   "cell_type": "code",
   "execution_count": 38,
   "metadata": {},
   "outputs": [],
   "source": [
    "positive = set()\n",
    "for key, collection in nested.items():\n",
    "    for change, results in collection.items():\n",
    "        try:\n",
    "            if results['visited'] == '# Success':\n",
    "                positive.add((key, change, results['ACC']))\n",
    "        except:\n",
    "            pass"
   ]
  },
  {
   "cell_type": "code",
   "execution_count": 39,
   "metadata": {},
   "outputs": [
    {
     "data": {
      "text/plain": [
       "set()"
      ]
     },
     "execution_count": 39,
     "metadata": {},
     "output_type": "execute_result"
    }
   ],
   "source": [
    "positive"
   ]
  }
 ],
 "metadata": {
  "kernelspec": {
   "display_name": "Python 3",
   "language": "python",
   "name": "python3"
  },
  "language_info": {
   "codemirror_mode": {
    "name": "ipython",
    "version": 3
   },
   "file_extension": ".py",
   "mimetype": "text/x-python",
   "name": "python",
   "nbconvert_exporter": "python",
   "pygments_lexer": "ipython3",
   "version": "3.6.8"
  }
 },
 "nbformat": 4,
 "nbformat_minor": 4
}
