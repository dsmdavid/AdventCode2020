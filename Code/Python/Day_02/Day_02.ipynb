{
 "cells": [
  {
   "cell_type": "markdown",
   "metadata": {},
   "source": [
    "# Password checker"
   ]
  },
  {
   "cell_type": "markdown",
   "metadata": {},
   "source": [
    "The shopkeeper at the North Pole Toboggan Rental Shop is having a bad day. \"Something's wrong with our computers; we can't log in!\" You ask if you can take a look.\n",
    "\n",
    "Their password database seems to be a little corrupted: some of the passwords wouldn't have been allowed by the Official Toboggan Corporate Policy that was in effect when they were chosen.\n",
    "\n",
    "To try to debug the problem, they have created a list (your puzzle input) of passwords (according to the corrupted database) and the corporate policy when that password was set.\n",
    "\n",
    "For example, suppose you have the following list:\n",
    "```\n",
    "1-3 a: abcde  \n",
    "1-3 b: cdefg  \n",
    "2-9 c: ccccccccc  \n",
    "```  \n",
    "Each line gives the password policy and then the password. The password policy indicates the lowest and highest number of times a given letter must appear for the password to be valid. For example, 1-3 a means that the password must contain a at least 1 time and at most 3 times.\n",
    "\n",
    "In the above example, 2 passwords are valid. The middle password, cdefg, is not; it contains no instances of b, but needs at least 1. The first and third passwords are valid: they contain one a or nine c, both within the limits of their respective policies.\n",
    "\n",
    "How many passwords are valid according to their policies?\n",
    "\n"
   ]
  },
  {
   "cell_type": "markdown",
   "metadata": {},
   "source": [
    "## Second part"
   ]
  },
  {
   "cell_type": "markdown",
   "metadata": {},
   "source": [
    "While it appears you validated the passwords correctly, they don't seem to be what the Official Toboggan Corporate Authentication System is expecting.\n",
    "\n",
    "The shopkeeper suddenly realizes that he just accidentally explained the password policy rules from his old job at the sled rental place down the street! The Official Toboggan Corporate Policy actually works a little differently.\n",
    "\n",
    "Each policy actually describes two positions in the password, where 1 means the first character, 2 means the second character, and so on. (Be careful; Toboggan Corporate Policies have no concept of \"index zero\"!) Exactly one of these positions must contain the given letter. Other occurrences of the letter are irrelevant for the purposes of policy enforcement.\n",
    "\n",
    "Given the same example list from above:\n",
    "\n",
    "`1-3 a: abcde` is valid: position 1 contains a and position 3 does not.  \n",
    "`1-3 b: cdefg` is invalid: neither position 1 nor position 3 contains b.  \n",
    "`2-9 c: ccccccccc` is invalid: both position 2 and position 9 contain c.  \n",
    "How many passwords are valid according to the new interpretation of the policies?\n",
    "\n"
   ]
  },
  {
   "cell_type": "code",
   "execution_count": 1,
   "metadata": {},
   "outputs": [],
   "source": [
    "import os\n",
    "import time"
   ]
  },
  {
   "cell_type": "code",
   "execution_count": 2,
   "metadata": {},
   "outputs": [],
   "source": [
    "start = time.time()"
   ]
  },
  {
   "cell_type": "code",
   "execution_count": 3,
   "metadata": {},
   "outputs": [],
   "source": [
    "day = 'Day_02'\n",
    "file_end = '_01.txt'\n",
    "input_path = os.path.join(os.path.dirname(os.path.dirname(os.path.dirname(os.getcwd()))), \"Inputs\")\n",
    "input_path_day = os.path.join(input_path, day)\n",
    "file_path = os.path.join(input_path_day, day+ file_end)"
   ]
  },
  {
   "cell_type": "markdown",
   "metadata": {},
   "source": [
    "### Read input"
   ]
  },
  {
   "cell_type": "code",
   "execution_count": 4,
   "metadata": {},
   "outputs": [],
   "source": [
    "with open(file_path,'r') as f:\n",
    "    values = f.read().split('\\n')\n",
    "values.remove(\"\")"
   ]
  },
  {
   "cell_type": "code",
   "execution_count": 5,
   "metadata": {},
   "outputs": [
    {
     "data": {
      "text/plain": [
       "625"
      ]
     },
     "execution_count": 5,
     "metadata": {},
     "output_type": "execute_result"
    }
   ],
   "source": [
    "counter = 0\n",
    "for val in values:\n",
    "    # Identify elements needed\n",
    "    components = val.split()\n",
    "    c1, c2 = map(int,components[0].split('-'))\n",
    "    letter = components[1].replace(':','')\n",
    "    password = components [2]\n",
    "    # Apply logic\n",
    "    counter += (c1 <= password.count(letter) <= c2)\n",
    "counter"
   ]
  },
  {
   "cell_type": "code",
   "execution_count": 6,
   "metadata": {},
   "outputs": [
    {
     "data": {
      "text/plain": [
       "391"
      ]
     },
     "execution_count": 6,
     "metadata": {},
     "output_type": "execute_result"
    }
   ],
   "source": [
    "counter = 0\n",
    "for val in values:\n",
    "    # Identify elements needed\n",
    "    components = val.split()\n",
    "    c1, c2 = map(int,components[0].split('-'))\n",
    "    letter = components[1].replace(':','')\n",
    "    password = components[2]\n",
    "    # Apply logic\n",
    "    counter += (bool(password[c1-1] == letter) != bool(password[c2-1] == letter))\n",
    "counter"
   ]
  },
  {
   "cell_type": "code",
   "execution_count": 9,
   "metadata": {},
   "outputs": [
    {
     "data": {
      "text/plain": [
       "391"
      ]
     },
     "execution_count": 9,
     "metadata": {},
     "output_type": "execute_result"
    }
   ],
   "source": [
    "# Extend it for \"n\" positions:\n",
    "counter = 0\n",
    "for val in values:\n",
    "    # Identify elements needed\n",
    "    components = val.split()\n",
    "    positions = map(int,components[0].split('-'))\n",
    "    letter = components[1].replace(':','')\n",
    "    password = components[2]\n",
    "    matches = 0\n",
    "    # Apply logic\n",
    "    for pos in positions:\n",
    "        if password[pos-1] == letter:\n",
    "            matches += 1\n",
    "    counter += (matches ==1)\n",
    "counter"
   ]
  },
  {
   "cell_type": "code",
   "execution_count": 7,
   "metadata": {},
   "outputs": [
    {
     "data": {
      "text/plain": [
       "0.06012415885925293"
      ]
     },
     "execution_count": 7,
     "metadata": {},
     "output_type": "execute_result"
    }
   ],
   "source": [
    "end = time.time()\n",
    "end - start"
   ]
  }
 ],
 "metadata": {
  "kernelspec": {
   "display_name": "Python 3",
   "language": "python",
   "name": "python3"
  },
  "language_info": {
   "codemirror_mode": {
    "name": "ipython",
    "version": 3
   },
   "file_extension": ".py",
   "mimetype": "text/x-python",
   "name": "python",
   "nbconvert_exporter": "python",
   "pygments_lexer": "ipython3",
   "version": "3.7.8"
  }
 },
 "nbformat": 4,
 "nbformat_minor": 4
}
