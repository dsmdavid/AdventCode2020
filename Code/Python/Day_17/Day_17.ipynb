{
 "cells": [
  {
   "cell_type": "markdown",
   "metadata": {},
   "source": [
    "# Conway Cubes"
   ]
  },
  {
   "cell_type": "markdown",
   "metadata": {},
   "source": [
    "As your flight slowly drifts through the sky, the Elves at the Mythical Information Bureau at the North Pole contact you. They'd like some help debugging a malfunctioning experimental energy source aboard one of their super-secret imaging satellites.\n",
    "\n",
    "The experimental energy source is based on cutting-edge technology: a set of Conway Cubes contained in a pocket dimension! When you hear it's having problems, you can't help but agree to take a look.\n",
    "\n",
    "The pocket dimension contains an infinite 3-dimensional grid. At every integer 3-dimensional coordinate (x,y,z), there exists a single cube which is either active or inactive.\n",
    "\n",
    "In the initial state of the pocket dimension, almost all cubes start inactive. The only exception to this is a small flat region of cubes (your puzzle input); the cubes in this region start in the specified active (#) or inactive (.) state.\n",
    "\n",
    "The energy source then proceeds to boot up by executing six cycles.\n",
    "\n",
    "Each cube only ever considers its neighbors: any of the 26 other cubes where any of their coordinates differ by at most 1. For example, given the cube at x=1,y=2,z=3, its neighbors include the cube at x=2,y=2,z=2, the cube at x=0,y=2,z=3, and so on.\n",
    "\n",
    "During a cycle, all cubes simultaneously change their state according to the following rules:\n",
    "\n",
    "If a cube is active and exactly 2 or 3 of its neighbors are also active, the cube remains active. Otherwise, the cube becomes inactive.\n",
    "If a cube is inactive but exactly 3 of its neighbors are active, the cube becomes active. Otherwise, the cube remains inactive.\n",
    "The engineers responsible for this experimental energy source would like you to simulate the pocket dimension and determine what the configuration of cubes should be at the end of the six-cycle boot process.\n",
    "\n",
    "For example, consider the following initial state:\n",
    "```\n",
    ".#.\n",
    "..#\n",
    "###\n",
    "```\n",
    "Even though the pocket dimension is 3-dimensional, this initial state represents a small 2-dimensional slice of it. (In particular, this initial state defines a 3x3x1 region of the 3-dimensional space.)\n",
    "\n",
    "Simulating a few cycles from this initial state produces the following configurations, where the result of each cycle is shown layer-by-layer at each given z coordinate (and the frame of view follows the active cells in each cycle):\n",
    "\n",
    "Before any cycles:\n",
    "```\n",
    "z=0\n",
    ".#.\n",
    "..#\n",
    "###\n",
    "\n",
    "\n",
    "After 1 cycle:\n",
    "\n",
    "z=-1\n",
    "#..\n",
    "..#\n",
    ".#.\n",
    "\n",
    "z=0\n",
    "#.#\n",
    ".##\n",
    ".#.\n",
    "\n",
    "z=1\n",
    "#..\n",
    "..#\n",
    ".#.\n",
    "\n",
    "\n",
    "After 2 cycles:\n",
    "\n",
    "z=-2\n",
    ".....\n",
    ".....\n",
    "..#..\n",
    ".....\n",
    ".....\n",
    "\n",
    "z=-1\n",
    "..#..\n",
    ".#..#\n",
    "....#\n",
    ".#...\n",
    ".....\n",
    "\n",
    "z=0\n",
    "##...\n",
    "##...\n",
    "#....\n",
    "....#\n",
    ".###.\n",
    "\n",
    "z=1\n",
    "..#..\n",
    ".#..#\n",
    "....#\n",
    ".#...\n",
    ".....\n",
    "\n",
    "z=2\n",
    ".....\n",
    ".....\n",
    "..#..\n",
    ".....\n",
    ".....\n",
    "\n",
    "\n",
    "After 3 cycles:\n",
    "\n",
    "z=-2\n",
    ".......\n",
    ".......\n",
    "..##...\n",
    "..###..\n",
    ".......\n",
    ".......\n",
    ".......\n",
    "\n",
    "z=-1\n",
    "..#....\n",
    "...#...\n",
    "#......\n",
    ".....##\n",
    ".#...#.\n",
    "..#.#..\n",
    "...#...\n",
    "\n",
    "z=0\n",
    "...#...\n",
    ".......\n",
    "#......\n",
    ".......\n",
    ".....##\n",
    ".##.#..\n",
    "...#...\n",
    "\n",
    "z=1\n",
    "..#....\n",
    "...#...\n",
    "#......\n",
    ".....##\n",
    ".#...#.\n",
    "..#.#..\n",
    "...#...\n",
    "\n",
    "z=2\n",
    ".......\n",
    ".......\n",
    "..##...\n",
    "..###..\n",
    ".......\n",
    ".......\n",
    ".......\n",
    "```\n",
    "After the full six-cycle boot process completes, 112 cubes are left in the active state.\n",
    "\n",
    "Starting with your given initial configuration, simulate six cycles. How many cubes are left in the active state after the sixth cycle?"
   ]
  },
  {
   "cell_type": "markdown",
   "metadata": {},
   "source": [
    "## Second part"
   ]
  },
  {
   "cell_type": "markdown",
   "metadata": {},
   "source": [
    "For some reason, your simulated results don't match what the experimental energy source engineers expected. Apparently, the pocket dimension actually has four spatial dimensions, not three.\n",
    "\n",
    "The pocket dimension contains an infinite 4-dimensional grid. At every integer 4-dimensional coordinate (x,y,z,w), there exists a single cube (really, a hypercube) which is still either active or inactive.\n",
    "\n",
    "Each cube only ever considers its neighbors: any of the 80 other cubes where any of their coordinates differ by at most 1. For example, given the cube at x=1,y=2,z=3,w=4, its neighbors include the cube at x=2,y=2,z=3,w=3, the cube at x=0,y=2,z=3,w=4, and so on.\n",
    "\n",
    "The initial state of the pocket dimension still consists of a small flat region of cubes. Furthermore, the same rules for cycle updating still apply: during each cycle, consider the number of active neighbors of each cube.\n",
    "\n",
    "For example, consider the same initial state as in the example above. Even though the pocket dimension is 4-dimensional, this initial state represents a small 2-dimensional slice of it. (In particular, this initial state defines a 3x3x1x1 region of the 4-dimensional space.)\n",
    "\n",
    "Simulating a few cycles from this initial state produces the following configurations, where the result of each cycle is shown layer-by-layer at each given z and w coordinate:\n",
    "\n",
    "Before any cycles:\n",
    "```\n",
    "z=0, w=0\n",
    ".#.\n",
    "..#\n",
    "###\n",
    "\n",
    "\n",
    "After 1 cycle:\n",
    "\n",
    "z=-1, w=-1\n",
    "#..\n",
    "..#\n",
    ".#.\n",
    "\n",
    "z=0, w=-1\n",
    "#..\n",
    "..#\n",
    ".#.\n",
    "\n",
    "z=1, w=-1\n",
    "#..\n",
    "..#\n",
    ".#.\n",
    "\n",
    "z=-1, w=0\n",
    "#..\n",
    "..#\n",
    ".#.\n",
    "\n",
    "z=0, w=0\n",
    "#.#\n",
    ".##\n",
    ".#.\n",
    "\n",
    "z=1, w=0\n",
    "#..\n",
    "..#\n",
    ".#.\n",
    "\n",
    "z=-1, w=1\n",
    "#..\n",
    "..#\n",
    ".#.\n",
    "\n",
    "z=0, w=1\n",
    "#..\n",
    "..#\n",
    ".#.\n",
    "\n",
    "z=1, w=1\n",
    "#..\n",
    "..#\n",
    ".#.\n",
    "\n",
    "\n",
    "After 2 cycles:\n",
    "\n",
    "z=-2, w=-2\n",
    ".....\n",
    ".....\n",
    "..#..\n",
    ".....\n",
    ".....\n",
    "\n",
    "z=-1, w=-2\n",
    ".....\n",
    ".....\n",
    ".....\n",
    ".....\n",
    ".....\n",
    "\n",
    "z=0, w=-2\n",
    "###..\n",
    "##.##\n",
    "#...#\n",
    ".#..#\n",
    ".###.\n",
    "\n",
    "z=1, w=-2\n",
    ".....\n",
    ".....\n",
    ".....\n",
    ".....\n",
    ".....\n",
    "\n",
    "z=2, w=-2\n",
    ".....\n",
    ".....\n",
    "..#..\n",
    ".....\n",
    ".....\n",
    "\n",
    "z=-2, w=-1\n",
    ".....\n",
    ".....\n",
    ".....\n",
    ".....\n",
    ".....\n",
    "\n",
    "z=-1, w=-1\n",
    ".....\n",
    ".....\n",
    ".....\n",
    ".....\n",
    ".....\n",
    "\n",
    "z=0, w=-1\n",
    ".....\n",
    ".....\n",
    ".....\n",
    ".....\n",
    ".....\n",
    "\n",
    "z=1, w=-1\n",
    ".....\n",
    ".....\n",
    ".....\n",
    ".....\n",
    ".....\n",
    "\n",
    "z=2, w=-1\n",
    ".....\n",
    ".....\n",
    ".....\n",
    ".....\n",
    ".....\n",
    "\n",
    "z=-2, w=0\n",
    "###..\n",
    "##.##\n",
    "#...#\n",
    ".#..#\n",
    ".###.\n",
    "\n",
    "z=-1, w=0\n",
    ".....\n",
    ".....\n",
    ".....\n",
    ".....\n",
    ".....\n",
    "\n",
    "z=0, w=0\n",
    ".....\n",
    ".....\n",
    ".....\n",
    ".....\n",
    ".....\n",
    "\n",
    "z=1, w=0\n",
    ".....\n",
    ".....\n",
    ".....\n",
    ".....\n",
    ".....\n",
    "\n",
    "z=2, w=0\n",
    "###..\n",
    "##.##\n",
    "#...#\n",
    ".#..#\n",
    ".###.\n",
    "\n",
    "z=-2, w=1\n",
    ".....\n",
    ".....\n",
    ".....\n",
    ".....\n",
    ".....\n",
    "\n",
    "z=-1, w=1\n",
    ".....\n",
    ".....\n",
    ".....\n",
    ".....\n",
    ".....\n",
    "\n",
    "z=0, w=1\n",
    ".....\n",
    ".....\n",
    ".....\n",
    ".....\n",
    ".....\n",
    "\n",
    "z=1, w=1\n",
    ".....\n",
    ".....\n",
    ".....\n",
    ".....\n",
    ".....\n",
    "\n",
    "z=2, w=1\n",
    ".....\n",
    ".....\n",
    ".....\n",
    ".....\n",
    ".....\n",
    "\n",
    "z=-2, w=2\n",
    ".....\n",
    ".....\n",
    "..#..\n",
    ".....\n",
    ".....\n",
    "\n",
    "z=-1, w=2\n",
    ".....\n",
    ".....\n",
    ".....\n",
    ".....\n",
    ".....\n",
    "\n",
    "z=0, w=2\n",
    "###..\n",
    "##.##\n",
    "#...#\n",
    ".#..#\n",
    ".###.\n",
    "\n",
    "z=1, w=2\n",
    ".....\n",
    ".....\n",
    ".....\n",
    ".....\n",
    ".....\n",
    "\n",
    "z=2, w=2\n",
    ".....\n",
    ".....\n",
    "..#..\n",
    ".....\n",
    ".....\n",
    "```\n",
    "After the full six-cycle boot process completes, 848 cubes are left in the active state.\n",
    "\n",
    "Starting with your given initial configuration, simulate six cycles in a 4-dimensional space. How many cubes are left in the active state after the sixth cycle?\n",
    "\n"
   ]
  },
  {
   "cell_type": "code",
   "execution_count": 1,
   "metadata": {},
   "outputs": [],
   "source": [
    "import os\n",
    "import time\n",
    "import numpy as np\n",
    "import re"
   ]
  },
  {
   "cell_type": "code",
   "execution_count": 2,
   "metadata": {},
   "outputs": [],
   "source": [
    "DAY = 'Day_17'\n",
    "FILE_END = '_01.txt'\n",
    "RUN_WITH = 'input' ## admitted values: sample input \n",
    "SAMPLE_DATA = '''.#.\n",
    "..#\n",
    "###'''"
   ]
  },
  {
   "cell_type": "code",
   "execution_count": 3,
   "metadata": {},
   "outputs": [],
   "source": [
    "start = time.time()"
   ]
  },
  {
   "cell_type": "code",
   "execution_count": 4,
   "metadata": {},
   "outputs": [],
   "source": [
    "\n",
    "input_path = os.path.join(os.path.dirname(os.path.dirname(os.path.dirname(os.getcwd()))), \"Inputs\")\n",
    "input_path_day = os.path.join(input_path, DAY)\n",
    "file_path = os.path.join(input_path_day, DAY+ FILE_END)"
   ]
  },
  {
   "cell_type": "markdown",
   "metadata": {},
   "source": [
    "### Read input"
   ]
  },
  {
   "cell_type": "code",
   "execution_count": 5,
   "metadata": {},
   "outputs": [
    {
     "data": {
      "text/plain": [
       "['.###..#.', '##.##...', '....#.#.', '#..#.###', '...#...#']"
      ]
     },
     "execution_count": 5,
     "metadata": {},
     "output_type": "execute_result"
    }
   ],
   "source": [
    "if RUN_WITH == 'input':\n",
    "    with open(file_path,'r') as f:\n",
    "        values = f.read()\n",
    "elif RUN_WITH == 'sample':\n",
    "    values =  SAMPLE_DATA\n",
    "    \n",
    "else:\n",
    "    print(\"No valid input selected\")\n",
    "values = values.split('\\n')\n",
    "try:\n",
    "    values.remove(\"\")\n",
    "except:\n",
    "    pass\n",
    "values[0:5]"
   ]
  },
  {
   "cell_type": "markdown",
   "metadata": {},
   "source": [
    "## Get Values as array"
   ]
  },
  {
   "cell_type": "code",
   "execution_count": 6,
   "metadata": {},
   "outputs": [],
   "source": [
    "def prep_day(day):\n",
    "    DAY = f'Day_{str(day)}'\n",
    "    FILE_END = '_01.txt'\n",
    "    RUN_WITH = 'input' ## admitted values: sample input \n",
    "    SAMPLE_DATA = '''.#.\n",
    "    ..#\n",
    "    ###'''    \n",
    "    input_path = os.path.join(os.path.dirname(os.path.dirname(os.path.dirname(os.getcwd()))), \"Inputs\")\n",
    "    input_path_day = os.path.join(input_path, DAY)\n",
    "    file_path = os.path.join(input_path_day, DAY+ FILE_END)\n",
    "    \n",
    "    return get_input(RUN_WITH, file_path)"
   ]
  },
  {
   "cell_type": "code",
   "execution_count": 7,
   "metadata": {},
   "outputs": [],
   "source": [
    "def get_input(RUN_WITH, file_path):\n",
    "    if RUN_WITH == 'input':\n",
    "        with open(file_path,'r') as f:\n",
    "            values = f.read()\n",
    "    elif RUN_WITH == 'sample':\n",
    "        values =  SAMPLE_DATA\n",
    "\n",
    "    else:\n",
    "        print(\"No valid input selected\")\n",
    "    values = values.split('\\n')\n",
    "    try:\n",
    "        values.remove(\"\")\n",
    "    except:\n",
    "        pass\n",
    "    return values\n",
    "\n",
    "def to_arr(values):\n",
    "    size = len(values)\n",
    "    symbols = {'.':0, '#':1}\n",
    "    values = np.array([symbols[val] for value in values for val in value]).reshape(size,size)\n",
    "    return values"
   ]
  },
  {
   "cell_type": "code",
   "execution_count": 8,
   "metadata": {},
   "outputs": [
    {
     "data": {
      "text/plain": [
       "array([[0, 1, 1, 1, 0, 0, 1, 0],\n",
       "       [1, 1, 0, 1, 1, 0, 0, 0],\n",
       "       [0, 0, 0, 0, 1, 0, 1, 0],\n",
       "       [1, 0, 0, 1, 0, 1, 1, 1],\n",
       "       [0, 0, 0, 1, 0, 0, 0, 1],\n",
       "       [1, 1, 0, 1, 0, 0, 0, 1],\n",
       "       [1, 0, 0, 1, 1, 0, 1, 1],\n",
       "       [1, 0, 0, 0, 0, 0, 0, 0]])"
      ]
     },
     "execution_count": 8,
     "metadata": {},
     "output_type": "execute_result"
    }
   ],
   "source": [
    "size = len(values)\n",
    "symbols = {'.':0, '#':1}\n",
    "\n",
    "values = [symbols[val] for value in values for val in value]\n",
    "values = np.array(values).reshape(size,size)\n",
    "values"
   ]
  },
  {
   "cell_type": "markdown",
   "metadata": {},
   "source": [
    "## Part I"
   ]
  },
  {
   "cell_type": "code",
   "execution_count": 9,
   "metadata": {},
   "outputs": [],
   "source": [
    "def get_next_step(arr, run):\n",
    "    size = arr.shape[1]\n",
    "    test_next = np.zeros((2*run+1, size+2, size+2))\n",
    "    test_next[1:-1,1:-1,1:-1] = arr.copy()\n",
    "    arr_holder = test_next.copy()\n",
    "    arr_rolling = test_next.copy()\n",
    "    for m in range(-1,2):\n",
    "        for n in range(-1,2):\n",
    "            for o in range(-1,2):\n",
    "                arr_rolling = test_next.copy()\n",
    "                if not (m==0 and n ==0 and o ==0):\n",
    "                    arr_holder += np.roll(np.roll(np.roll(arr_rolling, m, axis =0), n, axis =1), o, axis=2)\n",
    "\n",
    "    arr_holder = arr_holder - test_next\n",
    "    inactive_now_active  = (test_next==0) * (arr_holder==3)\n",
    "    active = test_next * arr_holder \n",
    "    new_active = ((active==2) + (active==3)) + inactive_now_active\n",
    "    return 1*new_active"
   ]
  },
  {
   "cell_type": "code",
   "execution_count": 10,
   "metadata": {},
   "outputs": [],
   "source": [
    "m1 = get_next_step(values, 1)"
   ]
  },
  {
   "cell_type": "code",
   "execution_count": 11,
   "metadata": {},
   "outputs": [],
   "source": [
    "m2 = get_next_step(m1,2)"
   ]
  },
  {
   "cell_type": "code",
   "execution_count": 12,
   "metadata": {},
   "outputs": [],
   "source": [
    "m3 = get_next_step(m2,3)\n",
    "m4 = get_next_step(m3,4)\n",
    "m5 = get_next_step(m4,5)\n",
    "m6 = get_next_step(m5,6)"
   ]
  },
  {
   "cell_type": "code",
   "execution_count": 13,
   "metadata": {},
   "outputs": [
    {
     "data": {
      "text/plain": [
       "304"
      ]
     },
     "execution_count": 13,
     "metadata": {},
     "output_type": "execute_result"
    }
   ],
   "source": [
    "arr = values.copy()\n",
    "for i in range(1,7):\n",
    "    arr = get_next_step(arr,i)\n",
    "np.sum(arr)\n",
    "    "
   ]
  },
  {
   "cell_type": "code",
   "execution_count": 14,
   "metadata": {},
   "outputs": [
    {
     "data": {
      "text/plain": [
       "304"
      ]
     },
     "execution_count": 14,
     "metadata": {},
     "output_type": "execute_result"
    }
   ],
   "source": [
    "np.sum(m6)"
   ]
  },
  {
   "cell_type": "markdown",
   "metadata": {},
   "source": [
    "## Part II"
   ]
  },
  {
   "cell_type": "code",
   "execution_count": 22,
   "metadata": {},
   "outputs": [],
   "source": [
    "def get_next_step_p2(arr, run):\n",
    "    size = arr.shape[1 if run ==1 else 2]\n",
    "    test_next = np.zeros((2*run+1,2*run+1, size+2, size+2))\n",
    "    test_next[1:-1,1:-1,1:-1,1:-1] = arr.copy()\n",
    "    arr_holder = test_next.copy()\n",
    "    arr_rolling = test_next.copy()\n",
    "    for m in range(-1,2):\n",
    "        for n in range(-1,2):\n",
    "            for o in range(-1,2):\n",
    "                for p in range(-1,2):\n",
    "                    arr_rolling = test_next.copy()\n",
    "                    if not (m==0 and n ==0 and o ==0 and p==0):\n",
    "                        arr_holder += np.roll(\n",
    "                                        np.roll(\n",
    "                                            np.roll(\n",
    "                                                np.roll(arr_rolling, m, axis =0),\n",
    "                                                p, axis =1),\n",
    "                                            n, axis =2),\n",
    "                                        o, axis=3)\n",
    "            \n",
    "    arr_holder = arr_holder - test_next\n",
    "\n",
    "\n",
    "    inactive_now_active  = (test_next==0) * (arr_holder==3)\n",
    "    active = test_next * arr_holder \n",
    "    new_active = ((active==2) + (active==3)) + inactive_now_active\n",
    "    return 1*new_active\n",
    "\n",
    "def get_next_step_p2b(arr, run):\n",
    "    ### Same as get_next_step_p2 but using multiroll --> np.roll(arr_rolling, [m,n,o,p], axis=(0,1,2,3))\n",
    "    ### instead of consecutive np.rolls along different axis\n",
    "    size = arr.shape[1 if run ==1 else 2]\n",
    "    test_next = np.zeros((2*run+1,2*run+1, size+2, size+2))\n",
    "    test_next[1:-1,1:-1,1:-1,1:-1] = arr.copy()\n",
    "    arr_holder = test_next.copy()\n",
    "    arr_rolling = test_next.copy()\n",
    "    for m in range(-1,2):\n",
    "        for n in range(-1,2):\n",
    "            for o in range(-1,2):\n",
    "                for p in range(-1,2):\n",
    "                    arr_rolling = test_next.copy()\n",
    "                    if not (m==0 and n ==0 and o ==0 and p==0):\n",
    "                        arr_holder += np.roll(arr_rolling, [m,n,o,p], axis=(0,1,2,3))\n",
    " \n",
    "            \n",
    "    arr_holder = arr_holder - test_next\n",
    "\n",
    "\n",
    "    inactive_now_active  = (test_next==0) * (arr_holder==3)\n",
    "    active = test_next * arr_holder \n",
    "    new_active = ((active==2) + (active==3)) + inactive_now_active\n",
    "    return 1*new_active\n",
    "\n",
    "\n",
    "def solve_2(arr):\n",
    "    \n",
    "    arr = arr.copy()\n",
    "    for i in range(1,7):\n",
    "        arr = get_next_step_p2b(arr,i)\n",
    "    #print(arr.shape )\n",
    "    return np.sum(arr)\n",
    "def day_p2(day):\n",
    "    arr = to_arr(prep_day(day))\n",
    "    return solve_2(arr)"
   ]
  },
  {
   "cell_type": "code",
   "execution_count": 16,
   "metadata": {},
   "outputs": [
    {
     "name": "stdout",
     "output_type": "stream",
     "text": [
      "(13, 13, 20, 20)\n"
     ]
    },
    {
     "data": {
      "text/plain": [
       "1868"
      ]
     },
     "execution_count": 16,
     "metadata": {},
     "output_type": "execute_result"
    }
   ],
   "source": [
    "arr = values.copy()\n",
    "for i in range(1,7):\n",
    "    arr = get_next_step_p2(arr,i)\n",
    "print(arr.shape )\n",
    "np.sum(arr)\n",
    "    "
   ]
  },
  {
   "cell_type": "code",
   "execution_count": 17,
   "metadata": {},
   "outputs": [
    {
     "data": {
      "text/plain": [
       "0.2587451934814453"
      ]
     },
     "execution_count": 17,
     "metadata": {},
     "output_type": "execute_result"
    }
   ],
   "source": [
    "end = time.time()\n",
    "end - start"
   ]
  },
  {
   "cell_type": "code",
   "execution_count": 21,
   "metadata": {},
   "outputs": [
    {
     "name": "stdout",
     "output_type": "stream",
     "text": [
      "(13, 13, 20, 20)\n"
     ]
    },
    {
     "data": {
      "text/plain": [
       "1868"
      ]
     },
     "execution_count": 21,
     "metadata": {},
     "output_type": "execute_result"
    }
   ],
   "source": [
    "arr = values.copy()\n",
    "for i in range(1,7):\n",
    "    arr = get_next_step_p2b(arr,i)\n",
    "print(arr.shape )\n",
    "np.sum(arr)\n",
    "    "
   ]
  },
  {
   "cell_type": "code",
   "execution_count": 23,
   "metadata": {},
   "outputs": [
    {
     "name": "stdout",
     "output_type": "stream",
     "text": [
      "10 loops, best of 5: 32.8 ms per loop\n"
     ]
    }
   ],
   "source": [
    "%%timeit \n",
    "day_p2(17)"
   ]
  },
  {
   "cell_type": "code",
   "execution_count": 24,
   "metadata": {},
   "outputs": [
    {
     "data": {
      "text/plain": [
       "0.047944068908691406"
      ]
     },
     "execution_count": 24,
     "metadata": {},
     "output_type": "execute_result"
    }
   ],
   "source": [
    "start = time.time()\n",
    "day_p2(17)\n",
    "end = time.time()\n",
    "end - start"
   ]
  },
  {
   "cell_type": "code",
   "execution_count": 19,
   "metadata": {},
   "outputs": [
    {
     "name": "stdout",
     "output_type": "stream",
     "text": [
      "304\n",
      "1868\n"
     ]
    },
    {
     "data": {
      "text/plain": [
       "0.48825597763061523"
      ]
     },
     "execution_count": 19,
     "metadata": {},
     "output_type": "execute_result"
    }
   ],
   "source": [
    "start = time.time()\n",
    "## Solution by https://www.reddit.com/user/leijurv/:\n",
    "from collections import Counter\n",
    "\n",
    "def main(dims):\n",
    "\n",
    "    neighbors = [()]\n",
    "    for x in range(dims):\n",
    "        neighbors = [x + (i,) for i in [-1, 0, 1] for x in neighbors]\n",
    "    neighbors.remove(dims * (0,))\n",
    "\n",
    "    state = set((dims - 2) * (0,) + (i, j) for i, v in enumerate(open(file_path).read().splitlines()) for j, v in enumerate(v) if v == '#')\n",
    "\n",
    "    for i in range(6):\n",
    "        state = set(pos for pos, cnt in Counter(tuple(map(sum, zip(pos, n))) for pos in state for n in neighbors).items() if cnt == 3 or pos in state and cnt == 2)\n",
    "\n",
    "    print(len(state))\n",
    "\n",
    "main(dims=3)\n",
    "main(dims=4)\n",
    "\n",
    "\n",
    "end = time.time()\n",
    "end - start"
   ]
  },
  {
   "cell_type": "code",
   "execution_count": 20,
   "metadata": {},
   "outputs": [
    {
     "name": "stdout",
     "output_type": "stream",
     "text": [
      "1868\n",
      "1868\n",
      "1868\n",
      "1868\n",
      "1868\n",
      "1868\n",
      "1 loop, best of 5: 428 ms per loop\n"
     ]
    }
   ],
   "source": [
    "%%timeit\n",
    "main(dims=4)"
   ]
  }
 ],
 "metadata": {
  "kernelspec": {
   "display_name": "Python 3",
   "language": "python",
   "name": "python3"
  },
  "language_info": {
   "codemirror_mode": {
    "name": "ipython",
    "version": 3
   },
   "file_extension": ".py",
   "mimetype": "text/x-python",
   "name": "python",
   "nbconvert_exporter": "python",
   "pygments_lexer": "ipython3",
   "version": "3.7.8"
  }
 },
 "nbformat": 4,
 "nbformat_minor": 4
}
